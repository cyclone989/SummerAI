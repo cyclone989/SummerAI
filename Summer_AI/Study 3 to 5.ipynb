{
 "cells": [
  {
   "cell_type": "code",
   "execution_count": 1,
   "metadata": {},
   "outputs": [
    {
     "name": "stdout",
     "output_type": "stream",
     "text": [
      "Python 버전: 3.7.6 (default, Jan  8 2020, 20:23:39) [MSC v.1916 64 bit (AMD64)]\n",
      "pandas 버전: 1.0.1\n",
      "matplotlib 버전: 3.1.3\n",
      "NumPy 버전: 1.18.1\n",
      "SciPy 버전: 1.4.1\n",
      "IPython 버전: 7.12.0\n",
      "scikit-learn 버전: 0.22.1\n"
     ]
    },
    {
     "name": "stderr",
     "output_type": "stream",
     "text": [
      "Using TensorFlow backend.\n"
     ]
    }
   ],
   "source": [
    "import warnings\n",
    "warnings.filterwarnings('ignore') #파이썬 Warning 무시\n",
    "\n",
    "import tensorflow as tf\n",
    "tf.compat.v1.logging.set_verbosity(tf.compat.v1.logging.ERROR) #텐서플로우 Warning은 무시하고 Error만 출력\n",
    "\n",
    "import sys\n",
    "print(\"Python 버전:\", sys.version)\n",
    "\n",
    "import pandas as pd\n",
    "print(\"pandas 버전:\", pd.__version__)\n",
    "\n",
    "import matplotlib\n",
    "print(\"matplotlib 버전:\", matplotlib.__version__)\n",
    "\n",
    "import numpy as np\n",
    "print(\"NumPy 버전:\", np.__version__)\n",
    "\n",
    "import scipy as sp\n",
    "print(\"SciPy 버전:\", sp.__version__)\n",
    "\n",
    "import IPython\n",
    "print(\"IPython 버전:\", IPython.__version__)\n",
    "\n",
    "import sklearn\n",
    "print(\"scikit-learn 버전:\", sklearn.__version__)\n",
    "\n",
    "import seaborn as sns\n",
    "\n",
    "import matplotlib.pyplot as plt\n",
    "\n",
    "import scipy.stats as stats\n",
    "\n",
    "from sklearn.model_selection import train_test_split\n",
    "\n",
    "import keras\n",
    "from keras.models import Sequential\n",
    "from keras.layers import Dense, Activation\n",
    "\n",
    "import mglearn\n",
    "\n",
    "import platform\n",
    "if platform.system() == 'Windows':\n",
    "    matplotlib.rc('font', family='Malgun Gothic')\n",
    "elif platform.system() == 'Darwin':\n",
    "    matplotlib.rc('font', family='AppleGothic')\n",
    "else:\n",
    "    matplotlib.rc('font', family='NanumGothic')"
   ]
  },
  {
   "cell_type": "code",
   "execution_count": null,
   "metadata": {},
   "outputs": [],
   "source": []
  }
 ],
 "metadata": {
  "kernelspec": {
   "display_name": "Python 3",
   "language": "python",
   "name": "python3"
  },
  "language_info": {
   "codemirror_mode": {
    "name": "ipython",
    "version": 3
   },
   "file_extension": ".py",
   "mimetype": "text/x-python",
   "name": "python",
   "nbconvert_exporter": "python",
   "pygments_lexer": "ipython3",
   "version": "3.7.6"
  }
 },
 "nbformat": 4,
 "nbformat_minor": 4
}
