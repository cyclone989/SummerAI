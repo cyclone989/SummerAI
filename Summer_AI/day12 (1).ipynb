{
 "cells": [
  {
   "cell_type": "code",
   "execution_count": 1,
   "metadata": {},
   "outputs": [],
   "source": [
    "%matplotlib inline\n",
    "import matplotlib.pyplot as plt\n",
    "import seaborn as sns\n",
    "import numpy as np\n",
    "import pandas as pd"
   ]
  },
  {
   "cell_type": "code",
   "execution_count": 2,
   "metadata": {},
   "outputs": [],
   "source": [
    "import tensorflow as tf"
   ]
  },
  {
   "cell_type": "code",
   "execution_count": 3,
   "metadata": {},
   "outputs": [],
   "source": [
    "from tensorflow import keras"
   ]
  },
  {
   "cell_type": "code",
   "execution_count": 4,
   "metadata": {},
   "outputs": [
    {
     "data": {
      "text/plain": [
       "'2.1.0'"
      ]
     },
     "execution_count": 4,
     "metadata": {},
     "output_type": "execute_result"
    }
   ],
   "source": [
    "tf.__version__"
   ]
  },
  {
   "cell_type": "code",
   "execution_count": 5,
   "metadata": {},
   "outputs": [
    {
     "data": {
      "text/plain": [
       "'2.2.4-tf'"
      ]
     },
     "execution_count": 5,
     "metadata": {},
     "output_type": "execute_result"
    }
   ],
   "source": [
    "keras.__version__"
   ]
  },
  {
   "cell_type": "code",
   "execution_count": 6,
   "metadata": {},
   "outputs": [],
   "source": [
    "fashion_mnist = keras.datasets.fashion_mnist"
   ]
  },
  {
   "cell_type": "code",
   "execution_count": 7,
   "metadata": {},
   "outputs": [],
   "source": [
    "(X_train_full, y_train_full), (X_test, y_test) = fashion_mnist.load_data()"
   ]
  },
  {
   "cell_type": "code",
   "execution_count": 8,
   "metadata": {},
   "outputs": [
    {
     "data": {
      "text/plain": [
       "(60000, 28, 28)"
      ]
     },
     "execution_count": 8,
     "metadata": {},
     "output_type": "execute_result"
    }
   ],
   "source": [
    "X_train_full.shape"
   ]
  },
  {
   "cell_type": "code",
   "execution_count": 9,
   "metadata": {},
   "outputs": [
    {
     "data": {
      "text/plain": [
       "dtype('uint8')"
      ]
     },
     "execution_count": 9,
     "metadata": {},
     "output_type": "execute_result"
    }
   ],
   "source": [
    "X_train_full.dtype"
   ]
  },
  {
   "cell_type": "code",
   "execution_count": 10,
   "metadata": {},
   "outputs": [],
   "source": [
    "X_valid, X_train = X_train_full[:5000] / 255.0, X_train_full[5000:] / 255.0"
   ]
  },
  {
   "cell_type": "code",
   "execution_count": 11,
   "metadata": {},
   "outputs": [],
   "source": [
    "y_valid, y_train = y_train_full[:5000], y_train_full[5000:]"
   ]
  },
  {
   "cell_type": "code",
   "execution_count": 12,
   "metadata": {},
   "outputs": [],
   "source": [
    "X_test = X_test / 255.0"
   ]
  },
  {
   "cell_type": "code",
   "execution_count": 13,
   "metadata": {},
   "outputs": [
    {
     "data": {
      "text/plain": [
       "array([[0.        , 0.        , 0.        , 0.        , 0.        ,\n",
       "        0.        , 0.        , 0.        , 0.        , 0.        ,\n",
       "        0.        , 0.        , 0.        , 0.        , 0.        ,\n",
       "        0.        , 0.        , 0.        , 0.        , 0.00392157,\n",
       "        0.        , 0.        , 0.        , 0.        , 0.        ,\n",
       "        0.        , 0.        , 0.        ],\n",
       "       [0.        , 0.        , 0.        , 0.        , 0.        ,\n",
       "        0.        , 0.        , 0.        , 0.        , 0.        ,\n",
       "        0.        , 0.17254902, 0.49803922, 0.71372549, 0.7254902 ,\n",
       "        0.63137255, 0.47058824, 0.21568627, 0.        , 0.        ,\n",
       "        0.        , 0.        , 0.        , 0.        , 0.        ,\n",
       "        0.        , 0.        , 0.        ],\n",
       "       [0.        , 0.        , 0.        , 0.        , 0.        ,\n",
       "        0.        , 0.        , 0.        , 0.        , 0.16470588,\n",
       "        0.77647059, 0.98431373, 1.        , 0.98431373, 0.97647059,\n",
       "        0.96862745, 1.        , 0.98823529, 0.83921569, 0.39215686,\n",
       "        0.        , 0.        , 0.        , 0.        , 0.        ,\n",
       "        0.        , 0.        , 0.        ],\n",
       "       [0.        , 0.        , 0.        , 0.        , 0.        ,\n",
       "        0.        , 0.00784314, 0.        , 0.        , 0.91372549,\n",
       "        0.98823529, 0.92941176, 0.9372549 , 0.91764706, 0.92941176,\n",
       "        0.92156863, 0.92941176, 0.92941176, 0.99607843, 0.89019608,\n",
       "        0.        , 0.        , 0.        , 0.        , 0.00392157,\n",
       "        0.        , 0.        , 0.        ],\n",
       "       [0.        , 0.        , 0.        , 0.        , 0.        ,\n",
       "        0.00784314, 0.        , 0.        , 0.0627451 , 0.82352941,\n",
       "        0.88235294, 0.84313725, 0.68627451, 0.85098039, 0.84705882,\n",
       "        0.75686275, 0.76862745, 0.88627451, 0.86666667, 0.81960784,\n",
       "        0.19607843, 0.        , 0.        , 0.00784314, 0.        ,\n",
       "        0.        , 0.        , 0.        ],\n",
       "       [0.        , 0.        , 0.        , 0.        , 0.00784314,\n",
       "        0.        , 0.        , 0.78039216, 0.89803922, 0.90980392,\n",
       "        0.90196078, 0.96078431, 0.8       , 0.85882353, 0.99215686,\n",
       "        0.96078431, 0.81176471, 0.76078431, 0.8745098 , 0.90588235,\n",
       "        0.9254902 , 0.92156863, 0.        , 0.        , 0.01176471,\n",
       "        0.        , 0.        , 0.        ],\n",
       "       [0.        , 0.        , 0.        , 0.        , 0.00392157,\n",
       "        0.        , 0.5372549 , 0.92156863, 0.8       , 0.81960784,\n",
       "        0.78823529, 0.81960784, 0.91764706, 0.74509804, 0.91764706,\n",
       "        0.85490196, 0.84313725, 0.93333333, 0.9372549 , 0.8       ,\n",
       "        0.74117647, 0.87843137, 0.60392157, 0.        , 0.        ,\n",
       "        0.        , 0.        , 0.        ],\n",
       "       [0.        , 0.        , 0.        , 0.        , 0.        ,\n",
       "        0.        , 0.76078431, 0.78823529, 0.78431373, 0.81960784,\n",
       "        0.79215686, 0.75686275, 0.80392157, 0.76078431, 0.71764706,\n",
       "        0.85490196, 0.90588235, 0.77254902, 0.6745098 , 0.70980392,\n",
       "        0.75686275, 0.80392157, 0.78039216, 0.        , 0.        ,\n",
       "        0.        , 0.        , 0.        ],\n",
       "       [0.        , 0.        , 0.        , 0.        , 0.        ,\n",
       "        0.01176471, 0.83137255, 0.79607843, 0.7372549 , 0.74117647,\n",
       "        0.76862745, 0.77647059, 0.77647059, 0.78823529, 0.76862745,\n",
       "        0.85098039, 0.70196078, 0.65490196, 0.71764706, 0.85098039,\n",
       "        0.77254902, 0.79215686, 0.85882353, 0.11764706, 0.        ,\n",
       "        0.        , 0.        , 0.        ],\n",
       "       [0.        , 0.        , 0.        , 0.        , 0.        ,\n",
       "        0.13333333, 0.88235294, 0.78431373, 0.76078431, 0.74509804,\n",
       "        0.7372549 , 0.75294118, 0.76862745, 0.75294118, 0.66666667,\n",
       "        0.79215686, 0.74509804, 0.78823529, 0.76470588, 0.78431373,\n",
       "        0.78823529, 0.81960784, 0.89019608, 0.19607843, 0.        ,\n",
       "        0.        , 0.        , 0.        ],\n",
       "       [0.        , 0.        , 0.        , 0.        , 0.        ,\n",
       "        0.26666667, 0.88235294, 0.82352941, 0.82745098, 0.77647059,\n",
       "        0.75294118, 0.76862745, 0.8       , 0.76862745, 0.70980392,\n",
       "        0.83137255, 0.77254902, 0.76470588, 0.75294118, 0.80784314,\n",
       "        0.8627451 , 0.82352941, 0.89803922, 0.36470588, 0.        ,\n",
       "        0.        , 0.        , 0.        ],\n",
       "       [0.        , 0.        , 0.        , 0.        , 0.        ,\n",
       "        0.43529412, 0.8745098 , 0.89019608, 0.99215686, 0.81960784,\n",
       "        0.76862745, 0.8       , 0.82745098, 0.80784314, 0.71764706,\n",
       "        0.84705882, 0.80784314, 0.82352941, 0.79607843, 0.84313725,\n",
       "        0.95686275, 0.87843137, 0.89019608, 0.58823529, 0.        ,\n",
       "        0.        , 0.        , 0.        ],\n",
       "       [0.        , 0.        , 0.        , 0.        , 0.        ,\n",
       "        0.54509804, 0.88235294, 0.87843137, 1.        , 0.79215686,\n",
       "        0.80784314, 0.83137255, 0.81960784, 0.82745098, 0.74509804,\n",
       "        0.83529412, 0.79215686, 0.81176471, 0.80784314, 0.87058824,\n",
       "        1.        , 0.90196078, 0.8627451 , 0.74509804, 0.        ,\n",
       "        0.        , 0.        , 0.        ],\n",
       "       [0.        , 0.        , 0.        , 0.        , 0.        ,\n",
       "        0.70588235, 0.88627451, 0.87843137, 1.        , 0.78039216,\n",
       "        0.8       , 0.81176471, 0.83921569, 0.83921569, 0.74509804,\n",
       "        0.84705882, 0.80784314, 0.79607843, 0.80392157, 0.85882353,\n",
       "        0.95294118, 0.87843137, 0.83921569, 0.91764706, 0.        ,\n",
       "        0.        , 0.        , 0.        ],\n",
       "       [0.        , 0.        , 0.        , 0.        , 0.        ,\n",
       "        0.88235294, 0.8745098 , 0.89411765, 0.99607843, 0.81960784,\n",
       "        0.80784314, 0.81568627, 0.83529412, 0.82352941, 0.74901961,\n",
       "        0.84313725, 0.81176471, 0.8       , 0.81568627, 0.82745098,\n",
       "        0.97647059, 0.88627451, 0.83921569, 1.        , 0.14901961,\n",
       "        0.        , 0.        , 0.        ],\n",
       "       [0.        , 0.        , 0.        , 0.        , 0.        ,\n",
       "        0.98039216, 0.90980392, 0.94117647, 0.9372549 , 0.82745098,\n",
       "        0.79607843, 0.81960784, 0.80392157, 0.82745098, 0.77254902,\n",
       "        0.84313725, 0.81568627, 0.81568627, 0.83921569, 0.83529412,\n",
       "        0.9372549 , 0.90588235, 0.85882353, 1.        , 0.31764706,\n",
       "        0.        , 0.        , 0.        ],\n",
       "       [0.        , 0.        , 0.        , 0.        , 0.        ,\n",
       "        0.97254902, 0.9254902 , 0.96862745, 0.94117647, 0.79607843,\n",
       "        0.78431373, 0.81568627, 0.80784314, 0.83921569, 0.75686275,\n",
       "        0.83529412, 0.83137255, 0.81568627, 0.83137255, 0.82745098,\n",
       "        0.95294118, 0.94901961, 0.88235294, 0.99607843, 0.25882353,\n",
       "        0.        , 0.        , 0.        ],\n",
       "       [0.        , 0.        , 0.        , 0.        , 0.        ,\n",
       "        0.96862745, 0.90196078, 0.98823529, 0.88627451, 0.78039216,\n",
       "        0.82745098, 0.79215686, 0.82745098, 0.83529412, 0.71372549,\n",
       "        0.83529412, 0.83137255, 0.80784314, 0.79215686, 0.85882353,\n",
       "        0.81176471, 0.96862745, 0.87058824, 0.92941176, 0.40784314,\n",
       "        0.        , 0.        , 0.        ],\n",
       "       [0.        , 0.        , 0.        , 0.        , 0.03921569,\n",
       "        0.95686275, 0.85882353, 0.98039216, 0.80392157, 0.78039216,\n",
       "        0.81960784, 0.79215686, 0.81960784, 0.82745098, 0.74117647,\n",
       "        0.83921569, 0.80784314, 0.82352941, 0.78431373, 0.83137255,\n",
       "        0.60392157, 0.94117647, 0.81568627, 0.85882353, 0.54901961,\n",
       "        0.        , 0.        , 0.        ],\n",
       "       [0.        , 0.        , 0.        , 0.        , 0.08235294,\n",
       "        1.        , 0.87058824, 0.93333333, 0.72156863, 0.82352941,\n",
       "        0.75294118, 0.80784314, 0.81960784, 0.82352941, 0.74117647,\n",
       "        0.83529412, 0.82745098, 0.81960784, 0.75294118, 0.89411765,\n",
       "        0.60784314, 0.88627451, 0.93333333, 0.94509804, 0.65098039,\n",
       "        0.        , 0.        , 0.        ],\n",
       "       [0.        , 0.        , 0.        , 0.        , 0.14509804,\n",
       "        0.96078431, 0.88627451, 0.94509804, 0.58823529, 0.77254902,\n",
       "        0.74117647, 0.8       , 0.81960784, 0.82352941, 0.71764706,\n",
       "        0.83529412, 0.83529412, 0.78823529, 0.72156863, 0.84313725,\n",
       "        0.57254902, 0.84705882, 0.9254902 , 0.88235294, 0.60392157,\n",
       "        0.        , 0.        , 0.        ],\n",
       "       [0.        , 0.        , 0.        , 0.        , 0.22745098,\n",
       "        0.9372549 , 0.89019608, 1.        , 0.61960784, 0.75686275,\n",
       "        0.76470588, 0.8       , 0.81960784, 0.83529412, 0.70588235,\n",
       "        0.81176471, 0.85098039, 0.78039216, 0.76078431, 0.82745098,\n",
       "        0.61960784, 0.85882353, 0.9254902 , 0.84705882, 0.59215686,\n",
       "        0.        , 0.        , 0.        ],\n",
       "       [0.        , 0.        , 0.        , 0.        , 0.26666667,\n",
       "        0.91372549, 0.88627451, 0.95294118, 0.54509804, 0.78431373,\n",
       "        0.75686275, 0.80392157, 0.82352941, 0.81568627, 0.70588235,\n",
       "        0.80392157, 0.83137255, 0.79607843, 0.76862745, 0.84705882,\n",
       "        0.61568627, 0.70196078, 1.        , 0.84705882, 0.60784314,\n",
       "        0.        , 0.        , 0.        ],\n",
       "       [0.        , 0.        , 0.        , 0.        , 0.31764706,\n",
       "        0.88235294, 0.87843137, 0.82745098, 0.54117647, 0.85882353,\n",
       "        0.7254902 , 0.78823529, 0.83529412, 0.81176471, 0.77254902,\n",
       "        0.88627451, 0.83137255, 0.78431373, 0.74509804, 0.84313725,\n",
       "        0.71764706, 0.35294118, 1.        , 0.82745098, 0.57647059,\n",
       "        0.        , 0.        , 0.        ],\n",
       "       [0.        , 0.        , 0.        , 0.        , 0.35686275,\n",
       "        0.82352941, 0.90196078, 0.61960784, 0.44705882, 0.80392157,\n",
       "        0.73333333, 0.81568627, 0.81960784, 0.80784314, 0.75686275,\n",
       "        0.82352941, 0.82745098, 0.8       , 0.76470588, 0.8       ,\n",
       "        0.70980392, 0.09019608, 1.        , 0.83529412, 0.61960784,\n",
       "        0.        , 0.        , 0.        ],\n",
       "       [0.        , 0.        , 0.        , 0.        , 0.34117647,\n",
       "        0.80392157, 0.90980392, 0.42745098, 0.64313725, 1.        ,\n",
       "        0.83921569, 0.87843137, 0.87058824, 0.82352941, 0.77254902,\n",
       "        0.83921569, 0.88235294, 0.87058824, 0.82745098, 0.8627451 ,\n",
       "        0.85098039, 0.        , 0.91764706, 0.84705882, 0.6627451 ,\n",
       "        0.        , 0.        , 0.        ],\n",
       "       [0.        , 0.        , 0.        , 0.        , 0.36078431,\n",
       "        0.83529412, 0.90980392, 0.57254902, 0.01960784, 0.5254902 ,\n",
       "        0.59215686, 0.63529412, 0.66666667, 0.71764706, 0.71372549,\n",
       "        0.64313725, 0.65098039, 0.69803922, 0.63529412, 0.61176471,\n",
       "        0.38431373, 0.        , 0.94117647, 0.88235294, 0.82352941,\n",
       "        0.        , 0.        , 0.        ],\n",
       "       [0.        , 0.        , 0.        , 0.        , 0.16862745,\n",
       "        0.64313725, 0.80784314, 0.55294118, 0.        , 0.        ,\n",
       "        0.        , 0.        , 0.        , 0.        , 0.        ,\n",
       "        0.        , 0.        , 0.        , 0.        , 0.        ,\n",
       "        0.        , 0.        , 0.49803922, 0.49019608, 0.29803922,\n",
       "        0.        , 0.        , 0.        ]])"
      ]
     },
     "execution_count": 13,
     "metadata": {},
     "output_type": "execute_result"
    }
   ],
   "source": [
    "X_train[0]"
   ]
  },
  {
   "cell_type": "code",
   "execution_count": 14,
   "metadata": {},
   "outputs": [
    {
     "data": {
      "image/png": "[encoded data removed]",
      "text/plain": [
       "<Figure size 432x288 with 1 Axes>"
      ]
     },
     "metadata": {
      "needs_background": "light"
     },
     "output_type": "display_data"
    }
   ],
   "source": [
    "plt.imshow(X_train[0], cmap='binary')\n",
    "plt.axis('off')\n",
    "plt.show()"
   ]
  },
  {
   "cell_type": "code",
   "execution_count": 15,
   "metadata": {},
   "outputs": [
    {
     "data": {
      "text/plain": [
       "array([4, 0, 7, ..., 3, 0, 5], dtype=uint8)"
      ]
     },
     "execution_count": 15,
     "metadata": {},
     "output_type": "execute_result"
    }
   ],
   "source": [
    "y_train"
   ]
  },
  {
   "cell_type": "code",
   "execution_count": 16,
   "metadata": {},
   "outputs": [],
   "source": [
    "class_names = [\"T-shit/top\", \"Trouser\", \"Pullover\", \"Dress\", \"Coat\",\n",
    "              \"Sandal\", \"Shirt\", \"Sneaker\", \"Bag\", \"Ankle boot\"]"
   ]
  },
  {
   "cell_type": "code",
   "execution_count": 17,
   "metadata": {},
   "outputs": [
    {
     "data": {
      "text/plain": [
       "'Coat'"
      ]
     },
     "execution_count": 17,
     "metadata": {},
     "output_type": "execute_result"
    }
   ],
   "source": [
    "class_names[y_train[0]]  # [4]"
   ]
  },
  {
   "cell_type": "code",
   "execution_count": 18,
   "metadata": {},
   "outputs": [
    {
     "data": {
      "text/plain": [
       "(5000, 28, 28)"
      ]
     },
     "execution_count": 18,
     "metadata": {},
     "output_type": "execute_result"
    }
   ],
   "source": [
    "X_valid.shape"
   ]
  },
  {
   "cell_type": "code",
   "execution_count": 19,
   "metadata": {},
   "outputs": [
    {
     "data": {
      "text/plain": [
       "(10000, 28, 28)"
      ]
     },
     "execution_count": 19,
     "metadata": {},
     "output_type": "execute_result"
    }
   ],
   "source": [
    "X_test.shape"
   ]
  },
  {
   "cell_type": "code",
   "execution_count": 20,
   "metadata": {},
   "outputs": [
    {
     "data": {
      "image/png": "[encoded data removed]",
      "text/plain": [
       "<Figure size 864x345.6 with 40 Axes>"
      ]
     },
     "metadata": {
      "needs_background": "light"
     },
     "output_type": "display_data"
    }
   ],
   "source": [
    "n_rows = 4\n",
    "n_cols = 10\n",
    "plt.figure(figsize=(n_cols * 1.2, n_rows * 1.2))\n",
    "for row in range(n_rows):\n",
    "    for col in range(n_cols):\n",
    "        index = n_cols * row + col\n",
    "        plt.subplot(n_rows, n_cols, index+1)\n",
    "        plt.imshow(X_train[index], cmap='binary', interpolation='nearest')\n",
    "        plt.axis('off')\n",
    "        plt.title(class_names[y_train[index]], fontsize=12)\n",
    "plt.subplots_adjust(wspace=0.2, hspace=0.5)\n",
    "plt.show()"
   ]
  },
  {
   "cell_type": "code",
   "execution_count": 21,
   "metadata": {},
   "outputs": [],
   "source": [
    "model = keras.models.Sequential()\n",
    "model.add(keras.layers.Flatten(input_shape=[28,28]))  # ==> 784\n",
    "model.add(keras.layers.Dense(300, activation='relu'))\n",
    "model.add(keras.layers.Dense(100, activation='relu'))\n",
    "model.add(keras.layers.Dense(10, activation='softmax'))"
   ]
  },
  {
   "cell_type": "code",
   "execution_count": 22,
   "metadata": {},
   "outputs": [],
   "source": [
    "keras.backend.clear_session()"
   ]
  },
  {
   "cell_type": "code",
   "execution_count": 23,
   "metadata": {},
   "outputs": [],
   "source": [
    "np.random.seed(42)\n",
    "tf.random.set_seed(42)"
   ]
  },
  {
   "cell_type": "code",
   "execution_count": 24,
   "metadata": {},
   "outputs": [
    {
     "data": {
      "text/plain": [
       "[<tensorflow.python.keras.layers.core.Flatten at 0x1e0b8cb93c8>,\n",
       " <tensorflow.python.keras.layers.core.Dense at 0x1e0d3797fd0>,\n",
       " <tensorflow.python.keras.layers.core.Dense at 0x1e0d3965be0>,\n",
       " <tensorflow.python.keras.layers.core.Dense at 0x1e0d39585f8>]"
      ]
     },
     "execution_count": 24,
     "metadata": {},
     "output_type": "execute_result"
    }
   ],
   "source": [
    "model.layers"
   ]
  },
  {
   "cell_type": "code",
   "execution_count": 25,
   "metadata": {},
   "outputs": [
    {
     "name": "stdout",
     "output_type": "stream",
     "text": [
      "Model: \"sequential\"\n",
      "_________________________________________________________________\n",
      "Layer (type)                 Output Shape              Param #   \n",
      "=================================================================\n",
      "flatten (Flatten)            (None, 784)               0         \n",
      "_________________________________________________________________\n",
      "dense (Dense)                (None, 300)               235500    \n",
      "_________________________________________________________________\n",
      "dense_1 (Dense)              (None, 100)               30100     \n",
      "_________________________________________________________________\n",
      "dense_2 (Dense)              (None, 10)                1010      \n",
      "=================================================================\n",
      "Total params: 266,610\n",
      "Trainable params: 266,610\n",
      "Non-trainable params: 0\n",
      "_________________________________________________________________\n"
     ]
    }
   ],
   "source": [
    "model.summary()"
   ]
  },
  {
   "cell_type": "code",
   "execution_count": 26,
   "metadata": {},
   "outputs": [],
   "source": [
    "# ! conda install graphviz -y\n",
    "# ! conda install pydot -y\n",
    "# ! conda install python-graphviz -y"
   ]
  },
  {
   "cell_type": "code",
   "execution_count": 27,
   "metadata": {},
   "outputs": [
    {
     "name": "stdout",
     "output_type": "stream",
     "text": [
      "Failed to import pydot. You must install pydot and graphviz for `pydotprint` to work.\n"
     ]
    }
   ],
   "source": [
    "keras.utils.plot_model(model, \"my_fashion_mnist_model.png\", show_shapes=True)"
   ]
  },
  {
   "cell_type": "code",
   "execution_count": 28,
   "metadata": {},
   "outputs": [],
   "source": [
    "hidden1 = model.layers[1]"
   ]
  },
  {
   "cell_type": "code",
   "execution_count": 29,
   "metadata": {},
   "outputs": [
    {
     "data": {
      "text/plain": [
       "'dense'"
      ]
     },
     "execution_count": 29,
     "metadata": {},
     "output_type": "execute_result"
    }
   ],
   "source": [
    "hidden1.name"
   ]
  },
  {
   "cell_type": "code",
   "execution_count": 30,
   "metadata": {},
   "outputs": [],
   "source": [
    "weights, biases = hidden1.get_weights()"
   ]
  },
  {
   "cell_type": "code",
   "execution_count": 31,
   "metadata": {},
   "outputs": [
    {
     "data": {
      "text/plain": [
       "array([[-0.04038127, -0.04976836, -0.06590045, ..., -0.04702529,\n",
       "         0.05915691, -0.06596284],\n",
       "       [-0.03382726,  0.02876679, -0.04734139, ...,  0.04755606,\n",
       "        -0.0364277 , -0.05605409],\n",
       "       [ 0.04619209,  0.05146372, -0.05879166, ...,  0.0637109 ,\n",
       "        -0.02918177, -0.02007945],\n",
       "       ...,\n",
       "       [-0.03704232,  0.07168089,  0.05223852, ...,  0.06906299,\n",
       "        -0.07351095,  0.06744127],\n",
       "       [ 0.02383405,  0.0309064 ,  0.03188834, ...,  0.06095605,\n",
       "         0.02565167, -0.0521073 ],\n",
       "       [-0.00102863, -0.05402172, -0.06967431, ...,  0.06450135,\n",
       "         0.03021227, -0.02496143]], dtype=float32)"
      ]
     },
     "execution_count": 31,
     "metadata": {},
     "output_type": "execute_result"
    }
   ],
   "source": [
    "weights"
   ]
  },
  {
   "cell_type": "code",
   "execution_count": 32,
   "metadata": {},
   "outputs": [
    {
     "data": {
      "text/plain": [
       "(784, 300)"
      ]
     },
     "execution_count": 32,
     "metadata": {},
     "output_type": "execute_result"
    }
   ],
   "source": [
    "weights.shape"
   ]
  },
  {
   "cell_type": "code",
   "execution_count": 33,
   "metadata": {},
   "outputs": [
    {
     "data": {
      "text/plain": [
       "array([0., 0., 0., 0., 0., 0., 0., 0., 0., 0., 0., 0., 0., 0., 0., 0., 0.,\n",
       "       0., 0., 0., 0., 0., 0., 0., 0., 0., 0., 0., 0., 0., 0., 0., 0., 0.,\n",
       "       0., 0., 0., 0., 0., 0., 0., 0., 0., 0., 0., 0., 0., 0., 0., 0., 0.,\n",
       "       0., 0., 0., 0., 0., 0., 0., 0., 0., 0., 0., 0., 0., 0., 0., 0., 0.,\n",
       "       0., 0., 0., 0., 0., 0., 0., 0., 0., 0., 0., 0., 0., 0., 0., 0., 0.,\n",
       "       0., 0., 0., 0., 0., 0., 0., 0., 0., 0., 0., 0., 0., 0., 0., 0., 0.,\n",
       "       0., 0., 0., 0., 0., 0., 0., 0., 0., 0., 0., 0., 0., 0., 0., 0., 0.,\n",
       "       0., 0., 0., 0., 0., 0., 0., 0., 0., 0., 0., 0., 0., 0., 0., 0., 0.,\n",
       "       0., 0., 0., 0., 0., 0., 0., 0., 0., 0., 0., 0., 0., 0., 0., 0., 0.,\n",
       "       0., 0., 0., 0., 0., 0., 0., 0., 0., 0., 0., 0., 0., 0., 0., 0., 0.,\n",
       "       0., 0., 0., 0., 0., 0., 0., 0., 0., 0., 0., 0., 0., 0., 0., 0., 0.,\n",
       "       0., 0., 0., 0., 0., 0., 0., 0., 0., 0., 0., 0., 0., 0., 0., 0., 0.,\n",
       "       0., 0., 0., 0., 0., 0., 0., 0., 0., 0., 0., 0., 0., 0., 0., 0., 0.,\n",
       "       0., 0., 0., 0., 0., 0., 0., 0., 0., 0., 0., 0., 0., 0., 0., 0., 0.,\n",
       "       0., 0., 0., 0., 0., 0., 0., 0., 0., 0., 0., 0., 0., 0., 0., 0., 0.,\n",
       "       0., 0., 0., 0., 0., 0., 0., 0., 0., 0., 0., 0., 0., 0., 0., 0., 0.,\n",
       "       0., 0., 0., 0., 0., 0., 0., 0., 0., 0., 0., 0., 0., 0., 0., 0., 0.,\n",
       "       0., 0., 0., 0., 0., 0., 0., 0., 0., 0., 0.], dtype=float32)"
      ]
     },
     "execution_count": 33,
     "metadata": {},
     "output_type": "execute_result"
    }
   ],
   "source": [
    "biases"
   ]
  },
  {
   "cell_type": "code",
   "execution_count": 34,
   "metadata": {},
   "outputs": [
    {
     "data": {
      "text/plain": [
       "(300,)"
      ]
     },
     "execution_count": 34,
     "metadata": {},
     "output_type": "execute_result"
    }
   ],
   "source": [
    "biases.shape"
   ]
  },
  {
   "cell_type": "code",
   "execution_count": 35,
   "metadata": {},
   "outputs": [],
   "source": [
    "model.compile(loss=\"sparse_categorical_crossentropy\",\n",
    "             optimizer=\"sgd\", metrics=[\"accuracy\"])"
   ]
  },
  {
   "cell_type": "code",
   "execution_count": 36,
   "metadata": {},
   "outputs": [
    {
     "name": "stdout",
     "output_type": "stream",
     "text": [
      "Train on 55000 samples, validate on 5000 samples\n",
      "Epoch 1/30\n",
      "55000/55000 [==============================] - 3s 63us/sample - loss: 0.7054 - accuracy: 0.7689 - val_loss: 0.5075 - val_accuracy: 0.8298\n",
      "Epoch 2/30\n",
      "55000/55000 [==============================] - 3s 58us/sample - loss: 0.4864 - accuracy: 0.8303 - val_loss: 0.4600 - val_accuracy: 0.8418\n",
      "Epoch 3/30\n",
      "55000/55000 [==============================] - 3s 60us/sample - loss: 0.4439 - accuracy: 0.8447 - val_loss: 0.4380 - val_accuracy: 0.8514\n",
      "Epoch 4/30\n",
      "55000/55000 [==============================] - 3s 59us/sample - loss: 0.4158 - accuracy: 0.8528 - val_loss: 0.4158 - val_accuracy: 0.8618\n",
      "Epoch 5/30\n",
      "55000/55000 [==============================] - 3s 59us/sample - loss: 0.3961 - accuracy: 0.8604 - val_loss: 0.3826 - val_accuracy: 0.8660\n",
      "Epoch 6/30\n",
      "55000/55000 [==============================] - 3s 58us/sample - loss: 0.3800 - accuracy: 0.8668 - val_loss: 0.3767 - val_accuracy: 0.8700\n",
      "Epoch 7/30\n",
      "55000/55000 [==============================] - 3s 60us/sample - loss: 0.3654 - accuracy: 0.8708 - val_loss: 0.3688 - val_accuracy: 0.8720\n",
      "Epoch 8/30\n",
      "55000/55000 [==============================] - 3s 59us/sample - loss: 0.3543 - accuracy: 0.8745 - val_loss: 0.3689 - val_accuracy: 0.8690\n",
      "Epoch 9/30\n",
      "55000/55000 [==============================] - 3s 58us/sample - loss: 0.3448 - accuracy: 0.8764 - val_loss: 0.3433 - val_accuracy: 0.8794\n",
      "Epoch 10/30\n",
      "55000/55000 [==============================] - 3s 58us/sample - loss: 0.3354 - accuracy: 0.8793 - val_loss: 0.3493 - val_accuracy: 0.8716\n",
      "Epoch 11/30\n",
      "55000/55000 [==============================] - 3s 60us/sample - loss: 0.3265 - accuracy: 0.8831 - val_loss: 0.3364 - val_accuracy: 0.8824\n",
      "Epoch 12/30\n",
      "55000/55000 [==============================] - 3s 58us/sample - loss: 0.3178 - accuracy: 0.8861 - val_loss: 0.3317 - val_accuracy: 0.8822\n",
      "Epoch 13/30\n",
      "55000/55000 [==============================] - 3s 58us/sample - loss: 0.3096 - accuracy: 0.8892 - val_loss: 0.3371 - val_accuracy: 0.8760\n",
      "Epoch 14/30\n",
      "55000/55000 [==============================] - 3s 58us/sample - loss: 0.3035 - accuracy: 0.8907 - val_loss: 0.3217 - val_accuracy: 0.8842\n",
      "Epoch 15/30\n",
      "55000/55000 [==============================] - 3s 60us/sample - loss: 0.2969 - accuracy: 0.8922 - val_loss: 0.3151 - val_accuracy: 0.8878\n",
      "Epoch 16/30\n",
      "55000/55000 [==============================] - 3s 58us/sample - loss: 0.2911 - accuracy: 0.8948 - val_loss: 0.3209 - val_accuracy: 0.8844\n",
      "Epoch 17/30\n",
      "55000/55000 [==============================] - 3s 58us/sample - loss: 0.2847 - accuracy: 0.8973 - val_loss: 0.3161 - val_accuracy: 0.8894\n",
      "Epoch 18/30\n",
      "55000/55000 [==============================] - 3s 58us/sample - loss: 0.2792 - accuracy: 0.8988 - val_loss: 0.3061 - val_accuracy: 0.8920\n",
      "Epoch 19/30\n",
      "55000/55000 [==============================] - 3s 58us/sample - loss: 0.2737 - accuracy: 0.9009 - val_loss: 0.3187 - val_accuracy: 0.8830\n",
      "Epoch 20/30\n",
      "55000/55000 [==============================] - 3s 58us/sample - loss: 0.2685 - accuracy: 0.9030 - val_loss: 0.3120 - val_accuracy: 0.8866\n",
      "Epoch 21/30\n",
      "55000/55000 [==============================] - 3s 59us/sample - loss: 0.2642 - accuracy: 0.9045 - val_loss: 0.2985 - val_accuracy: 0.8920\n",
      "Epoch 22/30\n",
      "55000/55000 [==============================] - 3s 59us/sample - loss: 0.2583 - accuracy: 0.9065 - val_loss: 0.3094 - val_accuracy: 0.8872\n",
      "Epoch 23/30\n",
      "55000/55000 [==============================] - 3s 59us/sample - loss: 0.2541 - accuracy: 0.9079 - val_loss: 0.3036 - val_accuracy: 0.8896\n",
      "Epoch 24/30\n",
      "55000/55000 [==============================] - 3s 59us/sample - loss: 0.2497 - accuracy: 0.9102 - val_loss: 0.3102 - val_accuracy: 0.8828\n",
      "Epoch 25/30\n",
      "55000/55000 [==============================] - 3s 58us/sample - loss: 0.2458 - accuracy: 0.9119 - val_loss: 0.3055 - val_accuracy: 0.8864\n",
      "Epoch 26/30\n",
      "55000/55000 [==============================] - 3s 59us/sample - loss: 0.2408 - accuracy: 0.9134 - val_loss: 0.3269 - val_accuracy: 0.8846\n",
      "Epoch 27/30\n",
      "55000/55000 [==============================] - 3s 59us/sample - loss: 0.2372 - accuracy: 0.9143 - val_loss: 0.3071 - val_accuracy: 0.8864\n",
      "Epoch 28/30\n",
      "55000/55000 [==============================] - 3s 58us/sample - loss: 0.2323 - accuracy: 0.9169 - val_loss: 0.2949 - val_accuracy: 0.8906\n",
      "Epoch 29/30\n",
      "55000/55000 [==============================] - 3s 59us/sample - loss: 0.2285 - accuracy: 0.9190 - val_loss: 0.3022 - val_accuracy: 0.8884\n",
      "Epoch 30/30\n",
      "55000/55000 [==============================] - 3s 60us/sample - loss: 0.2261 - accuracy: 0.9184 - val_loss: 0.2944 - val_accuracy: 0.8898\n",
      "Wall time: 1min 37s\n"
     ]
    }
   ],
   "source": [
    "%%time\n",
    "hist = model.fit(X_train, y_train, epochs=30, validation_data=(X_valid, y_valid))\n",
    "# Epoch 30/30\n",
    "# 55000/55000 [==============================] - 7s 135us/sample - loss: 0.2283 - accuracy: 0.9178 - val_loss: 0.2856 - val_accuracy: 0.8966\n",
    "# Wall time: 3min 35s"
   ]
  },
  {
   "cell_type": "code",
   "execution_count": 37,
   "metadata": {},
   "outputs": [
    {
     "data": {
      "text/plain": [
       "{'batch_size': 32,\n",
       " 'epochs': 30,\n",
       " 'steps': 1719,\n",
       " 'samples': 55000,\n",
       " 'verbose': 0,\n",
       " 'do_validation': True,\n",
       " 'metrics': ['loss', 'accuracy', 'val_loss', 'val_accuracy']}"
      ]
     },
     "execution_count": 37,
     "metadata": {},
     "output_type": "execute_result"
    }
   ],
   "source": [
    "hist.params"
   ]
  },
  {
   "cell_type": "code",
   "execution_count": 38,
   "metadata": {},
   "outputs": [
    {
     "name": "stdout",
     "output_type": "stream",
     "text": [
      "[0, 1, 2, 3, 4, 5, 6, 7, 8, 9, 10, 11, 12, 13, 14, 15, 16, 17, 18, 19, 20, 21, 22, 23, 24, 25, 26, 27, 28, 29]\n"
     ]
    }
   ],
   "source": [
    "print(hist.epoch)"
   ]
  },
  {
   "cell_type": "code",
   "execution_count": 39,
   "metadata": {},
   "outputs": [
    {
     "data": {
      "text/plain": [
       "dict_keys(['loss', 'accuracy', 'val_loss', 'val_accuracy'])"
      ]
     },
     "execution_count": 39,
     "metadata": {},
     "output_type": "execute_result"
    }
   ],
   "source": [
    "hist.history.keys()"
   ]
  },
  {
   "cell_type": "code",
   "execution_count": 40,
   "metadata": {},
   "outputs": [
    {
     "data": {
      "image/png": "[encoded data removed]",
      "text/plain": [
       "<Figure size 576x360 with 1 Axes>"
      ]
     },
     "metadata": {
      "needs_background": "light"
     },
     "output_type": "display_data"
    }
   ],
   "source": [
    "pd.DataFrame(hist.history).plot(figsize=(8,5))\n",
    "plt.show()"
   ]
  },
  {
   "cell_type": "code",
   "execution_count": 41,
   "metadata": {},
   "outputs": [
    {
     "name": "stdout",
     "output_type": "stream",
     "text": [
      "10000/10000 [==============================] - 0s 24us/sample - loss: 0.3309 - accuracy: 0.8837\n"
     ]
    },
    {
     "data": {
      "text/plain": [
       "[0.3308595157623291, 0.8837]"
      ]
     },
     "execution_count": 41,
     "metadata": {},
     "output_type": "execute_result"
    }
   ],
   "source": [
    "model.evaluate(X_test, y_test)\n",
    "# [0.32513083802461623, 0.8841], [loss, accuracy]"
   ]
  },
  {
   "cell_type": "code",
   "execution_count": 42,
   "metadata": {},
   "outputs": [
    {
     "data": {
      "text/plain": [
       "array([[0.  , 0.  , 0.  , 0.  , 0.  , 0.  , 0.  , 0.01, 0.  , 0.99],\n",
       "       [0.  , 0.  , 0.99, 0.  , 0.01, 0.  , 0.  , 0.  , 0.  , 0.  ],\n",
       "       [0.  , 1.  , 0.  , 0.  , 0.  , 0.  , 0.  , 0.  , 0.  , 0.  ]],\n",
       "      dtype=float32)"
      ]
     },
     "execution_count": 42,
     "metadata": {},
     "output_type": "execute_result"
    }
   ],
   "source": [
    "X_new = X_test[:3]\n",
    "y_proba = model.predict(X_new)\n",
    "y_proba.round(2)\n",
    "\n",
    "#        [0   , 1  ,  2  ,  3  ,  4  ,  5  ,  6  ,  7,    8  ,  9]\n",
    "# array([[0.  , 0.  , 0.  , 0.  , 0.  , 0.  , 0.  , 0.02, 0.  , 0.98],\n",
    "#        [0.  , 0.  , 1.  , 0.  , 0.  , 0.  , 0.  , 0.  , 0.  , 0.  ],\n",
    "#        [0.  , 1.  , 0.  , 0.  , 0.  , 0.  , 0.  , 0.  , 0.  , 0.  ]],\n",
    "#       dtype=float32)"
   ]
  },
  {
   "cell_type": "code",
   "execution_count": 43,
   "metadata": {},
   "outputs": [
    {
     "data": {
      "text/plain": [
       "array([9, 2, 1], dtype=int64)"
      ]
     },
     "execution_count": 43,
     "metadata": {},
     "output_type": "execute_result"
    }
   ],
   "source": [
    "y_pred = model.predict_classes(X_new)\n",
    "y_pred\n",
    "# array([9, 2, 1], dtype=int64)"
   ]
  },
  {
   "cell_type": "code",
   "execution_count": 44,
   "metadata": {},
   "outputs": [
    {
     "data": {
      "text/plain": [
       "array(['Ankle boot', 'Pullover', 'Trouser'], dtype='<U10')"
      ]
     },
     "execution_count": 44,
     "metadata": {},
     "output_type": "execute_result"
    }
   ],
   "source": [
    "np.array(class_names)[y_pred]\n",
    "# array(['Ankle boot', 'Pullover', 'Trouser'], dtype='<U10')"
   ]
  },
  {
   "cell_type": "code",
   "execution_count": 45,
   "metadata": {},
   "outputs": [
    {
     "data": {
      "text/plain": [
       "array([9, 2, 1], dtype=uint8)"
      ]
     },
     "execution_count": 45,
     "metadata": {},
     "output_type": "execute_result"
    }
   ],
   "source": [
    "y_new = y_test[:3]\n",
    "y_new\n",
    "# array([9, 2, 1], dtype=uint8)"
   ]
  },
  {
   "cell_type": "code",
   "execution_count": 46,
   "metadata": {},
   "outputs": [
    {
     "data": {
      "image/png": "[encoded data removed]",
      "text/plain": [
       "<Figure size 518.4x172.8 with 3 Axes>"
      ]
     },
     "metadata": {
      "needs_background": "light"
     },
     "output_type": "display_data"
    }
   ],
   "source": [
    "plt.figure(figsize=(7.2, 2.4))\n",
    "for index, image in enumerate(X_new):\n",
    "    plt.subplot(1, 3, index+1)\n",
    "    plt.imshow(image, cmap='binary', interpolation=\"nearest\")\n",
    "    plt.axis(\"off\")\n",
    "    plt.title(class_names[y_test[index]], fontsize=12)\n",
    "plt.subplots_adjust(wspace=0.2, hspace=0.5)\n",
    "plt.show()"
   ]
  },
  {
   "cell_type": "code",
   "execution_count": 47,
   "metadata": {},
   "outputs": [],
   "source": [
    "# 회귀(regression)"
   ]
  },
  {
   "cell_type": "code",
   "execution_count": 48,
   "metadata": {},
   "outputs": [],
   "source": [
    "# ! conda install scikit-learn==0.21.2 -y"
   ]
  },
  {
   "cell_type": "code",
   "execution_count": 49,
   "metadata": {},
   "outputs": [],
   "source": [
    "from sklearn.datasets import fetch_california_housing"
   ]
  },
  {
   "cell_type": "code",
   "execution_count": 50,
   "metadata": {},
   "outputs": [],
   "source": [
    "from sklearn.model_selection import train_test_split"
   ]
  },
  {
   "cell_type": "code",
   "execution_count": 51,
   "metadata": {},
   "outputs": [],
   "source": [
    "from sklearn.preprocessing import StandardScaler"
   ]
  },
  {
   "cell_type": "code",
   "execution_count": 72,
   "metadata": {},
   "outputs": [],
   "source": [
    "housing = fetch_california_housing()"
   ]
  },
  {
   "cell_type": "code",
   "execution_count": 73,
   "metadata": {},
   "outputs": [],
   "source": [
    "X_train_full, X_test, y_train_full, y_test = train_test_split(\n",
    "    housing.data, housing.target, random_state=42)"
   ]
  },
  {
   "cell_type": "code",
   "execution_count": 74,
   "metadata": {},
   "outputs": [],
   "source": [
    "X_train, X_valid, y_train, y_valid = train_test_split(\n",
    "    X_train_full, y_train_full, random_state=42)"
   ]
  },
  {
   "cell_type": "code",
   "execution_count": 75,
   "metadata": {},
   "outputs": [],
   "source": [
    "scaler = StandardScaler()"
   ]
  },
  {
   "cell_type": "code",
   "execution_count": 76,
   "metadata": {},
   "outputs": [],
   "source": [
    "X_train = scaler.fit_transform(X_train)"
   ]
  },
  {
   "cell_type": "code",
   "execution_count": 77,
   "metadata": {},
   "outputs": [],
   "source": [
    "X_valid = scaler.transform(X_valid)"
   ]
  },
  {
   "cell_type": "code",
   "execution_count": 78,
   "metadata": {},
   "outputs": [],
   "source": [
    "X_test = scaler.transform(X_test)"
   ]
  },
  {
   "cell_type": "code",
   "execution_count": 79,
   "metadata": {},
   "outputs": [],
   "source": [
    "np.random.seed(42)"
   ]
  },
  {
   "cell_type": "code",
   "execution_count": 80,
   "metadata": {},
   "outputs": [],
   "source": [
    "tf.random.set_seed(42)"
   ]
  },
  {
   "cell_type": "code",
   "execution_count": 81,
   "metadata": {},
   "outputs": [],
   "source": [
    "model = keras.models.Sequential([\n",
    "        keras.layers.Dense(30, activation='relu', input_shape=X_train.shape[1:]),\n",
    "        keras.layers.Dense(1)\n",
    "])"
   ]
  },
  {
   "cell_type": "code",
   "execution_count": 82,
   "metadata": {},
   "outputs": [
    {
     "name": "stdout",
     "output_type": "stream",
     "text": [
      "Model: \"sequential_1\"\n",
      "_________________________________________________________________\n",
      "Layer (type)                 Output Shape              Param #   \n",
      "=================================================================\n",
      "dense_2 (Dense)              (None, 30)                270       \n",
      "_________________________________________________________________\n",
      "dense_3 (Dense)              (None, 1)                 31        \n",
      "=================================================================\n",
      "Total params: 301\n",
      "Trainable params: 301\n",
      "Non-trainable params: 0\n",
      "_________________________________________________________________\n"
     ]
    }
   ],
   "source": [
    "model.summary()"
   ]
  },
  {
   "cell_type": "code",
   "execution_count": 83,
   "metadata": {},
   "outputs": [],
   "source": [
    "model.compile(loss='mse', optimizer=keras.optimizers.SGD(lr=1e-3)) # lr == learning rate"
   ]
  },
  {
   "cell_type": "code",
   "execution_count": 84,
   "metadata": {},
   "outputs": [
    {
     "name": "stdout",
     "output_type": "stream",
     "text": [
      "Train on 11610 samples, validate on 3870 samples\n",
      "Epoch 1/20\n",
      "11610/11610 [==============================] - 1s 46us/sample - loss: 1.6205 - val_loss: 2.0374\n",
      "Epoch 2/20\n",
      "11610/11610 [==============================] - 0s 26us/sample - loss: 0.7162 - val_loss: 0.6571\n",
      "Epoch 3/20\n",
      "11610/11610 [==============================] - 0s 27us/sample - loss: 0.6356 - val_loss: 0.5996\n",
      "Epoch 4/20\n",
      "11610/11610 [==============================] - 0s 26us/sample - loss: 0.5989 - val_loss: 0.5662\n",
      "Epoch 5/20\n",
      "11610/11610 [==============================] - 0s 26us/sample - loss: 0.5713 - val_loss: 0.5489\n",
      "Epoch 6/20\n",
      "11610/11610 [==============================] - 0s 26us/sample - loss: 0.5491 - val_loss: 0.5204\n",
      "Epoch 7/20\n",
      "11610/11610 [==============================] - 0s 25us/sample - loss: 0.5301 - val_loss: 0.5018\n",
      "Epoch 8/20\n",
      "11610/11610 [==============================] - 0s 26us/sample - loss: 0.5142 - val_loss: 0.4815\n",
      "Epoch 9/20\n",
      "11610/11610 [==============================] - 0s 26us/sample - loss: 0.5004 - val_loss: 0.4695\n",
      "Epoch 10/20\n",
      "11610/11610 [==============================] - 0s 24us/sample - loss: 0.4883 - val_loss: 0.4605\n",
      "Epoch 11/20\n",
      "11610/11610 [==============================] - 0s 26us/sample - loss: 0.4786 - val_loss: 0.4495\n",
      "Epoch 12/20\n",
      "11610/11610 [==============================] - 0s 25us/sample - loss: 0.4697 - val_loss: 0.4382\n",
      "Epoch 13/20\n",
      "11610/11610 [==============================] - 0s 26us/sample - loss: 0.4621 - val_loss: 0.4309\n",
      "Epoch 14/20\n",
      "11610/11610 [==============================] - 0s 26us/sample - loss: 0.4556 - val_loss: 0.4247\n",
      "Epoch 15/20\n",
      "11610/11610 [==============================] - 0s 25us/sample - loss: 0.4497 - val_loss: 0.4200\n",
      "Epoch 16/20\n",
      "11610/11610 [==============================] - 0s 27us/sample - loss: 0.4443 - val_loss: 0.4149\n",
      "Epoch 17/20\n",
      "11610/11610 [==============================] - 0s 26us/sample - loss: 0.4397 - val_loss: 0.4108\n",
      "Epoch 18/20\n",
      "11610/11610 [==============================] - 0s 26us/sample - loss: 0.4354 - val_loss: 0.4059\n",
      "Epoch 19/20\n",
      "11610/11610 [==============================] - 0s 29us/sample - loss: 0.4315 - val_loss: 0.4003\n",
      "Epoch 20/20\n",
      "11610/11610 [==============================] - 0s 26us/sample - loss: 0.4281 - val_loss: 0.3981\n",
      "Wall time: 6.3 s\n"
     ]
    }
   ],
   "source": [
    "%%time\n",
    "hist = model.fit(X_train, y_train, epochs=20, validation_data=(X_valid, y_valid))"
   ]
  },
  {
   "cell_type": "code",
   "execution_count": 85,
   "metadata": {},
   "outputs": [
    {
     "name": "stdout",
     "output_type": "stream",
     "text": [
      "5160/5160 [==============================] - 0s 12us/sample - loss: 0.4218\n"
     ]
    }
   ],
   "source": [
    "mse_test = model.evaluate(X_test, y_test)"
   ]
  },
  {
   "cell_type": "code",
   "execution_count": 93,
   "metadata": {},
   "outputs": [
    {
     "data": {
      "text/plain": [
       "0.42177125668340876"
      ]
     },
     "execution_count": 93,
     "metadata": {},
     "output_type": "execute_result"
    }
   ],
   "source": [
    "mse_test"
   ]
  },
  {
   "cell_type": "code",
   "execution_count": 86,
   "metadata": {},
   "outputs": [],
   "source": [
    "X_new = X_test[:3]"
   ]
  },
  {
   "cell_type": "code",
   "execution_count": 87,
   "metadata": {},
   "outputs": [
    {
     "data": {
      "text/plain": [
       "array([[-1.15780104, -0.28673138, -0.49550877, -0.16618097, -0.02946012,\n",
       "         0.38899735,  0.19374821,  0.2870474 ],\n",
       "       [-0.7125531 ,  0.10880952, -0.16332973,  0.20164652,  0.12842117,\n",
       "        -0.11818174, -0.23725261,  0.06215231],\n",
       "       [-0.2156101 ,  1.8491895 , -0.57982788,  0.18528489, -0.10429403,\n",
       "        -0.67694905,  1.00890193, -1.4271529 ]])"
      ]
     },
     "execution_count": 87,
     "metadata": {},
     "output_type": "execute_result"
    }
   ],
   "source": [
    "X_new"
   ]
  },
  {
   "cell_type": "code",
   "execution_count": 88,
   "metadata": {},
   "outputs": [],
   "source": [
    "y_pred = model.predict(X_new)"
   ]
  },
  {
   "cell_type": "code",
   "execution_count": 89,
   "metadata": {},
   "outputs": [
    {
     "data": {
      "text/plain": [
       "array([[0.37310117],\n",
       "       [1.6790794 ],\n",
       "       [3.0817142 ]], dtype=float32)"
      ]
     },
     "execution_count": 89,
     "metadata": {},
     "output_type": "execute_result"
    }
   ],
   "source": [
    "y_pred"
   ]
  },
  {
   "cell_type": "code",
   "execution_count": 90,
   "metadata": {},
   "outputs": [
    {
     "data": {
      "image/png": "[encoded data removed]",
      "text/plain": [
       "<Figure size 432x288 with 1 Axes>"
      ]
     },
     "metadata": {
      "needs_background": "light"
     },
     "output_type": "display_data"
    }
   ],
   "source": [
    "plt.plot(pd.DataFrame(hist.history))\n",
    "plt.gca().set_ylim(0, 1)\n",
    "plt.show()"
   ]
  },
  {
   "cell_type": "code",
   "execution_count": 104,
   "metadata": {},
   "outputs": [],
   "source": [
    "# 함수형 api"
   ]
  },
  {
   "cell_type": "code",
   "execution_count": 105,
   "metadata": {},
   "outputs": [],
   "source": [
    "np.random.seed(42)\n",
    "tf.random.set_seed(42)"
   ]
  },
  {
   "cell_type": "code",
   "execution_count": 106,
   "metadata": {},
   "outputs": [],
   "source": [
    "keras.backend.clear_session()"
   ]
  },
  {
   "cell_type": "code",
   "execution_count": 107,
   "metadata": {},
   "outputs": [],
   "source": [
    "input_ = keras.layers.Input(shape=X_train.shape[1:])\n",
    "hidden1 = keras.layers.Dense(30, activation='relu')(input_)\n",
    "hidden2 = keras.layers.Dense(30, activation='relu')(hidden1)\n",
    "concat = keras.layers.concatenate([input_, hidden2])\n",
    "output = keras.layers.Dense(1)(concat)\n",
    "model = keras.models.Model(inputs=[input_], outputs=[output])"
   ]
  },
  {
   "cell_type": "code",
   "execution_count": 108,
   "metadata": {},
   "outputs": [
    {
     "name": "stdout",
     "output_type": "stream",
     "text": [
      "Model: \"model\"\n",
      "__________________________________________________________________________________________________\n",
      "Layer (type)                    Output Shape         Param #     Connected to                     \n",
      "==================================================================================================\n",
      "input_1 (InputLayer)            [(None, 8)]          0                                            \n",
      "__________________________________________________________________________________________________\n",
      "dense (Dense)                   (None, 30)           270         input_1[0][0]                    \n",
      "__________________________________________________________________________________________________\n",
      "dense_1 (Dense)                 (None, 30)           930         dense[0][0]                      \n",
      "__________________________________________________________________________________________________\n",
      "concatenate (Concatenate)       (None, 38)           0           input_1[0][0]                    \n",
      "                                                                 dense_1[0][0]                    \n",
      "__________________________________________________________________________________________________\n",
      "dense_2 (Dense)                 (None, 1)            39          concatenate[0][0]                \n",
      "==================================================================================================\n",
      "Total params: 1,239\n",
      "Trainable params: 1,239\n",
      "Non-trainable params: 0\n",
      "__________________________________________________________________________________________________\n"
     ]
    }
   ],
   "source": [
    "model.summary()"
   ]
  },
  {
   "cell_type": "code",
   "execution_count": 109,
   "metadata": {},
   "outputs": [],
   "source": [
    "model.compile(loss='mse', optimizer=keras.optimizers.SGD(lr=1e-3))"
   ]
  },
  {
   "cell_type": "code",
   "execution_count": 110,
   "metadata": {},
   "outputs": [
    {
     "name": "stdout",
     "output_type": "stream",
     "text": [
      "Train on 11610 samples, validate on 3870 samples\n",
      "Epoch 1/20\n",
      "11610/11610 [==============================] - 1s 50us/sample - loss: 1.2390 - val_loss: 0.6566\n",
      "Epoch 2/20\n",
      "11610/11610 [==============================] - 0s 28us/sample - loss: 0.6312 - val_loss: 0.6734\n",
      "Epoch 3/20\n",
      "11610/11610 [==============================] - 0s 30us/sample - loss: 0.5886 - val_loss: 0.5574\n",
      "Epoch 4/20\n",
      "11610/11610 [==============================] - 0s 29us/sample - loss: 0.5595 - val_loss: 0.5235\n",
      "Epoch 5/20\n",
      "11610/11610 [==============================] - 0s 29us/sample - loss: 0.5361 - val_loss: 0.5011\n",
      "Epoch 6/20\n",
      "11610/11610 [==============================] - 0s 27us/sample - loss: 0.5178 - val_loss: 0.5065\n",
      "Epoch 7/20\n",
      "11610/11610 [==============================] - 0s 27us/sample - loss: 0.5016 - val_loss: 0.4699\n",
      "Epoch 8/20\n",
      "11610/11610 [==============================] - 0s 27us/sample - loss: 0.4888 - val_loss: 0.4745\n",
      "Epoch 9/20\n",
      "11610/11610 [==============================] - 0s 29us/sample - loss: 0.4772 - val_loss: 0.4425\n",
      "Epoch 10/20\n",
      "11610/11610 [==============================] - 0s 29us/sample - loss: 0.4673 - val_loss: 0.4384\n",
      "Epoch 11/20\n",
      "11610/11610 [==============================] - 0s 28us/sample - loss: 0.4586 - val_loss: 0.4533\n",
      "Epoch 12/20\n",
      "11610/11610 [==============================] - 0s 29us/sample - loss: 0.4504 - val_loss: 0.4179\n",
      "Epoch 13/20\n",
      "11610/11610 [==============================] - 0s 30us/sample - loss: 0.4435 - val_loss: 0.4137\n",
      "Epoch 14/20\n",
      "11610/11610 [==============================] - 0s 29us/sample - loss: 0.4376 - val_loss: 0.4062\n",
      "Epoch 15/20\n",
      "11610/11610 [==============================] - 0s 29us/sample - loss: 0.4318 - val_loss: 0.4541\n",
      "Epoch 16/20\n",
      "11610/11610 [==============================] - 0s 27us/sample - loss: 0.4266 - val_loss: 0.3952\n",
      "Epoch 17/20\n",
      "11610/11610 [==============================] - 0s 27us/sample - loss: 0.4221 - val_loss: 0.3910\n",
      "Epoch 18/20\n",
      "11610/11610 [==============================] - 0s 27us/sample - loss: 0.4173 - val_loss: 0.4205\n",
      "Epoch 19/20\n",
      "11610/11610 [==============================] - 0s 27us/sample - loss: 0.4132 - val_loss: 0.3830\n",
      "Epoch 20/20\n",
      "11610/11610 [==============================] - 0s 28us/sample - loss: 0.4096 - val_loss: 0.3923\n",
      "Wall time: 6.89 s\n"
     ]
    },
    {
     "data": {
      "text/plain": [
       "<tensorflow.python.keras.callbacks.History at 0x1e0d9b84c18>"
      ]
     },
     "execution_count": 110,
     "metadata": {},
     "output_type": "execute_result"
    }
   ],
   "source": [
    "%%time\n",
    "model.fit(X_train, y_train, epochs=20, validation_data=(X_valid, y_valid))"
   ]
  },
  {
   "cell_type": "code",
   "execution_count": 111,
   "metadata": {},
   "outputs": [
    {
     "name": "stdout",
     "output_type": "stream",
     "text": [
      "5160/5160 [==============================] - 0s 15us/sample - loss: 0.4042\n"
     ]
    }
   ],
   "source": [
    "mse_test = model.evaluate(X_test, y_test)"
   ]
  },
  {
   "cell_type": "code",
   "execution_count": 113,
   "metadata": {},
   "outputs": [
    {
     "data": {
      "text/plain": [
       "array([[0.47253639],\n",
       "       [1.8545786 ],\n",
       "       [3.3418884 ]], dtype=float32)"
      ]
     },
     "execution_count": 113,
     "metadata": {},
     "output_type": "execute_result"
    }
   ],
   "source": [
    "y_pred = model.predict(X_new)\n",
    "y_pred"
   ]
  },
  {
   "cell_type": "code",
   "execution_count": 114,
   "metadata": {},
   "outputs": [],
   "source": [
    "np.random.seed(42)\n",
    "tf.random.set_seed(42)"
   ]
  },
  {
   "cell_type": "code",
   "execution_count": 115,
   "metadata": {},
   "outputs": [],
   "source": [
    "model = keras.models.Sequential([\n",
    "    keras.layers.Dense(30, activation='relu', input_shape=[8]),\n",
    "    keras.layers.Dense(30, activation='relu'),\n",
    "    keras.layers.Dense(1)\n",
    "])"
   ]
  },
  {
   "cell_type": "code",
   "execution_count": 116,
   "metadata": {},
   "outputs": [],
   "source": [
    "model.compile(loss='mse', optimizer=keras.optimizers.SGD(lr=1e-3))"
   ]
  },
  {
   "cell_type": "code",
   "execution_count": 118,
   "metadata": {},
   "outputs": [
    {
     "name": "stdout",
     "output_type": "stream",
     "text": [
      "Train on 11610 samples, validate on 3870 samples\n",
      "Epoch 1/10\n",
      "11610/11610 [==============================] - 0s 27us/sample - loss: 0.6903 - val_loss: 0.9814\n",
      "Epoch 2/10\n",
      "11610/11610 [==============================] - 0s 27us/sample - loss: 0.5981 - val_loss: 0.5847\n",
      "Epoch 3/10\n",
      "11610/11610 [==============================] - 0s 27us/sample - loss: 0.5554 - val_loss: 0.5306\n",
      "Epoch 4/10\n",
      "11610/11610 [==============================] - 0s 29us/sample - loss: 0.5274 - val_loss: 0.5004\n",
      "Epoch 5/10\n",
      "11610/11610 [==============================] - 0s 27us/sample - loss: 0.5036 - val_loss: 0.5383\n",
      "Epoch 6/10\n",
      "11610/11610 [==============================] - 0s 27us/sample - loss: 0.4863 - val_loss: 0.4526\n",
      "Epoch 7/10\n",
      "11610/11610 [==============================] - 0s 27us/sample - loss: 0.4701 - val_loss: 0.4425\n",
      "Epoch 8/10\n",
      "11610/11610 [==============================] - 0s 27us/sample - loss: 0.4580 - val_loss: 0.4322\n",
      "Epoch 9/10\n",
      "11610/11610 [==============================] - 0s 27us/sample - loss: 0.4473 - val_loss: 0.4277\n",
      "Epoch 10/10\n",
      "11610/11610 [==============================] - 0s 27us/sample - loss: 0.4389 - val_loss: 0.4103\n",
      "Wall time: 3.21 s\n"
     ]
    }
   ],
   "source": [
    "%%time\n",
    "hist = model.fit(X_train, y_train, epochs=10, validation_data=(X_valid, y_valid))"
   ]
  },
  {
   "cell_type": "code",
   "execution_count": 119,
   "metadata": {},
   "outputs": [
    {
     "name": "stdout",
     "output_type": "stream",
     "text": [
      "5160/5160 [==============================] - 0s 13us/sample - loss: 0.4302\n"
     ]
    }
   ],
   "source": [
    "mse_test = model.evaluate(X_test, y_test)"
   ]
  },
  {
   "cell_type": "code",
   "execution_count": 120,
   "metadata": {},
   "outputs": [],
   "source": [
    "model.save(\"my_keras_model.h5\")"
   ]
  },
  {
   "cell_type": "code",
   "execution_count": 121,
   "metadata": {},
   "outputs": [],
   "source": [
    "model = keras.models.load_model(\"my_keras_model.h5\")"
   ]
  },
  {
   "cell_type": "code",
   "execution_count": 122,
   "metadata": {},
   "outputs": [
    {
     "data": {
      "text/plain": [
       "array([[0.5340375],\n",
       "       [1.6889803],\n",
       "       [3.057781 ]], dtype=float32)"
      ]
     },
     "execution_count": 122,
     "metadata": {},
     "output_type": "execute_result"
    }
   ],
   "source": [
    "model.predict(X_new)"
   ]
  },
  {
   "cell_type": "code",
   "execution_count": 125,
   "metadata": {},
   "outputs": [],
   "source": [
    "model.save_weights(\"my_keras_weights.ckpt\")"
   ]
  },
  {
   "cell_type": "code",
   "execution_count": 126,
   "metadata": {},
   "outputs": [
    {
     "data": {
      "text/plain": [
       "<tensorflow.python.training.tracking.util.CheckpointLoadStatus at 0x1e0b6773630>"
      ]
     },
     "execution_count": 126,
     "metadata": {},
     "output_type": "execute_result"
    }
   ],
   "source": [
    "model.load_weights(\"my_keras_weights.ckpt\")"
   ]
  },
  {
   "cell_type": "code",
   "execution_count": 127,
   "metadata": {},
   "outputs": [
    {
     "data": {
      "text/plain": [
       "<tensorflow.python.keras.engine.sequential.Sequential at 0x1e0b66376a0>"
      ]
     },
     "execution_count": 127,
     "metadata": {},
     "output_type": "execute_result"
    }
   ],
   "source": [
    "model"
   ]
  },
  {
   "cell_type": "code",
   "execution_count": 128,
   "metadata": {
    "scrolled": true
   },
   "outputs": [
    {
     "data": {
      "text/plain": [
       "[<tf.Variable 'dense_3_1/kernel:0' shape=(8, 30) dtype=float32, numpy=\n",
       " array([[ 0.15667705, -0.0007787 , -0.1119658 , -0.13845617, -0.37613183,\n",
       "          0.08834749,  0.2047377 ,  0.38958013, -0.14272591, -0.32160357,\n",
       "         -0.16474263,  0.1720392 , -0.23700859,  0.06831226,  0.12291494,\n",
       "          0.39945844, -0.27476487,  0.0031381 ,  0.06003917, -0.27924764,\n",
       "          0.17689066, -0.00590228, -0.28959322,  0.29231524,  0.14892223,\n",
       "         -0.09545671,  0.09296145, -0.20349735,  0.28935796,  0.05703921],\n",
       "        [ 0.34072047, -0.16882065,  0.2430051 , -0.02603088, -0.0165198 ,\n",
       "         -0.20242089,  0.2609368 ,  0.23585266, -0.15245296,  0.1240295 ,\n",
       "         -0.19297984,  0.17667729,  0.41815907, -0.35254362,  0.2205449 ,\n",
       "          0.09728137,  0.05544778, -0.25777546,  0.1885762 , -0.13840702,\n",
       "          0.06786091, -0.01242388,  0.4061833 ,  0.12897006, -0.16011858,\n",
       "          0.31147265, -0.03545516, -0.26906663,  0.21120398, -0.12544562],\n",
       "        [-0.15792753, -0.14653885,  0.08386286,  0.1703129 ,  0.01597599,\n",
       "         -0.2630841 , -0.2929822 ,  0.1456415 ,  0.39855796,  0.08108105,\n",
       "         -0.14872417, -0.094652  , -0.05354417, -0.2532134 ,  0.01799982,\n",
       "          0.23756753,  0.34144294, -0.15880612,  0.08388927,  0.36796942,\n",
       "         -0.31522495, -0.15596357,  0.3643607 , -0.2894504 , -0.14201386,\n",
       "         -0.2013522 , -0.39796904,  0.33264458,  0.11282541,  0.07367836],\n",
       "        [-0.24849574,  0.19923772, -0.1151826 , -0.38975763, -0.27637252,\n",
       "          0.26820818,  0.36109364, -0.2553962 , -0.31593516,  0.03558426,\n",
       "         -0.11341678,  0.00151933,  0.10385716,  0.24622294, -0.22850645,\n",
       "         -0.14673716,  0.11936717, -0.3248839 ,  0.30421263,  0.3444285 ,\n",
       "          0.09089613, -0.03051983, -0.26767796, -0.05007597,  0.34321913,\n",
       "          0.22802109,  0.1293159 ,  0.11085875, -0.10184911, -0.03350604],\n",
       "        [-0.3249315 , -0.25211418, -0.24819842,  0.20615442,  0.16156647,\n",
       "         -0.19633345,  0.10628635,  0.07641827,  0.31017047, -0.26601753,\n",
       "         -0.3043347 , -0.18797618, -0.0009827 ,  0.18701853, -0.00321456,\n",
       "          0.11671887,  0.03347153, -0.18556683,  0.30942887,  0.28879663,\n",
       "          0.21341823, -0.00159189, -0.2196457 , -0.23149176,  0.13522327,\n",
       "          0.05006186, -0.12060211,  0.30649805,  0.32327998,  0.29638094],\n",
       "        [ 0.22920448, -0.43800473,  0.34276515,  0.2757344 , -0.127228  ,\n",
       "         -0.28475636,  0.20476574,  0.08878434, -0.27956706,  0.34543467,\n",
       "         -0.06265949, -0.2919396 , -0.09096215,  0.00773652,  0.0980271 ,\n",
       "          0.21117745, -0.24015449,  0.27035087, -0.19628355,  0.18681599,\n",
       "         -0.36362606,  0.20465499, -0.19198878, -0.48397014, -0.02444524,\n",
       "          0.09158069,  0.07342672, -0.35874885, -0.32019797, -0.1400953 ],\n",
       "        [ 0.08739053, -0.35694483, -0.15290889, -0.09019477,  0.17747578,\n",
       "         -0.08871955, -0.23014548, -0.445572  ,  0.05232647, -0.01870051,\n",
       "          0.27468255, -0.12211805, -0.33832997, -0.31290075, -0.40124106,\n",
       "         -0.12722562, -0.37665215,  0.20289107,  0.10513659, -0.01406767,\n",
       "          0.20912446,  0.4422258 ,  0.2032436 , -0.10551738,  0.09415118,\n",
       "          0.3002922 , -0.26535553, -0.07408074,  0.27047035, -0.37946334],\n",
       "        [ 0.3323179 , -0.25192118, -0.12290926,  0.38262707, -0.25528684,\n",
       "          0.24017206, -0.36037767, -0.36381203,  0.20561272,  0.37926015,\n",
       "          0.03291005, -0.09828464, -0.05364121, -0.21416947,  0.33982387,\n",
       "         -0.43402255,  0.18808137, -0.39778346, -0.17153537, -0.20338133,\n",
       "          0.10884172,  0.23707938,  0.2911867 , -0.03343904, -0.16699809,\n",
       "          0.24167734, -0.3930028 ,  0.15375024,  0.07959231, -0.04935908]],\n",
       "       dtype=float32)>,\n",
       " <tf.Variable 'dense_3_1/bias:0' shape=(30,) dtype=float32, numpy=\n",
       " array([ 0.0249199 ,  0.1491636 ,  0.00644604, -0.00997543, -0.05545902,\n",
       "        -0.02246032,  0.08420771,  0.24690665,  0.01514133, -0.00664663,\n",
       "         0.01761596, -0.05696945,  0.04621711,  0.0565251 ,  0.08904291,\n",
       "         0.1953703 ,  0.05626372,  0.03044933, -0.08681954, -0.01985037,\n",
       "         0.03712886,  0.07230992,  0.03477127,  0.2299269 ,  0.0351521 ,\n",
       "         0.02358229,  0.06152241,  0.05965201, -0.04010204,  0.11426745],\n",
       "       dtype=float32)>,\n",
       " <tf.Variable 'dense_4_1/kernel:0' shape=(30, 30) dtype=float32, numpy=\n",
       " array([[ 9.29406732e-02, -2.07110122e-02,  2.80165285e-01,\n",
       "         -1.57934427e-01,  1.29671201e-01,  2.49812469e-01,\n",
       "          2.82578588e-01,  1.80054918e-01, -9.88410562e-02,\n",
       "          1.06917461e-02, -1.52442232e-01,  1.24560438e-01,\n",
       "         -2.54577667e-01,  2.27836464e-02,  1.25570565e-01,\n",
       "          2.38458037e-01, -1.06493548e-01, -2.49095932e-01,\n",
       "         -3.19997482e-02,  2.18173221e-01, -2.35205412e-01,\n",
       "         -2.40235791e-01,  1.11975195e-02,  2.80623823e-01,\n",
       "          2.63045043e-01,  2.11541131e-02,  6.74254596e-02,\n",
       "          2.15651020e-01,  2.25598380e-01,  2.44664371e-01],\n",
       "        [-2.54621804e-01,  1.70418508e-02, -9.92924906e-04,\n",
       "          1.06948979e-01,  1.98774859e-01,  2.49967352e-01,\n",
       "         -8.88278186e-02,  2.26846129e-01,  7.06326962e-03,\n",
       "         -1.42692812e-02, -6.19665161e-02,  6.29983917e-02,\n",
       "         -2.04261780e-01, -2.02024311e-01,  3.20229918e-01,\n",
       "         -2.77703434e-01,  3.39430235e-02,  4.06674743e-01,\n",
       "         -2.40380224e-02,  3.06980431e-01, -1.63991496e-01,\n",
       "         -2.47611582e-01,  1.27028744e-03,  1.07235812e-01,\n",
       "         -2.03566566e-01,  3.14546704e-01,  1.41679034e-01,\n",
       "          2.21229792e-01, -1.70711279e-01,  1.98866934e-01],\n",
       "        [-2.97394246e-01,  1.82897300e-01,  2.09363937e-01,\n",
       "         -2.26452291e-01,  2.22648799e-01,  2.98433721e-01,\n",
       "          9.25685689e-02,  4.89997976e-02,  7.75978416e-02,\n",
       "          2.23481610e-01, -2.13886216e-01, -2.50531673e-01,\n",
       "          7.18935281e-02,  6.54908717e-02,  7.76757896e-02,\n",
       "          1.46069350e-02,  2.02479616e-01, -2.07989097e-01,\n",
       "         -1.95378706e-01, -2.41104841e-01, -2.25124434e-01,\n",
       "          2.26675853e-01,  2.56704062e-01, -6.99783734e-04,\n",
       "          2.29958400e-01,  1.21787973e-01,  1.53778754e-02,\n",
       "         -8.53048414e-02,  8.55883807e-02,  2.09747419e-01],\n",
       "        [-6.11937866e-02, -1.28576890e-01,  2.67639458e-01,\n",
       "         -1.87739760e-01, -8.70688781e-02,  5.79092167e-02,\n",
       "          2.66504019e-01,  1.73380867e-01, -2.57665932e-01,\n",
       "          2.63901144e-01, -4.26512435e-02, -1.05954155e-01,\n",
       "         -2.35310048e-02,  1.83423951e-01,  7.11037144e-02,\n",
       "          3.09068635e-02,  2.63638645e-01, -2.42483377e-01,\n",
       "          2.23101258e-01, -1.56006157e-01, -2.36229837e-01,\n",
       "          6.11829758e-02, -3.12892705e-01,  2.13332459e-01,\n",
       "         -8.02661926e-02,  1.47231415e-01, -2.86819547e-01,\n",
       "         -5.38937096e-03, -6.59537837e-02, -4.55141328e-02],\n",
       "        [-1.46653742e-01,  1.43866479e-01, -2.03003846e-02,\n",
       "          2.08049994e-02,  2.80738592e-01,  1.40352426e-02,\n",
       "          2.54606724e-01, -2.40847185e-01,  1.60752624e-01,\n",
       "          2.65801638e-01,  2.62844771e-01,  1.35977715e-01,\n",
       "         -1.02865614e-01,  2.51636207e-01, -8.03759247e-02,\n",
       "          4.76995483e-02,  3.10180545e-01,  7.58181438e-02,\n",
       "          2.46709540e-01,  1.16644554e-01, -1.01237565e-01,\n",
       "         -6.70119077e-02, -7.77193308e-02,  2.81308025e-01,\n",
       "          1.45259313e-02, -1.91921398e-01, -1.51833922e-01,\n",
       "          1.23861015e-01,  1.99465916e-01, -2.14867637e-01],\n",
       "        [-4.84520383e-02, -7.74082616e-02, -5.80918901e-02,\n",
       "          2.56954908e-01,  2.93489784e-01,  1.78738479e-02,\n",
       "         -1.42440945e-01,  8.27561468e-02,  2.53662199e-01,\n",
       "          5.03626317e-02, -2.98732519e-02, -1.46801889e-01,\n",
       "          2.22222134e-01,  1.83293909e-01, -1.99254975e-01,\n",
       "          5.23552473e-04,  3.35464105e-02,  2.47263774e-01,\n",
       "         -1.49687558e-01,  1.97178781e-01, -1.05533034e-01,\n",
       "          7.61820301e-02, -1.39382973e-01,  2.66583502e-01,\n",
       "          2.89385885e-01, -8.91262740e-02, -1.73712283e-01,\n",
       "          2.17373431e-01, -2.01676846e-01,  2.71881253e-01],\n",
       "        [ 1.76506177e-01,  8.32721964e-02, -2.35163961e-02,\n",
       "         -2.78718591e-01, -2.78051406e-01,  8.70711729e-03,\n",
       "         -6.06736094e-02, -2.91825324e-01, -1.74780101e-01,\n",
       "          1.08960167e-01, -2.40144566e-01, -1.16795391e-01,\n",
       "          1.85080856e-01, -4.83291596e-02, -4.52980883e-02,\n",
       "          8.04117769e-02, -2.45999038e-01, -1.27276048e-01,\n",
       "         -1.55216888e-01, -2.32371449e-01,  2.09875107e-01,\n",
       "          2.79926240e-01,  2.50089675e-01,  4.03359532e-02,\n",
       "         -1.68287098e-01,  1.38815209e-01,  1.92511708e-01,\n",
       "         -1.83698967e-01, -3.83317657e-02,  2.87480563e-01],\n",
       "        [-1.44804090e-01,  1.79100752e-01, -1.18719786e-01,\n",
       "         -2.31570005e-01,  5.97039722e-02, -7.63957016e-03,\n",
       "         -3.45597230e-02, -1.91811502e-01,  1.55579165e-01,\n",
       "          2.71108061e-01, -3.36646102e-02,  2.41988912e-01,\n",
       "          2.50950128e-01,  1.28652960e-01,  3.05208355e-01,\n",
       "          2.89703280e-01, -7.66193792e-02,  2.31776372e-01,\n",
       "          7.46257827e-02,  8.26521888e-02,  2.24730626e-01,\n",
       "         -4.68496382e-02,  2.32229427e-01, -2.35192373e-01,\n",
       "         -1.37195453e-01,  2.31987596e-01, -1.54469848e-01,\n",
       "         -2.64237791e-01,  5.91103174e-02, -1.93528771e-01],\n",
       "        [-2.98742890e-01, -6.69900849e-02,  4.03238945e-02,\n",
       "         -6.92250282e-02,  2.20153511e-01,  2.24045292e-01,\n",
       "         -2.96184480e-01,  1.86163887e-01,  1.75732642e-01,\n",
       "          1.80506304e-01, -5.42671382e-02,  1.42059952e-01,\n",
       "          1.67212054e-01, -1.63808063e-01, -2.84991384e-01,\n",
       "         -2.04581961e-01, -1.21474281e-01,  1.73328787e-01,\n",
       "         -1.42463446e-01, -6.44083545e-02, -3.11184645e-01,\n",
       "          1.12058729e-01,  2.60319889e-01,  2.41844565e-01,\n",
       "         -2.25084379e-01, -2.06229668e-02, -6.46603433e-03,\n",
       "          1.00468002e-01,  1.85549542e-01, -1.94084182e-01],\n",
       "        [-1.35869071e-01, -1.28342360e-01,  2.93726653e-01,\n",
       "          2.19681054e-01,  1.65033549e-01, -6.37757480e-02,\n",
       "          2.60620266e-01,  1.40662445e-03, -3.04345340e-02,\n",
       "          1.22122699e-02,  2.29553640e-01,  1.87166572e-01,\n",
       "         -2.76202440e-01, -1.97476536e-01, -3.15983117e-01,\n",
       "         -7.29810074e-02,  7.87095949e-02, -2.69733012e-01,\n",
       "         -2.56303936e-01,  1.34713322e-01, -1.22347139e-01,\n",
       "         -2.54678845e-01, -1.86844394e-02, -9.85490680e-02,\n",
       "          7.36764297e-02, -2.55675972e-01, -1.50949821e-01,\n",
       "          1.32047042e-01, -1.10121302e-01,  2.59037733e-01],\n",
       "        [-1.52890846e-01, -2.58225292e-01,  1.06687717e-01,\n",
       "          6.50905669e-02, -8.71019736e-02, -8.67842734e-02,\n",
       "         -9.58724543e-02,  2.23559842e-01, -1.45018384e-01,\n",
       "          1.42076641e-01, -6.21540435e-02,  1.92885250e-01,\n",
       "          8.30683261e-02, -1.57477647e-01, -1.55002907e-01,\n",
       "          7.23712444e-02, -4.05700505e-02,  7.66704902e-02,\n",
       "          4.57374975e-02,  3.54052857e-02,  2.81630158e-01,\n",
       "          1.31826811e-02, -1.77150920e-01, -2.12021142e-01,\n",
       "         -2.43062615e-01, -1.26301944e-01, -2.35503748e-01,\n",
       "          8.21347162e-02, -2.02505454e-01, -2.81697899e-01],\n",
       "        [ 3.39842111e-01, -2.57448077e-01,  2.25411937e-01,\n",
       "         -1.10737965e-01,  1.13512039e-01, -1.17248788e-01,\n",
       "          2.71814525e-01, -1.22069262e-01, -1.15799300e-01,\n",
       "          3.23106319e-01, -1.02529757e-01,  1.95978973e-02,\n",
       "          1.24154553e-01, -2.11629346e-01, -9.91964936e-02,\n",
       "         -2.19962478e-01,  1.09642334e-01, -2.27600828e-01,\n",
       "         -2.34309539e-01, -9.58963335e-02, -3.01448941e-01,\n",
       "          2.99906433e-01, -6.39832765e-02, -2.12756559e-01,\n",
       "         -5.71175702e-02, -3.94099802e-02,  5.80127686e-02,\n",
       "         -2.61354566e-01, -2.68615961e-01, -3.24293733e-01],\n",
       "        [ 1.71521112e-01,  2.58003235e-01,  3.62403467e-02,\n",
       "         -4.69268672e-02,  1.41148359e-01,  1.51332960e-01,\n",
       "         -2.16160581e-01,  6.76215813e-02, -9.41633955e-02,\n",
       "         -2.25227952e-01,  2.81505793e-01,  6.19214922e-02,\n",
       "          1.61141753e-01,  1.22358374e-01, -2.02559419e-02,\n",
       "          2.23793685e-01,  6.03401996e-02, -4.86677699e-02,\n",
       "          1.78472742e-01,  3.31280977e-01,  1.01963125e-01,\n",
       "          2.22613379e-01, -7.72501826e-02,  2.83942163e-01,\n",
       "          6.85224012e-02,  1.88392386e-01, -8.18352327e-02,\n",
       "          1.12072945e-01, -1.25631914e-01,  1.04359038e-01],\n",
       "        [ 1.30341323e-02,  3.38305682e-01,  2.58322001e-01,\n",
       "          1.70985922e-01,  1.12829439e-01, -2.49605671e-01,\n",
       "         -1.34901285e-01,  1.32933900e-01, -1.01449952e-01,\n",
       "         -3.76562849e-02,  2.19829842e-01,  4.75866310e-02,\n",
       "         -2.46909335e-01, -6.07990101e-02, -5.34798466e-02,\n",
       "         -8.67960416e-03,  2.02180415e-01,  3.62244360e-02,\n",
       "          5.58173284e-03,  1.55679375e-01,  3.17339271e-01,\n",
       "         -1.80416241e-01, -2.32837111e-01,  1.74026415e-01,\n",
       "          1.94822073e-01,  2.14316517e-01,  1.94036633e-01,\n",
       "          1.38190454e-02, -1.37378693e-01, -1.57324821e-01],\n",
       "        [ 9.07611921e-02, -2.82815784e-01,  6.72971755e-02,\n",
       "          1.99092522e-01,  1.39469206e-01, -1.76209211e-01,\n",
       "         -8.73817429e-02, -1.05330706e-01,  2.02859163e-01,\n",
       "         -2.24009052e-01, -1.35556564e-01, -3.67604718e-02,\n",
       "         -2.77401507e-01, -4.50143144e-02, -3.05118978e-01,\n",
       "         -2.29397744e-01, -9.82709676e-02, -1.75269675e-02,\n",
       "         -2.18748868e-01,  2.67931104e-01, -2.85949796e-01,\n",
       "         -1.55646324e-01,  1.39934614e-01, -3.55933756e-02,\n",
       "          2.54358980e-03,  3.09186012e-01,  2.05061793e-01,\n",
       "         -9.74586159e-02, -2.35223427e-01, -3.17175299e-01],\n",
       "        [ 2.15038121e-01, -1.10066846e-01, -1.36772633e-01,\n",
       "          2.83678502e-01,  2.65330821e-01, -1.51356995e-01,\n",
       "         -2.20033303e-01, -2.59960108e-02,  2.15627804e-01,\n",
       "          3.32112700e-01,  1.96978450e-01, -1.37645215e-01,\n",
       "          9.71121788e-02, -3.09386849e-01, -6.20005727e-02,\n",
       "         -2.38804474e-01,  5.62665537e-02, -8.55640694e-02,\n",
       "          2.48585995e-02,  1.14025332e-01,  1.32271618e-01,\n",
       "         -1.74604744e-01,  3.95418763e-01, -9.96252820e-02,\n",
       "          1.44417733e-01,  2.54817277e-01, -1.65581807e-01,\n",
       "          1.31396905e-01,  1.83569968e-01,  7.91585967e-02],\n",
       "        [ 4.35564779e-02, -6.47483543e-02,  2.89275140e-01,\n",
       "          1.65898755e-01, -2.59050112e-02, -1.74668223e-01,\n",
       "          2.19510287e-01, -1.41393423e-01, -2.50807941e-01,\n",
       "          3.04282069e-01,  6.20701239e-02,  9.07360204e-03,\n",
       "         -2.81737715e-01, -9.85628292e-02, -2.28801623e-01,\n",
       "          9.12107602e-02,  2.59868689e-02,  2.10014105e-01,\n",
       "          2.71353066e-01,  1.25636950e-01,  2.51410663e-01,\n",
       "         -2.96427131e-01, -7.60596097e-02, -2.32519969e-01,\n",
       "         -1.31325573e-01,  2.63263971e-01, -1.18414998e-01,\n",
       "          2.45724857e-01, -7.39953369e-02, -3.10974985e-01],\n",
       "        [ 9.86103043e-02, -1.04343981e-01, -5.46398908e-02,\n",
       "          2.05315024e-01,  3.68666649e-02, -4.38370705e-02,\n",
       "         -3.13965172e-01, -2.23768309e-01, -1.34880349e-01,\n",
       "          1.90812442e-02, -2.76803136e-01,  2.02674910e-01,\n",
       "         -2.01998875e-01, -2.79658109e-01, -2.29486883e-01,\n",
       "          1.20592251e-01, -2.12170616e-01,  2.12723285e-01,\n",
       "         -2.23774716e-01, -6.09252192e-02, -8.17577019e-02,\n",
       "          2.96169579e-01,  2.37425454e-02, -9.45977226e-04,\n",
       "          2.69566745e-01,  1.41474918e-01, -2.79314816e-01,\n",
       "          2.82914400e-01, -1.34178832e-01, -2.96974838e-01],\n",
       "        [ 2.45388836e-01,  3.09929520e-01,  1.94690049e-01,\n",
       "          1.16542242e-01,  4.47285511e-02,  1.90485716e-01,\n",
       "          4.14357893e-02, -2.62642741e-01, -2.31725469e-01,\n",
       "          2.22628772e-01,  9.39971507e-02,  4.49027568e-02,\n",
       "         -2.45007604e-01, -2.07185194e-01, -2.39713997e-01,\n",
       "         -3.06307320e-02, -2.87116617e-01, -2.51030236e-01,\n",
       "         -1.28776178e-01,  1.45734280e-01,  1.68310881e-01,\n",
       "          1.77276537e-01, -1.23088717e-01,  1.01917729e-01,\n",
       "          2.82906532e-01, -2.16700301e-01, -1.03116289e-01,\n",
       "          2.13891827e-02,  1.56892717e-01, -8.33618566e-02],\n",
       "        [ 1.29988454e-02, -1.12359568e-01,  6.09164163e-02,\n",
       "         -2.06984177e-01,  4.52300757e-02,  1.33390188e-01,\n",
       "          2.22670928e-01, -1.67461649e-01,  1.13500327e-01,\n",
       "         -6.95586428e-02,  7.43925273e-02, -2.25409552e-01,\n",
       "         -1.69021532e-01, -2.47798368e-01,  7.46015981e-02,\n",
       "         -2.68574625e-01, -2.60447711e-01,  2.54651010e-01,\n",
       "         -2.36318052e-01, -2.22711742e-01, -2.41209686e-01,\n",
       "          5.84845170e-02,  8.45636986e-03,  4.56849374e-02,\n",
       "          2.56832480e-01, -2.36033365e-01,  2.89216906e-01,\n",
       "         -7.82701671e-02, -1.35552794e-01,  7.25485093e-04],\n",
       "        [-2.72797495e-01, -6.11650050e-02,  1.72585502e-01,\n",
       "         -1.52820885e-01, -1.54530615e-01, -2.67936200e-01,\n",
       "         -4.90563996e-02,  1.91063955e-01,  1.01005800e-01,\n",
       "          1.75332472e-01, -2.46110409e-01,  2.25577187e-02,\n",
       "         -7.48372003e-02, -1.01793572e-01,  3.24541450e-01,\n",
       "         -2.93574929e-01,  1.39523149e-01,  2.78523237e-01,\n",
       "          2.67117649e-01,  2.39801124e-01, -4.52347659e-02,\n",
       "          6.65471181e-02, -5.48104942e-02,  1.59567818e-02,\n",
       "          1.05163947e-01,  2.29745045e-01, -1.26464069e-01,\n",
       "          2.04576943e-02,  1.31023005e-01,  2.26449832e-01],\n",
       "        [-8.74866266e-03,  1.89086664e-02,  2.59767145e-01,\n",
       "         -2.53519982e-01, -1.35531604e-01,  2.50556879e-02,\n",
       "         -6.50679320e-02, -4.31341045e-02,  7.33230934e-02,\n",
       "         -8.81376192e-02,  1.38592850e-02,  3.69550772e-02,\n",
       "         -8.65087956e-02, -9.49589834e-02,  2.76088953e-01,\n",
       "         -2.84223884e-01, -2.19978951e-02, -1.47839442e-01,\n",
       "          2.58477055e-03, -2.48521283e-01,  2.64058322e-01,\n",
       "          2.64384925e-01, -7.74041489e-02, -2.58952081e-01,\n",
       "         -1.12446085e-01, -1.53377965e-01,  2.73522258e-01,\n",
       "         -3.00426811e-01,  2.54236251e-01, -2.88932264e-01],\n",
       "        [-6.55492246e-02,  6.96058152e-03,  1.33970514e-01,\n",
       "         -2.50479192e-01,  2.51976699e-01,  3.20795804e-01,\n",
       "         -8.69078469e-03,  2.87518173e-01, -1.79108500e-01,\n",
       "          6.22998402e-02, -1.56154439e-01,  7.10339844e-02,\n",
       "          4.20518629e-02, -2.77396858e-01, -4.99276370e-02,\n",
       "         -1.28454730e-01, -2.90168345e-01,  1.74379736e-01,\n",
       "          2.73031682e-01, -1.75940603e-01,  2.40589142e-01,\n",
       "          3.05109829e-01, -7.91023672e-02, -1.82802781e-01,\n",
       "          8.05356652e-02,  1.63948074e-01,  1.87683076e-01,\n",
       "          1.25875175e-01, -5.79151176e-02, -6.98832572e-02],\n",
       "        [ 3.34828943e-01, -6.80551305e-02, -2.94419587e-01,\n",
       "          1.54957334e-02,  2.00366482e-01,  2.98211407e-02,\n",
       "          1.41231269e-01, -1.33792236e-01,  1.24882579e-01,\n",
       "          1.38411179e-01, -9.38618183e-03,  1.01042859e-01,\n",
       "         -5.02562597e-02,  9.50170457e-02,  1.19737230e-01,\n",
       "         -2.50802577e-01, -2.82215983e-01,  2.06072599e-01,\n",
       "          1.17264867e-01,  2.53576785e-01,  2.65249968e-01,\n",
       "         -4.85930629e-02,  2.45774224e-01, -1.57309651e-01,\n",
       "         -1.59155384e-01,  3.81623179e-01,  7.90007561e-02,\n",
       "          6.68720230e-02, -7.81186372e-02, -8.80089030e-02],\n",
       "        [-4.10136133e-02,  2.91268975e-01,  2.27010384e-01,\n",
       "          2.01323539e-01,  2.48602688e-01, -1.04512289e-01,\n",
       "          2.34522596e-01,  1.68046698e-01,  1.47930831e-01,\n",
       "         -5.56119531e-02, -2.49966592e-01,  3.36318500e-02,\n",
       "         -3.02387953e-01,  1.59490615e-01,  1.63765550e-01,\n",
       "          1.23233154e-01,  9.07784402e-02,  3.32931817e-01,\n",
       "          1.51359037e-01, -5.74532934e-02, -5.36027877e-03,\n",
       "         -2.37013072e-01,  2.57206976e-01,  1.00838177e-01,\n",
       "         -5.05619459e-02,  1.47473454e-01, -8.44496638e-02,\n",
       "          1.31037712e-01,  2.12257057e-01,  1.41860947e-01],\n",
       "        [-2.69279748e-01,  2.44247913e-01,  1.76910177e-01,\n",
       "          2.95402467e-01,  1.60097107e-02, -6.14280030e-02,\n",
       "         -2.92918205e-01, -2.02919189e-02,  3.92589718e-03,\n",
       "         -2.55188733e-01, -2.77026415e-01, -2.26525128e-01,\n",
       "          1.68191195e-01, -2.39626855e-01, -1.22981876e-01,\n",
       "         -1.26208514e-01,  1.82179183e-01,  7.83935189e-02,\n",
       "         -2.38155544e-01, -3.84114385e-02, -2.10727483e-01,\n",
       "          3.97834741e-02,  2.48818606e-01, -1.37154134e-02,\n",
       "         -1.44055873e-01,  7.34848082e-02,  5.29277995e-02,\n",
       "          2.71830320e-01,  5.99283166e-02,  4.50651534e-02],\n",
       "        [ 1.93153918e-01, -3.54792774e-02,  7.07649812e-02,\n",
       "         -1.27311990e-01,  1.23209553e-03, -1.37723545e-02,\n",
       "          2.15363696e-01, -2.91901141e-01,  2.14568004e-01,\n",
       "         -7.47387603e-05, -2.65931159e-01,  2.71496922e-01,\n",
       "         -2.73677617e-01, -2.66723722e-01,  3.11071754e-01,\n",
       "          1.90824240e-01, -1.45476416e-01, -1.54794633e-01,\n",
       "         -1.62487209e-01,  7.71007538e-02, -9.97571349e-02,\n",
       "         -2.22995833e-01,  1.66257471e-01, -3.17248821e-01,\n",
       "          1.13174073e-01,  3.15683335e-01, -8.17540511e-02,\n",
       "         -3.40234816e-01,  4.79290262e-02,  8.47238749e-02],\n",
       "        [ 8.99072737e-03, -1.08088806e-01, -9.58661139e-02,\n",
       "          2.14167517e-02, -7.27020800e-02, -2.74641037e-01,\n",
       "          2.72682428e-01,  3.08100343e-01, -2.73530155e-01,\n",
       "          1.01644188e-01,  1.08193113e-02, -3.09215158e-01,\n",
       "         -2.58797050e-01,  1.35333195e-01,  1.39434323e-01,\n",
       "          8.91539231e-02, -5.35826534e-02,  1.98997796e-01,\n",
       "         -7.09477589e-02, -2.23666690e-02,  3.20703030e-01,\n",
       "          2.61850264e-02,  1.23918355e-01,  3.17268848e-01,\n",
       "          1.98215693e-02, -1.82206377e-01, -1.07434444e-01,\n",
       "         -2.62674361e-01,  6.67237937e-02, -1.67351142e-01],\n",
       "        [-2.03447282e-01,  1.08445331e-01, -2.89686531e-01,\n",
       "         -9.86643881e-02, -1.28930405e-01, -2.54694968e-01,\n",
       "          2.75604218e-01, -2.05641210e-01,  5.63070998e-02,\n",
       "         -1.16578951e-01, -1.67848095e-01,  6.54694661e-02,\n",
       "          2.97911644e-01,  1.16444997e-01,  1.10847250e-01,\n",
       "          1.48689792e-01, -1.89532384e-01, -1.11946687e-01,\n",
       "          1.23047002e-01,  9.20037106e-02,  1.33755401e-01,\n",
       "         -1.49816975e-01,  3.20031464e-01, -1.88619748e-01,\n",
       "         -2.00950071e-01, -2.17007667e-01,  5.52030206e-02,\n",
       "         -6.78155245e-03,  2.54477561e-01, -2.85483729e-02],\n",
       "        [ 1.82785779e-01,  1.22039691e-01, -7.62160495e-02,\n",
       "          5.08202575e-02, -1.47851910e-02, -1.70176104e-01,\n",
       "          1.52336910e-01, -2.25928411e-01,  9.48003307e-02,\n",
       "          8.92171115e-02, -4.24750037e-02, -2.21261129e-01,\n",
       "         -2.14859888e-01,  2.25943960e-02, -1.72232464e-01,\n",
       "         -2.30558980e-02,  1.08696945e-01, -7.95869902e-03,\n",
       "         -1.50868565e-01, -1.80574432e-01,  9.56568271e-02,\n",
       "          2.08014816e-01,  1.62458509e-01, -2.97451258e-01,\n",
       "         -1.54571116e-01,  3.51852953e-01,  1.81548938e-01,\n",
       "          2.11318843e-02, -7.48606259e-03,  2.99923301e-01]], dtype=float32)>,\n",
       " <tf.Variable 'dense_4_1/bias:0' shape=(30,) dtype=float32, numpy=\n",
       " array([ 0.1403745 ,  0.05135172, -0.03938246, -0.04194857,  0.07111737,\n",
       "         0.00208199, -0.10595568,  0.02749586, -0.08334942,  0.05447424,\n",
       "         0.00129504, -0.11868508,  0.05632921, -0.00583075,  0.07367772,\n",
       "        -0.00087749,  0.02970686,  0.19650503, -0.03479255,  0.16817594,\n",
       "         0.06808123,  0.01379015,  0.22717932, -0.03096744, -0.01177838,\n",
       "         0.24949318,  0.07248176, -0.06872849, -0.04608965, -0.03896736],\n",
       "       dtype=float32)>,\n",
       " <tf.Variable 'dense_5_1/kernel:0' shape=(30, 1) dtype=float32, numpy=\n",
       " array([[ 0.3332518 ],\n",
       "        [ 0.20341085],\n",
       "        [-0.4611431 ],\n",
       "        [-0.04631586],\n",
       "        [ 0.17775764],\n",
       "        [-0.12826425],\n",
       "        [-0.33767614],\n",
       "        [-0.43932208],\n",
       "        [-0.08899956],\n",
       "        [ 0.17594756],\n",
       "        [ 0.17257862],\n",
       "        [-0.31688386],\n",
       "        [ 0.3762249 ],\n",
       "        [-0.25582165],\n",
       "        [ 0.18580382],\n",
       "        [-0.03831147],\n",
       "        [ 0.32196772],\n",
       "        [ 0.5784147 ],\n",
       "        [-0.2615075 ],\n",
       "        [ 0.4576529 ],\n",
       "        [ 0.17443366],\n",
       "        [-0.22582805],\n",
       "        [ 0.57934874],\n",
       "        [-0.38982013],\n",
       "        [ 0.00270799],\n",
       "        [ 0.6735186 ],\n",
       "        [ 0.29717758],\n",
       "        [-0.36714166],\n",
       "        [-0.2049144 ],\n",
       "        [-0.16362359]], dtype=float32)>,\n",
       " <tf.Variable 'dense_5_1/bias:0' shape=(1,) dtype=float32, numpy=array([0.554859], dtype=float32)>]"
      ]
     },
     "execution_count": 128,
     "metadata": {},
     "output_type": "execute_result"
    }
   ],
   "source": [
    "model.weights"
   ]
  },
  {
   "cell_type": "code",
   "execution_count": 129,
   "metadata": {},
   "outputs": [],
   "source": [
    "# callback 사용하기"
   ]
  },
  {
   "cell_type": "code",
   "execution_count": 131,
   "metadata": {},
   "outputs": [],
   "source": [
    "keras.backend.clear_session()\n",
    "np.random.seed(42)\n",
    "tf.random.set_seed(42)"
   ]
  },
  {
   "cell_type": "code",
   "execution_count": 132,
   "metadata": {},
   "outputs": [],
   "source": [
    "model = keras.models.Sequential([\n",
    "    keras.layers.Dense(30, activation='relu', input_shape=[8]),\n",
    "    keras.layers.Dense(30, activation='relu'),\n",
    "    keras.layers.Dense(1)\n",
    "])"
   ]
  },
  {
   "cell_type": "code",
   "execution_count": 133,
   "metadata": {},
   "outputs": [],
   "source": [
    "model.compile(loss='mse', optimizer=keras.optimizers.SGD(lr=1e-3))"
   ]
  },
  {
   "cell_type": "code",
   "execution_count": 134,
   "metadata": {},
   "outputs": [],
   "source": [
    "checkpoint_cb = keras.callbacks.ModelCheckpoint(\"my_keras_model.h5\", save_best_only=True)"
   ]
  },
  {
   "cell_type": "code",
   "execution_count": 135,
   "metadata": {},
   "outputs": [
    {
     "name": "stdout",
     "output_type": "stream",
     "text": [
      "Train on 11610 samples, validate on 3870 samples\n",
      "Epoch 1/10\n",
      "11610/11610 [==============================] - 1s 78us/sample - loss: 1.8423 - val_loss: 5.2165\n",
      "Epoch 2/10\n",
      "11610/11610 [==============================] - 0s 31us/sample - loss: 0.6876 - val_loss: 0.7732\n",
      "Epoch 3/10\n",
      "11610/11610 [==============================] - 0s 28us/sample - loss: 0.5954 - val_loss: 0.5446\n",
      "Epoch 4/10\n",
      "11610/11610 [==============================] - 0s 28us/sample - loss: 0.5553 - val_loss: 0.5425\n",
      "Epoch 5/10\n",
      "11610/11610 [==============================] - 0s 27us/sample - loss: 0.5268 - val_loss: 0.5539\n",
      "Epoch 6/10\n",
      "11610/11610 [==============================] - 0s 28us/sample - loss: 0.5049 - val_loss: 0.4701\n",
      "Epoch 7/10\n",
      "11610/11610 [==============================] - 0s 28us/sample - loss: 0.4852 - val_loss: 0.4562\n",
      "Epoch 8/10\n",
      "11610/11610 [==============================] - 0s 28us/sample - loss: 0.4706 - val_loss: 0.4452\n",
      "Epoch 9/10\n",
      "11610/11610 [==============================] - 0s 28us/sample - loss: 0.4576 - val_loss: 0.4406\n",
      "Epoch 10/10\n",
      "11610/11610 [==============================] - 0s 27us/sample - loss: 0.4476 - val_loss: 0.4185\n",
      "Wall time: 3.92 s\n"
     ]
    }
   ],
   "source": [
    "%%time\n",
    "hist = model.fit(X_train, y_train, epochs=10, validation_data=(X_valid, y_valid),\n",
    "                 callbacks=[checkpoint_cb])"
   ]
  },
  {
   "cell_type": "code",
   "execution_count": 136,
   "metadata": {},
   "outputs": [],
   "source": [
    "model = keras.models.load_model(\"my_keras_model.h5\")"
   ]
  },
  {
   "cell_type": "code",
   "execution_count": 137,
   "metadata": {},
   "outputs": [
    {
     "name": "stdout",
     "output_type": "stream",
     "text": [
      "5160/5160 [==============================] - 0s 23us/sample - loss: 0.4376\n"
     ]
    }
   ],
   "source": [
    "mse_test = model.evaluate(X_test, y_test)"
   ]
  },
  {
   "cell_type": "code",
   "execution_count": 139,
   "metadata": {},
   "outputs": [],
   "source": [
    "model.compile(loss='mse', optimizer=keras.optimizers.SGD(lr=1e-3))"
   ]
  },
  {
   "cell_type": "code",
   "execution_count": 145,
   "metadata": {},
   "outputs": [],
   "source": [
    "early_stopping_cb = keras.callbacks.EarlyStopping(patience=5, restore_best_weights=True)"
   ]
  },
  {
   "cell_type": "code",
   "execution_count": 146,
   "metadata": {},
   "outputs": [
    {
     "name": "stdout",
     "output_type": "stream",
     "text": [
      "Train on 11610 samples, validate on 3870 samples\n",
      "Epoch 1/100\n",
      "11610/11610 [==============================] - 0s 27us/sample - loss: 0.3215 - val_loss: 0.3727\n",
      "Epoch 2/100\n",
      "11610/11610 [==============================] - 0s 28us/sample - loss: 0.3216 - val_loss: 0.3100\n",
      "Epoch 3/100\n",
      "11610/11610 [==============================] - 0s 27us/sample - loss: 0.3209 - val_loss: 0.3614\n",
      "Epoch 4/100\n",
      "11610/11610 [==============================] - 0s 29us/sample - loss: 0.3210 - val_loss: 0.3101\n",
      "Epoch 5/100\n",
      "11610/11610 [==============================] - 0s 28us/sample - loss: 0.3204 - val_loss: 0.3676\n",
      "Epoch 6/100\n",
      "11610/11610 [==============================] - 0s 26us/sample - loss: 0.3205 - val_loss: 0.3111\n",
      "Epoch 7/100\n",
      "11610/11610 [==============================] - 0s 27us/sample - loss: 0.3200 - val_loss: 0.3148\n",
      "Wall time: 2.3 s\n"
     ]
    }
   ],
   "source": [
    "%%time\n",
    "hist = model.fit(X_train, y_train, epochs=100, validation_data=(X_valid, y_valid),\n",
    "                callbacks=[checkpoint_cb, early_stopping_cb])"
   ]
  },
  {
   "cell_type": "code",
   "execution_count": 147,
   "metadata": {},
   "outputs": [],
   "source": [
    "# 사용자 정의 callback"
   ]
  },
  {
   "cell_type": "code",
   "execution_count": 148,
   "metadata": {},
   "outputs": [],
   "source": [
    "class PrintValTrainRatioCallback(keras.callbacks.Callback):\n",
    "    def on_epoch_end(self, epoch, logs):\n",
    "        print(\"\\nval/train: {:.2f}\".format(logs['val_loss'] / logs['loss']))"
   ]
  },
  {
   "cell_type": "code",
   "execution_count": 149,
   "metadata": {},
   "outputs": [],
   "source": [
    "val_train_ration_cb = PrintValTrainRatioCallback()"
   ]
  },
  {
   "cell_type": "code",
   "execution_count": 150,
   "metadata": {},
   "outputs": [
    {
     "name": "stdout",
     "output_type": "stream",
     "text": [
      "Train on 11610 samples, validate on 3870 samples\n",
      " 9568/11610 [=======================>......] - ETA: 0s - loss: 0.3135\n",
      "val/train: 1.03\n",
      "11610/11610 [==============================] - 0s 28us/sample - loss: 0.3208 - val_loss: 0.3302\n"
     ]
    }
   ],
   "source": [
    "hist = model.fit(X_train, y_train, epochs=1, validation_data=(X_valid, y_valid),\n",
    "                callbacks=[val_train_ration_cb])"
   ]
  },
  {
   "cell_type": "code",
   "execution_count": 151,
   "metadata": {},
   "outputs": [],
   "source": [
    "# hyper_parameter tunning"
   ]
  },
  {
   "cell_type": "code",
   "execution_count": 152,
   "metadata": {},
   "outputs": [],
   "source": [
    "keras.backend.clear_session()"
   ]
  },
  {
   "cell_type": "code",
   "execution_count": 153,
   "metadata": {},
   "outputs": [],
   "source": [
    "np.random.seed(42)"
   ]
  },
  {
   "cell_type": "code",
   "execution_count": 154,
   "metadata": {},
   "outputs": [],
   "source": [
    "tf.random.set_seed(42)"
   ]
  },
  {
   "cell_type": "code",
   "execution_count": 155,
   "metadata": {},
   "outputs": [],
   "source": [
    "def build_model(n_hidden=1, n_neurons=30, learning_rate=3e-3, input_shape=[8]):\n",
    "    model = keras.models.Sequential()\n",
    "    model.add(keras.layers.InputLayer(input_shape=input_shape))\n",
    "    for layer in range(n_hidden):\n",
    "        model.add(keras.layers.Dense(n_neurons, activation='relu'))\n",
    "    model.add(keras.layers.Dense(1))\n",
    "    optimizer = keras.optimizers.SGD(lr=learning_rate)\n",
    "    model.compile(loss='mse', optimizer=optimizer)\n",
    "    return model"
   ]
  },
  {
   "cell_type": "code",
   "execution_count": 156,
   "metadata": {},
   "outputs": [],
   "source": [
    "keras_reg = keras.wrappers.scikit_learn.KerasRegressor(build_model)"
   ]
  },
  {
   "cell_type": "code",
   "execution_count": 157,
   "metadata": {},
   "outputs": [
    {
     "name": "stdout",
     "output_type": "stream",
     "text": [
      "Train on 11610 samples, validate on 3870 samples\n",
      "Epoch 1/100\n",
      "11610/11610 [==============================] - 1s 54us/sample - loss: 1.1399 - val_loss: 24.4309\n",
      "Epoch 2/100\n",
      "11610/11610 [==============================] - 0s 26us/sample - loss: 0.7393 - val_loss: 3.2896\n",
      "Epoch 3/100\n",
      "11610/11610 [==============================] - 0s 27us/sample - loss: 0.5374 - val_loss: 0.6080\n",
      "Epoch 4/100\n",
      "11610/11610 [==============================] - 0s 27us/sample - loss: 0.4796 - val_loss: 0.4532\n",
      "Epoch 5/100\n",
      "11610/11610 [==============================] - 0s 26us/sample - loss: 0.4536 - val_loss: 0.4221\n",
      "Epoch 6/100\n",
      "11610/11610 [==============================] - 0s 30us/sample - loss: 0.4373 - val_loss: 0.4144\n",
      "Epoch 7/100\n",
      "11610/11610 [==============================] - 0s 26us/sample - loss: 0.4256 - val_loss: 0.4025\n",
      "Epoch 8/100\n",
      "11610/11610 [==============================] - 0s 24us/sample - loss: 0.4178 - val_loss: 0.3938\n",
      "Epoch 9/100\n",
      "11610/11610 [==============================] - 0s 28us/sample - loss: 0.4114 - val_loss: 0.4085\n",
      "Epoch 10/100\n",
      "11610/11610 [==============================] - 0s 26us/sample - loss: 0.4060 - val_loss: 0.3974\n",
      "Epoch 11/100\n",
      "11610/11610 [==============================] - 0s 26us/sample - loss: 0.4018 - val_loss: 0.3847\n",
      "Epoch 12/100\n",
      "11610/11610 [==============================] - 0s 25us/sample - loss: 0.3978 - val_loss: 0.3818\n",
      "Epoch 13/100\n",
      "11610/11610 [==============================] - 0s 26us/sample - loss: 0.3943 - val_loss: 0.3820\n",
      "Epoch 14/100\n",
      "11610/11610 [==============================] - 0s 27us/sample - loss: 0.3915 - val_loss: 0.3766\n",
      "Epoch 15/100\n",
      "11610/11610 [==============================] - 0s 28us/sample - loss: 0.3888 - val_loss: 0.4268\n",
      "Epoch 16/100\n",
      "11610/11610 [==============================] - 1s 45us/sample - loss: 0.3862 - val_loss: 0.3638\n",
      "Epoch 17/100\n",
      "11610/11610 [==============================] - 0s 34us/sample - loss: 0.3842 - val_loss: 0.3666\n",
      "Epoch 18/100\n",
      "11610/11610 [==============================] - 0s 25us/sample - loss: 0.3815 - val_loss: 0.3948\n",
      "Epoch 19/100\n",
      "11610/11610 [==============================] - 0s 25us/sample - loss: 0.3797 - val_loss: 0.3589\n",
      "Epoch 20/100\n",
      "11610/11610 [==============================] - 0s 25us/sample - loss: 0.3777 - val_loss: 0.4058\n",
      "Epoch 21/100\n",
      "11610/11610 [==============================] - 0s 26us/sample - loss: 0.3763 - val_loss: 0.3662\n",
      "Epoch 22/100\n",
      "11610/11610 [==============================] - 0s 25us/sample - loss: 0.3742 - val_loss: 0.4100\n",
      "Epoch 23/100\n",
      "11610/11610 [==============================] - 0s 26us/sample - loss: 0.3729 - val_loss: 0.3522\n",
      "Epoch 24/100\n",
      "11610/11610 [==============================] - 0s 25us/sample - loss: 0.3718 - val_loss: 0.3518\n",
      "Epoch 25/100\n",
      "11610/11610 [==============================] - 0s 26us/sample - loss: 0.3701 - val_loss: 0.3586\n",
      "Epoch 26/100\n",
      "11610/11610 [==============================] - 0s 26us/sample - loss: 0.3689 - val_loss: 0.3600\n",
      "Epoch 27/100\n",
      "11610/11610 [==============================] - 0s 29us/sample - loss: 0.3674 - val_loss: 0.4042\n",
      "Epoch 28/100\n",
      "11610/11610 [==============================] - 0s 27us/sample - loss: 0.3666 - val_loss: 0.3520\n",
      "Epoch 29/100\n",
      "11610/11610 [==============================] - 0s 26us/sample - loss: 0.3649 - val_loss: 0.4091\n",
      "Epoch 30/100\n",
      "11610/11610 [==============================] - 0s 28us/sample - loss: 0.3645 - val_loss: 0.3916\n",
      "Epoch 31/100\n",
      "11610/11610 [==============================] - 0s 27us/sample - loss: 0.3636 - val_loss: 0.3426\n",
      "Epoch 32/100\n",
      "11610/11610 [==============================] - 0s 26us/sample - loss: 0.3626 - val_loss: 0.3516\n",
      "Epoch 33/100\n",
      "11610/11610 [==============================] - 0s 25us/sample - loss: 0.3616 - val_loss: 0.3830\n",
      "Epoch 34/100\n",
      "11610/11610 [==============================] - 0s 26us/sample - loss: 0.3613 - val_loss: 0.3411\n",
      "Epoch 35/100\n",
      "11610/11610 [==============================] - 0s 26us/sample - loss: 0.3600 - val_loss: 0.3656\n",
      "Epoch 36/100\n",
      "11610/11610 [==============================] - 0s 25us/sample - loss: 0.3593 - val_loss: 0.3402\n",
      "Epoch 37/100\n",
      "11610/11610 [==============================] - 0s 25us/sample - loss: 0.3583 - val_loss: 0.3949\n",
      "Epoch 38/100\n",
      "11610/11610 [==============================] - 0s 26us/sample - loss: 0.3578 - val_loss: 0.3376\n",
      "Epoch 39/100\n",
      "11610/11610 [==============================] - 0s 24us/sample - loss: 0.3563 - val_loss: 0.4037\n",
      "Epoch 40/100\n",
      "11610/11610 [==============================] - 0s 25us/sample - loss: 0.3567 - val_loss: 0.3391\n",
      "Epoch 41/100\n",
      "11610/11610 [==============================] - 0s 26us/sample - loss: 0.3553 - val_loss: 0.4146\n",
      "Epoch 42/100\n",
      "11610/11610 [==============================] - 0s 27us/sample - loss: 0.3552 - val_loss: 0.3376\n",
      "Epoch 43/100\n",
      "11610/11610 [==============================] - 0s 25us/sample - loss: 0.3539 - val_loss: 0.3486\n",
      "Epoch 44/100\n",
      "11610/11610 [==============================] - 0s 25us/sample - loss: 0.3533 - val_loss: 0.3355\n",
      "Epoch 45/100\n",
      "11610/11610 [==============================] - 0s 26us/sample - loss: 0.3529 - val_loss: 0.3329\n",
      "Epoch 46/100\n",
      "11610/11610 [==============================] - 0s 26us/sample - loss: 0.3522 - val_loss: 0.3393\n",
      "Epoch 47/100\n",
      "11610/11610 [==============================] - 0s 26us/sample - loss: 0.3510 - val_loss: 0.4173\n",
      "Epoch 48/100\n",
      "11610/11610 [==============================] - 0s 25us/sample - loss: 0.3515 - val_loss: 0.3759\n",
      "Epoch 49/100\n",
      "11610/11610 [==============================] - 0s 25us/sample - loss: 0.3506 - val_loss: 0.4286\n",
      "Epoch 50/100\n",
      "11610/11610 [==============================] - 0s 25us/sample - loss: 0.3506 - val_loss: 0.4004\n",
      "Epoch 51/100\n",
      "11610/11610 [==============================] - 0s 24us/sample - loss: 0.3501 - val_loss: 0.3299\n",
      "Epoch 52/100\n",
      "11610/11610 [==============================] - 0s 25us/sample - loss: 0.3495 - val_loss: 0.3299\n",
      "Epoch 53/100\n",
      "11610/11610 [==============================] - 0s 27us/sample - loss: 0.3485 - val_loss: 0.3600\n",
      "Epoch 54/100\n",
      "11610/11610 [==============================] - 0s 27us/sample - loss: 0.3479 - val_loss: 0.3423\n",
      "Epoch 55/100\n",
      "11610/11610 [==============================] - 0s 26us/sample - loss: 0.3475 - val_loss: 0.3751\n",
      "Epoch 56/100\n",
      "11610/11610 [==============================] - 0s 27us/sample - loss: 0.3472 - val_loss: 0.4234\n",
      "Epoch 57/100\n",
      "11610/11610 [==============================] - 0s 28us/sample - loss: 0.3474 - val_loss: 0.3725\n",
      "Epoch 58/100\n",
      "11610/11610 [==============================] - 0s 26us/sample - loss: 0.3464 - val_loss: 0.3453\n",
      "Epoch 59/100\n",
      "11610/11610 [==============================] - 0s 26us/sample - loss: 0.3457 - val_loss: 0.3601\n",
      "Epoch 60/100\n",
      "11610/11610 [==============================] - 0s 25us/sample - loss: 0.3451 - val_loss: 0.4280\n",
      "Epoch 61/100\n",
      "11610/11610 [==============================] - 0s 26us/sample - loss: 0.3457 - val_loss: 0.3647\n",
      "Epoch 62/100\n",
      "11610/11610 [==============================] - 0s 25us/sample - loss: 0.3442 - val_loss: 0.4654\n"
     ]
    },
    {
     "data": {
      "text/plain": [
       "<tensorflow.python.keras.callbacks.History at 0x1e0b5ce4198>"
      ]
     },
     "execution_count": 157,
     "metadata": {},
     "output_type": "execute_result"
    }
   ],
   "source": [
    "keras_reg.fit(X_train, y_train, epochs=100,\n",
    "             validation_data=(X_valid, y_valid),\n",
    "             callbacks=[keras.callbacks.EarlyStopping(patience=10)])"
   ]
  },
  {
   "cell_type": "code",
   "execution_count": 158,
   "metadata": {},
   "outputs": [
    {
     "name": "stdout",
     "output_type": "stream",
     "text": [
      "5160/5160 [==============================] - 0s 12us/sample - loss: 0.3473\n"
     ]
    }
   ],
   "source": [
    "mse_test = keras_reg.score(X_test, y_test)"
   ]
  },
  {
   "cell_type": "code",
   "execution_count": 160,
   "metadata": {},
   "outputs": [],
   "source": [
    "y_pred = keras_reg.predict(X_new)"
   ]
  },
  {
   "cell_type": "code",
   "execution_count": 161,
   "metadata": {},
   "outputs": [],
   "source": [
    "np.random.seed(42)\n",
    "tf.random.set_seed(42)\n",
    "keras.backend.clear_session()"
   ]
  },
  {
   "cell_type": "code",
   "execution_count": 162,
   "metadata": {},
   "outputs": [],
   "source": [
    "from scipy.stats import reciprocal"
   ]
  },
  {
   "cell_type": "code",
   "execution_count": 163,
   "metadata": {},
   "outputs": [],
   "source": [
    "from sklearn.model_selection import RandomizedSearchCV"
   ]
  },
  {
   "cell_type": "code",
   "execution_count": 168,
   "metadata": {},
   "outputs": [],
   "source": [
    "# param_distribs = {\n",
    "#     \"n_hidden\": [0, 1, 2, 3], \n",
    "#     \"n_neurons\": np.arange(1, 100),\n",
    "#     \"learning_rate\": reciprocal(3e-4, 3e-2)\n",
    "# }"
   ]
  },
  {
   "cell_type": "code",
   "execution_count": null,
   "metadata": {},
   "outputs": [],
   "source": [
    "param_distribs = {\n",
    "    \"n_hidden\": [0, 1, 2, 3], \n",
    "    \"n_neurons\": ,\n",
    "    \"learning_rate\": reciprocal(3e-4, 3e-2)\n",
    "}"
   ]
  },
  {
   "cell_type": "code",
   "execution_count": 169,
   "metadata": {},
   "outputs": [],
   "source": [
    "rnd_search_cv = RandomizedSearchCV(keras_reg, param_distribs, n_iter=10, cv=3, verbose=2)"
   ]
  },
  {
   "cell_type": "code",
   "execution_count": null,
   "metadata": {
    "scrolled": true
   },
   "outputs": [],
   "source": [
    "rnd_search_cv.fit(X_train, y_train, epochs=100, validation_data=(X_valid, y_valid),\n",
    "                 callbacks=[keras.callbacks.EarlyStopping(patience=10)])"
   ]
  },
  {
   "cell_type": "code",
   "execution_count": null,
   "metadata": {},
   "outputs": [],
   "source": []
  },
  {
   "cell_type": "code",
   "execution_count": null,
   "metadata": {},
   "outputs": [],
   "source": []
  },
  {
   "cell_type": "code",
   "execution_count": null,
   "metadata": {},
   "outputs": [],
   "source": []
  },
  {
   "cell_type": "code",
   "execution_count": null,
   "metadata": {},
   "outputs": [],
   "source": []
  },
  {
   "cell_type": "code",
   "execution_count": null,
   "metadata": {},
   "outputs": [],
   "source": []
  },
  {
   "cell_type": "code",
   "execution_count": null,
   "metadata": {},
   "outputs": [],
   "source": []
  },
  {
   "cell_type": "code",
   "execution_count": null,
   "metadata": {},
   "outputs": [],
   "source": []
  },
  {
   "cell_type": "code",
   "execution_count": null,
   "metadata": {},
   "outputs": [],
   "source": []
  },
  {
   "cell_type": "code",
   "execution_count": null,
   "metadata": {},
   "outputs": [],
   "source": []
  },
  {
   "cell_type": "code",
   "execution_count": null,
   "metadata": {},
   "outputs": [],
   "source": []
  },
  {
   "cell_type": "code",
   "execution_count": null,
   "metadata": {},
   "outputs": [],
   "source": []
  },
  {
   "cell_type": "code",
   "execution_count": null,
   "metadata": {},
   "outputs": [],
   "source": []
  },
  {
   "cell_type": "code",
   "execution_count": null,
   "metadata": {},
   "outputs": [],
   "source": []
  },
  {
   "cell_type": "code",
   "execution_count": null,
   "metadata": {},
   "outputs": [],
   "source": []
  },
  {
   "cell_type": "code",
   "execution_count": null,
   "metadata": {},
   "outputs": [],
   "source": []
  },
  {
   "cell_type": "code",
   "execution_count": null,
   "metadata": {},
   "outputs": [],
   "source": []
  },
  {
   "cell_type": "code",
   "execution_count": null,
   "metadata": {},
   "outputs": [],
   "source": []
  }
 ],
 "metadata": {
  "kernelspec": {
   "display_name": "Python 3",
   "language": "python",
   "name": "python3"
  },
  "language_info": {
   "codemirror_mode": {
    "name": "ipython",
    "version": 3
   },
   "file_extension": ".py",
   "mimetype": "text/x-python",
   "name": "python",
   "nbconvert_exporter": "python",
   "pygments_lexer": "ipython3",
   "version": "3.7.0"
  }
 },
 "nbformat": 4,
 "nbformat_minor": 2
}
