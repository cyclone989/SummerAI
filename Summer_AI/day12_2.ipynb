{
 "cells": [
  {
   "cell_type": "code",
   "execution_count": 1,
   "metadata": {},
   "outputs": [],
   "source": [
    "%matplotlib inline\n",
    "import matplotlib.pyplot as plt\n",
    "import seaborn as sns\n",
    "import numpy as np\n",
    "import pandas as pd"
   ]
  },
  {
   "cell_type": "code",
   "execution_count": 2,
   "metadata": {},
   "outputs": [],
   "source": [
    "import tensorflow as tf"
   ]
  },
  {
   "cell_type": "code",
   "execution_count": 3,
   "metadata": {},
   "outputs": [],
   "source": [
    "from tensorflow import keras"
   ]
  },
  {
   "cell_type": "code",
   "execution_count": 4,
   "metadata": {},
   "outputs": [],
   "source": [
    "from sklearn.datasets import fetch_california_housing"
   ]
  },
  {
   "cell_type": "code",
   "execution_count": 5,
   "metadata": {},
   "outputs": [],
   "source": [
    "from sklearn.model_selection import train_test_split"
   ]
  },
  {
   "cell_type": "code",
   "execution_count": 6,
   "metadata": {},
   "outputs": [],
   "source": [
    "from sklearn.preprocessing import StandardScaler"
   ]
  },
  {
   "cell_type": "code",
   "execution_count": 7,
   "metadata": {},
   "outputs": [],
   "source": [
    "housing = fetch_california_housing()"
   ]
  },
  {
   "cell_type": "code",
   "execution_count": 8,
   "metadata": {},
   "outputs": [],
   "source": [
    "X_train_full, X_test, y_train_full, y_test = train_test_split(\n",
    "    housing.data, housing.target, random_state=42)"
   ]
  },
  {
   "cell_type": "code",
   "execution_count": 9,
   "metadata": {},
   "outputs": [],
   "source": [
    "X_train, X_valid, y_train, y_valid = train_test_split(\n",
    "    X_train_full, y_train_full, random_state=42)"
   ]
  },
  {
   "cell_type": "code",
   "execution_count": 10,
   "metadata": {},
   "outputs": [],
   "source": [
    "class_names = [\"T-shit/top\", \"Trouser\", \"Pullover\", \"Dress\", \"Coat\",\n",
    "              \"Sandal\", \"Shirt\", \"Sneaker\", \"Bag\", \"Ankle boot\"]"
   ]
  },
  {
   "cell_type": "code",
   "execution_count": 11,
   "metadata": {},
   "outputs": [],
   "source": [
    "scaler = StandardScaler()"
   ]
  },
  {
   "cell_type": "code",
   "execution_count": 12,
   "metadata": {},
   "outputs": [],
   "source": [
    "X_train = scaler.fit_transform(X_train)"
   ]
  },
  {
   "cell_type": "code",
   "execution_count": 13,
   "metadata": {},
   "outputs": [],
   "source": [
    "X_valid = scaler.transform(X_valid)"
   ]
  },
  {
   "cell_type": "code",
   "execution_count": 14,
   "metadata": {},
   "outputs": [],
   "source": [
    "X_test = scaler.transform(X_test)"
   ]
  },
  {
   "cell_type": "code",
   "execution_count": 15,
   "metadata": {},
   "outputs": [],
   "source": [
    "keras.backend.clear_session()\n",
    "np.random.seed(42)\n",
    "tf.random.set_seed(42)"
   ]
  },
  {
   "cell_type": "code",
   "execution_count": 16,
   "metadata": {},
   "outputs": [],
   "source": [
    "from scipy.stats import reciprocal"
   ]
  },
  {
   "cell_type": "code",
   "execution_count": 17,
   "metadata": {},
   "outputs": [],
   "source": [
    "from sklearn.model_selection import RandomizedSearchCV"
   ]
  },
  {
   "cell_type": "code",
   "execution_count": 18,
   "metadata": {},
   "outputs": [],
   "source": [
    "def build_model(n_hidden=1, n_neurons=30, learning_rate=3e-3, input_shape=[8]):\n",
    "    model = keras.models.Sequential()\n",
    "    model.add(keras.layers.InputLayer(input_shape=input_shape))\n",
    "    for layer in range(n_hidden):\n",
    "        model.add(keras.layers.Dense(n_neurons, activation='relu'))\n",
    "    model.add(keras.layers.Dense(1))\n",
    "    optimizer = keras.optimizers.SGD(lr=learning_rate)\n",
    "    model.compile(loss='mse', optimizer=optimizer)\n",
    "    return model"
   ]
  },
  {
   "cell_type": "code",
   "execution_count": 19,
   "metadata": {},
   "outputs": [],
   "source": [
    "# 케라스를 사이킷 런으로 돌릴 수 있도록 함\n",
    "keras_reg = keras.wrappers.scikit_learn.KerasRegressor(build_model)"
   ]
  },
  {
   "cell_type": "code",
   "execution_count": 20,
   "metadata": {},
   "outputs": [
    {
     "name": "stdout",
     "output_type": "stream",
     "text": [
      "Train on 11610 samples, validate on 3870 samples\n",
      "Epoch 1/100\n",
      "11610/11610 [==============================] - 1s 48us/sample - loss: 1.1399 - val_loss: 24.4309\n",
      "Epoch 2/100\n",
      "11610/11610 [==============================] - 0s 26us/sample - loss: 0.7393 - val_loss: 3.2896\n",
      "Epoch 3/100\n",
      "11610/11610 [==============================] - 0s 26us/sample - loss: 0.5374 - val_loss: 0.6080\n",
      "Epoch 4/100\n",
      "11610/11610 [==============================] - 0s 26us/sample - loss: 0.4796 - val_loss: 0.4532\n",
      "Epoch 5/100\n",
      "11610/11610 [==============================] - 0s 26us/sample - loss: 0.4536 - val_loss: 0.4221\n",
      "Epoch 6/100\n",
      "11610/11610 [==============================] - 0s 25us/sample - loss: 0.4373 - val_loss: 0.4144\n",
      "Epoch 7/100\n",
      "11610/11610 [==============================] - ETA: 0s - loss: 0.429 - 0s 26us/sample - loss: 0.4256 - val_loss: 0.4025\n",
      "Epoch 8/100\n",
      "11610/11610 [==============================] - 0s 25us/sample - loss: 0.4178 - val_loss: 0.3938\n",
      "Epoch 9/100\n",
      "11610/11610 [==============================] - 0s 26us/sample - loss: 0.4114 - val_loss: 0.4085\n",
      "Epoch 10/100\n",
      "11610/11610 [==============================] - 0s 25us/sample - loss: 0.4060 - val_loss: 0.3974\n",
      "Epoch 11/100\n",
      "11610/11610 [==============================] - 0s 25us/sample - loss: 0.4018 - val_loss: 0.3847\n",
      "Epoch 12/100\n",
      "11610/11610 [==============================] - 0s 25us/sample - loss: 0.3978 - val_loss: 0.3818\n",
      "Epoch 13/100\n",
      "11610/11610 [==============================] - 0s 24us/sample - loss: 0.3943 - val_loss: 0.3820\n",
      "Epoch 14/100\n",
      "11610/11610 [==============================] - 0s 25us/sample - loss: 0.3915 - val_loss: 0.3766\n",
      "Epoch 15/100\n",
      "11610/11610 [==============================] - 0s 25us/sample - loss: 0.3888 - val_loss: 0.4268\n",
      "Epoch 16/100\n",
      "11610/11610 [==============================] - 0s 26us/sample - loss: 0.3862 - val_loss: 0.3638\n",
      "Epoch 17/100\n",
      "11610/11610 [==============================] - 0s 26us/sample - loss: 0.3842 - val_loss: 0.3666\n",
      "Epoch 18/100\n",
      "11610/11610 [==============================] - 0s 25us/sample - loss: 0.3815 - val_loss: 0.3948\n",
      "Epoch 19/100\n",
      "11610/11610 [==============================] - 0s 26us/sample - loss: 0.3797 - val_loss: 0.3589\n",
      "Epoch 20/100\n",
      "11610/11610 [==============================] - 0s 26us/sample - loss: 0.3777 - val_loss: 0.4058\n",
      "Epoch 21/100\n",
      "11610/11610 [==============================] - 0s 26us/sample - loss: 0.3763 - val_loss: 0.3662\n",
      "Epoch 22/100\n",
      "11610/11610 [==============================] - 0s 25us/sample - loss: 0.3742 - val_loss: 0.4100\n",
      "Epoch 23/100\n",
      "11610/11610 [==============================] - 0s 26us/sample - loss: 0.3729 - val_loss: 0.3522\n",
      "Epoch 24/100\n",
      "11610/11610 [==============================] - 0s 26us/sample - loss: 0.3718 - val_loss: 0.3518\n",
      "Epoch 25/100\n",
      "11610/11610 [==============================] - 0s 25us/sample - loss: 0.3701 - val_loss: 0.3586\n",
      "Epoch 26/100\n",
      "11610/11610 [==============================] - 0s 26us/sample - loss: 0.3689 - val_loss: 0.3600\n",
      "Epoch 27/100\n",
      "11610/11610 [==============================] - 0s 26us/sample - loss: 0.3674 - val_loss: 0.4042\n",
      "Epoch 28/100\n",
      "11610/11610 [==============================] - 0s 26us/sample - loss: 0.3666 - val_loss: 0.3520\n",
      "Epoch 29/100\n",
      "11610/11610 [==============================] - 0s 25us/sample - loss: 0.3649 - val_loss: 0.4091\n",
      "Epoch 30/100\n",
      "11610/11610 [==============================] - 0s 27us/sample - loss: 0.3645 - val_loss: 0.3916\n",
      "Epoch 31/100\n",
      "11610/11610 [==============================] - 0s 26us/sample - loss: 0.3636 - val_loss: 0.3426\n",
      "Epoch 32/100\n",
      "11610/11610 [==============================] - 0s 26us/sample - loss: 0.3626 - val_loss: 0.3516\n",
      "Epoch 33/100\n",
      "11610/11610 [==============================] - 0s 26us/sample - loss: 0.3616 - val_loss: 0.3830\n",
      "Epoch 34/100\n",
      "11610/11610 [==============================] - 0s 25us/sample - loss: 0.3613 - val_loss: 0.3411\n",
      "Epoch 35/100\n",
      "11610/11610 [==============================] - 0s 26us/sample - loss: 0.3600 - val_loss: 0.3656\n",
      "Epoch 36/100\n",
      "11610/11610 [==============================] - 0s 25us/sample - loss: 0.3593 - val_loss: 0.3402\n",
      "Epoch 37/100\n",
      "11610/11610 [==============================] - 0s 25us/sample - loss: 0.3583 - val_loss: 0.3949\n",
      "Epoch 38/100\n",
      "11610/11610 [==============================] - 0s 26us/sample - loss: 0.3578 - val_loss: 0.3376\n",
      "Epoch 39/100\n",
      "11610/11610 [==============================] - 0s 25us/sample - loss: 0.3563 - val_loss: 0.4037\n",
      "Epoch 40/100\n",
      "11610/11610 [==============================] - 0s 24us/sample - loss: 0.3567 - val_loss: 0.3391\n",
      "Epoch 41/100\n",
      "11610/11610 [==============================] - 0s 25us/sample - loss: 0.3553 - val_loss: 0.4146\n",
      "Epoch 42/100\n",
      "11610/11610 [==============================] - 0s 25us/sample - loss: 0.3552 - val_loss: 0.3376\n",
      "Epoch 43/100\n",
      "11610/11610 [==============================] - 0s 25us/sample - loss: 0.3539 - val_loss: 0.3486\n",
      "Epoch 44/100\n",
      "11610/11610 [==============================] - ETA: 0s - loss: 0.353 - 0s 25us/sample - loss: 0.3533 - val_loss: 0.3355\n",
      "Epoch 45/100\n",
      "11610/11610 [==============================] - 0s 26us/sample - loss: 0.3529 - val_loss: 0.3329\n",
      "Epoch 46/100\n",
      "11610/11610 [==============================] - 0s 26us/sample - loss: 0.3522 - val_loss: 0.3393\n",
      "Epoch 47/100\n",
      "11610/11610 [==============================] - 0s 26us/sample - loss: 0.3510 - val_loss: 0.4173\n",
      "Epoch 48/100\n",
      "11610/11610 [==============================] - 0s 25us/sample - loss: 0.3515 - val_loss: 0.3759\n",
      "Epoch 49/100\n",
      "11610/11610 [==============================] - 0s 25us/sample - loss: 0.3506 - val_loss: 0.4286\n",
      "Epoch 50/100\n",
      "11610/11610 [==============================] - 0s 26us/sample - loss: 0.3506 - val_loss: 0.4004\n",
      "Epoch 51/100\n",
      "11610/11610 [==============================] - 0s 25us/sample - loss: 0.3501 - val_loss: 0.3299\n",
      "Epoch 52/100\n",
      "11610/11610 [==============================] - 0s 25us/sample - loss: 0.3495 - val_loss: 0.3299\n",
      "Epoch 53/100\n",
      "11610/11610 [==============================] - 0s 26us/sample - loss: 0.3485 - val_loss: 0.3600\n",
      "Epoch 54/100\n",
      "11610/11610 [==============================] - 0s 26us/sample - loss: 0.3479 - val_loss: 0.3423\n",
      "Epoch 55/100\n",
      "11610/11610 [==============================] - 0s 26us/sample - loss: 0.3475 - val_loss: 0.3751\n",
      "Epoch 56/100\n",
      "11610/11610 [==============================] - 0s 25us/sample - loss: 0.3472 - val_loss: 0.4234\n",
      "Epoch 57/100\n",
      "11610/11610 [==============================] - 0s 25us/sample - loss: 0.3474 - val_loss: 0.3725\n",
      "Epoch 58/100\n",
      "11610/11610 [==============================] - 0s 25us/sample - loss: 0.3464 - val_loss: 0.3453\n",
      "Epoch 59/100\n",
      "11610/11610 [==============================] - 0s 26us/sample - loss: 0.3457 - val_loss: 0.3601\n",
      "Epoch 60/100\n",
      "11610/11610 [==============================] - 0s 25us/sample - loss: 0.3451 - val_loss: 0.4280\n",
      "Epoch 61/100\n",
      "11610/11610 [==============================] - 0s 25us/sample - loss: 0.3457 - val_loss: 0.3647\n",
      "Epoch 62/100\n",
      "11610/11610 [==============================] - 0s 25us/sample - loss: 0.3442 - val_loss: 0.4654\n"
     ]
    },
    {
     "data": {
      "text/plain": [
       "<tensorflow.python.keras.callbacks.History at 0x229545f65c0>"
      ]
     },
     "execution_count": 20,
     "metadata": {},
     "output_type": "execute_result"
    }
   ],
   "source": [
    "keras_reg.fit(X_train, y_train, epochs=100,\n",
    "             validation_data=(X_valid, y_valid),\n",
    "             callbacks=[keras.callbacks.EarlyStopping(patience=10)])"
   ]
  },
  {
   "cell_type": "code",
   "execution_count": 21,
   "metadata": {},
   "outputs": [],
   "source": [
    "param_distribs = {\n",
    "    \"n_hidden\": [1, 2, 3], \n",
    "    \"n_neurons\": np.arange(40, 45),\n",
    "    \"learning_rate\": reciprocal(3e-4, 3e-2)\n",
    "}"
   ]
  },
  {
   "cell_type": "code",
   "execution_count": 22,
   "metadata": {},
   "outputs": [],
   "source": [
    "rnd_search_cv = RandomizedSearchCV(keras_reg, param_distribs, n_iter=10, cv=3, verbose=2)"
   ]
  },
  {
   "cell_type": "code",
   "execution_count": 23,
   "metadata": {
    "scrolled": true
   },
   "outputs": [],
   "source": [
    "# rnd_search_cv.fit(X_train, y_train, epochs=100, validation_data=(X_valid, y_valid),\n",
    "#                  callbacks=[keras.callbacks.EarlyStopping(patience=10)])"
   ]
  },
  {
   "cell_type": "code",
   "execution_count": 24,
   "metadata": {
    "scrolled": true
   },
   "outputs": [
    {
     "name": "stdout",
     "output_type": "stream",
     "text": [
      "Fitting 3 folds for each of 10 candidates, totalling 30 fits\n",
      "[CV] learning_rate=0.001683454924600351, n_hidden=1, n_neurons=42 ....\n",
      "Train on 7740 samples, validate on 3870 samples\n",
      "Epoch 1/10\n"
     ]
    },
    {
     "name": "stderr",
     "output_type": "stream",
     "text": [
      "[Parallel(n_jobs=1)]: Using backend SequentialBackend with 1 concurrent workers.\n"
     ]
    },
    {
     "name": "stdout",
     "output_type": "stream",
     "text": [
      "7740/7740 [==============================] - 0s 62us/sample - loss: 1.7605 - val_loss: 0.8180\n",
      "Epoch 2/10\n",
      "7740/7740 [==============================] - 0s 28us/sample - loss: 0.7492 - val_loss: 0.6902\n",
      "Epoch 3/10\n",
      "7740/7740 [==============================] - 0s 30us/sample - loss: 0.6682 - val_loss: 0.6794\n",
      "Epoch 4/10\n",
      "7740/7740 [==============================] - 0s 27us/sample - loss: 0.6227 - val_loss: 0.6877\n",
      "Epoch 5/10\n",
      "7740/7740 [==============================] - 0s 28us/sample - loss: 0.5881 - val_loss: 0.5605\n",
      "Epoch 6/10\n",
      "7740/7740 [==============================] - 0s 28us/sample - loss: 0.5563 - val_loss: 0.5246\n",
      "Epoch 7/10\n",
      "7740/7740 [==============================] - 0s 27us/sample - loss: 0.5309 - val_loss: 0.5171\n",
      "Epoch 8/10\n",
      "7740/7740 [==============================] - 0s 28us/sample - loss: 0.5110 - val_loss: 0.5072\n",
      "Epoch 9/10\n",
      "7740/7740 [==============================] - 0s 26us/sample - loss: 0.4933 - val_loss: 0.4714\n",
      "Epoch 10/10\n",
      "7740/7740 [==============================] - 0s 28us/sample - loss: 0.4791 - val_loss: 0.4526\n",
      "3870/3870 [==============================] - 0s 12us/sample - loss: 0.4742\n",
      "[CV]  learning_rate=0.001683454924600351, n_hidden=1, n_neurons=42, total=   2.6s\n",
      "[CV] learning_rate=0.001683454924600351, n_hidden=1, n_neurons=42 ....\n",
      "Train on 7740 samples, validate on 3870 samples\n",
      "Epoch 1/10\n"
     ]
    },
    {
     "name": "stderr",
     "output_type": "stream",
     "text": [
      "[Parallel(n_jobs=1)]: Done   1 out of   1 | elapsed:    2.5s remaining:    0.0s\n"
     ]
    },
    {
     "name": "stdout",
     "output_type": "stream",
     "text": [
      "7740/7740 [==============================] - 0s 58us/sample - loss: 1.5698 - val_loss: 0.8937\n",
      "Epoch 2/10\n",
      "7740/7740 [==============================] - 0s 29us/sample - loss: 0.7232 - val_loss: 0.6627\n",
      "Epoch 3/10\n",
      "7740/7740 [==============================] - 0s 29us/sample - loss: 0.6623 - val_loss: 0.7438\n",
      "Epoch 4/10\n",
      "7740/7740 [==============================] - 0s 28us/sample - loss: 0.6204 - val_loss: 0.9256\n",
      "3870/3870 [==============================] - 0s 12us/sample - loss: 0.6249\n",
      "[CV]  learning_rate=0.001683454924600351, n_hidden=1, n_neurons=42, total=   1.2s\n",
      "[CV] learning_rate=0.001683454924600351, n_hidden=1, n_neurons=42 ....\n",
      "Train on 7740 samples, validate on 3870 samples\n",
      "Epoch 1/10\n",
      "7740/7740 [==============================] - 0s 58us/sample - loss: 2.0150 - val_loss: 7.4186\n",
      "Epoch 2/10\n",
      "7740/7740 [==============================] - 0s 29us/sample - loss: 0.7936 - val_loss: 3.2821\n",
      "Epoch 3/10\n",
      "7740/7740 [==============================] - 0s 28us/sample - loss: 0.6761 - val_loss: 1.3613\n",
      "Epoch 4/10\n",
      "7740/7740 [==============================] - 0s 28us/sample - loss: 0.6329 - val_loss: 1.0532\n",
      "Epoch 5/10\n",
      "7740/7740 [==============================] - 0s 29us/sample - loss: 0.5892 - val_loss: 0.6785\n",
      "Epoch 6/10\n",
      "7740/7740 [==============================] - 0s 27us/sample - loss: 0.5660 - val_loss: 0.5503\n",
      "Epoch 7/10\n",
      "7740/7740 [==============================] - 0s 27us/sample - loss: 0.5412 - val_loss: 0.5065\n",
      "Epoch 8/10\n",
      "7740/7740 [==============================] - 0s 27us/sample - loss: 0.5236 - val_loss: 0.4870\n",
      "Epoch 9/10\n",
      "7740/7740 [==============================] - 0s 28us/sample - loss: 0.5077 - val_loss: 0.4755\n",
      "Epoch 10/10\n",
      "7740/7740 [==============================] - 0s 29us/sample - loss: 0.4948 - val_loss: 0.4625\n",
      "3870/3870 [==============================] - 0s 12us/sample - loss: 0.4951\n",
      "[CV]  learning_rate=0.001683454924600351, n_hidden=1, n_neurons=42, total=   2.5s\n",
      "[CV] learning_rate=0.010876852903728678, n_hidden=1, n_neurons=41 ....\n",
      "Train on 7740 samples, validate on 3870 samples\n",
      "Epoch 1/10\n",
      "7740/7740 [==============================] - 0s 57us/sample - loss: 0.9627 - val_loss: 22.5509\n",
      "Epoch 2/10\n",
      "7740/7740 [==============================] - 0s 31us/sample - loss: 0.7299 - val_loss: 46.6294\n",
      "Epoch 3/10\n",
      "7740/7740 [==============================] - 0s 33us/sample - loss: 0.7714 - val_loss: 0.4391\n",
      "Epoch 4/10\n",
      "7740/7740 [==============================] - 0s 30us/sample - loss: 0.4088 - val_loss: 0.4798\n",
      "Epoch 5/10\n",
      "7740/7740 [==============================] - 0s 28us/sample - loss: 0.3912 - val_loss: 0.4223\n",
      "Epoch 6/10\n",
      "7740/7740 [==============================] - 0s 28us/sample - loss: 0.3836 - val_loss: 0.4060\n",
      "Epoch 7/10\n",
      "7740/7740 [==============================] - 0s 28us/sample - loss: 0.3769 - val_loss: 0.4203\n",
      "Epoch 8/10\n",
      "7740/7740 [==============================] - 0s 28us/sample - loss: 0.3726 - val_loss: 0.3841\n",
      "Epoch 9/10\n",
      "7740/7740 [==============================] - 0s 28us/sample - loss: 0.3716 - val_loss: 0.4007\n",
      "Epoch 10/10\n",
      "7740/7740 [==============================] - 0s 30us/sample - loss: 0.3645 - val_loss: 0.3883\n",
      "3870/3870 [==============================] - 0s 12us/sample - loss: 0.3811\n",
      "[CV]  learning_rate=0.010876852903728678, n_hidden=1, n_neurons=41, total=   2.7s\n",
      "[CV] learning_rate=0.010876852903728678, n_hidden=1, n_neurons=41 ....\n",
      "Train on 7740 samples, validate on 3870 samples\n",
      "Epoch 1/10\n",
      "7740/7740 [==============================] - 0s 58us/sample - loss: 0.8282 - val_loss: 0.4801\n",
      "Epoch 2/10\n",
      "7740/7740 [==============================] - 0s 29us/sample - loss: 0.4657 - val_loss: 0.9127\n",
      "Epoch 3/10\n",
      "7740/7740 [==============================] - 0s 29us/sample - loss: 0.4270 - val_loss: 0.4121\n",
      "Epoch 4/10\n",
      "7740/7740 [==============================] - 0s 29us/sample - loss: 0.4086 - val_loss: 0.4032\n",
      "Epoch 5/10\n",
      "7740/7740 [==============================] - 0s 29us/sample - loss: 0.3978 - val_loss: 0.4298\n",
      "Epoch 6/10\n",
      "7740/7740 [==============================] - 0s 30us/sample - loss: 0.3912 - val_loss: 0.5264\n",
      "3870/3870 [==============================] - 0s 14us/sample - loss: 0.3972\n",
      "[CV]  learning_rate=0.010876852903728678, n_hidden=1, n_neurons=41, total=   1.7s\n",
      "[CV] learning_rate=0.010876852903728678, n_hidden=1, n_neurons=41 ....\n",
      "Train on 7740 samples, validate on 3870 samples\n",
      "Epoch 1/10\n",
      "7740/7740 [==============================] - 0s 58us/sample - loss: 1.0993 - val_loss: 7.1195\n",
      "Epoch 2/10\n",
      "7740/7740 [==============================] - 0s 30us/sample - loss: 0.5200 - val_loss: 33.4646\n",
      "Epoch 3/10\n",
      "7740/7740 [==============================] - 0s 28us/sample - loss: 0.9311 - val_loss: 0.5591\n",
      "Epoch 4/10\n",
      "7740/7740 [==============================] - 0s 28us/sample - loss: 0.4636 - val_loss: 0.5875\n",
      "Epoch 5/10\n",
      "7740/7740 [==============================] - 0s 30us/sample - loss: 0.4435 - val_loss: 4.6845\n",
      "3870/3870 [==============================] - 0s 12us/sample - loss: 0.3978\n",
      "[CV]  learning_rate=0.010876852903728678, n_hidden=1, n_neurons=41, total=   1.5s\n",
      "[CV] learning_rate=0.0006153331256530192, n_hidden=3, n_neurons=42 ...\n",
      "Train on 7740 samples, validate on 3870 samples\n",
      "Epoch 1/10\n",
      "7740/7740 [==============================] - 1s 68us/sample - loss: 2.8659 - val_loss: 8.4617\n",
      "Epoch 2/10\n",
      "7740/7740 [==============================] - 0s 31us/sample - loss: 1.2298 - val_loss: 0.9246\n",
      "Epoch 3/10\n",
      "7740/7740 [==============================] - 0s 32us/sample - loss: 0.8511 - val_loss: 0.7579\n",
      "Epoch 4/10\n",
      "7740/7740 [==============================] - 0s 32us/sample - loss: 0.7489 - val_loss: 0.6823\n",
      "Epoch 5/10\n",
      "7740/7740 [==============================] - 0s 31us/sample - loss: 0.6984 - val_loss: 0.6414\n",
      "Epoch 6/10\n",
      "7740/7740 [==============================] - 0s 31us/sample - loss: 0.6661 - val_loss: 0.6154\n",
      "Epoch 7/10\n",
      "7740/7740 [==============================] - 0s 31us/sample - loss: 0.6407 - val_loss: 0.5996\n",
      "Epoch 8/10\n",
      "7740/7740 [==============================] - 0s 32us/sample - loss: 0.6196 - val_loss: 0.5742\n",
      "Epoch 9/10\n",
      "7740/7740 [==============================] - 0s 32us/sample - loss: 0.6002 - val_loss: 0.5563\n",
      "Epoch 10/10\n",
      "7740/7740 [==============================] - 0s 31us/sample - loss: 0.5826 - val_loss: 0.5398\n",
      "3870/3870 [==============================] - 0s 14us/sample - loss: 0.5711\n",
      "[CV]  learning_rate=0.0006153331256530192, n_hidden=3, n_neurons=42, total=   2.9s\n",
      "[CV] learning_rate=0.0006153331256530192, n_hidden=3, n_neurons=42 ...\n",
      "Train on 7740 samples, validate on 3870 samples\n",
      "Epoch 1/10\n",
      "7740/7740 [==============================] - 1s 85us/sample - loss: 1.7806 - val_loss: 11.5697\n",
      "Epoch 2/10\n",
      "7740/7740 [==============================] - 0s 31us/sample - loss: 0.8108 - val_loss: 6.0847\n",
      "Epoch 3/10\n",
      "7740/7740 [==============================] - 0s 34us/sample - loss: 0.7198 - val_loss: 3.2736\n",
      "Epoch 4/10\n",
      "7740/7740 [==============================] - 0s 31us/sample - loss: 0.6738 - val_loss: 1.7949\n",
      "Epoch 5/10\n",
      "7740/7740 [==============================] - 0s 32us/sample - loss: 0.6397 - val_loss: 1.1156\n",
      "Epoch 6/10\n",
      "7740/7740 [==============================] - 0s 32us/sample - loss: 0.6117 - val_loss: 0.7299\n",
      "Epoch 7/10\n",
      "7740/7740 [==============================] - 0s 31us/sample - loss: 0.5887 - val_loss: 0.5502\n",
      "Epoch 8/10\n",
      "7740/7740 [==============================] - 0s 32us/sample - loss: 0.5691 - val_loss: 0.5327\n",
      "Epoch 9/10\n",
      "7740/7740 [==============================] - 0s 33us/sample - loss: 0.5523 - val_loss: 0.6073\n",
      "Epoch 10/10\n",
      "7740/7740 [==============================] - 0s 34us/sample - loss: 0.5378 - val_loss: 0.6638\n",
      "3870/3870 [==============================] - 0s 26us/sample - loss: 0.5421\n",
      "[CV]  learning_rate=0.0006153331256530192, n_hidden=3, n_neurons=42, total=   3.1s\n",
      "[CV] learning_rate=0.0006153331256530192, n_hidden=3, n_neurons=42 ...\n",
      "Train on 7740 samples, validate on 3870 samples\n",
      "Epoch 1/10\n",
      "7740/7740 [==============================] - 1s 70us/sample - loss: 2.4999 - val_loss: 1.4268\n",
      "Epoch 2/10\n",
      "7740/7740 [==============================] - 0s 31us/sample - loss: 0.9827 - val_loss: 0.8812\n",
      "Epoch 3/10\n",
      "7740/7740 [==============================] - 0s 31us/sample - loss: 0.7756 - val_loss: 0.7208\n",
      "Epoch 4/10\n",
      "7740/7740 [==============================] - 0s 32us/sample - loss: 0.6824 - val_loss: 0.6498\n",
      "Epoch 5/10\n"
     ]
    },
    {
     "name": "stdout",
     "output_type": "stream",
     "text": [
      "7740/7740 [==============================] - 0s 32us/sample - loss: 0.6320 - val_loss: 0.6109\n",
      "Epoch 6/10\n",
      "7740/7740 [==============================] - 0s 32us/sample - loss: 0.5999 - val_loss: 0.5840\n",
      "Epoch 7/10\n",
      "7740/7740 [==============================] - 0s 32us/sample - loss: 0.5765 - val_loss: 0.5658\n",
      "Epoch 8/10\n",
      "7740/7740 [==============================] - 0s 32us/sample - loss: 0.5573 - val_loss: 0.5554\n",
      "Epoch 9/10\n",
      "7740/7740 [==============================] - 0s 32us/sample - loss: 0.5408 - val_loss: 0.5419\n",
      "Epoch 10/10\n",
      "7740/7740 [==============================] - 0s 31us/sample - loss: 0.5261 - val_loss: 0.5420\n",
      "3870/3870 [==============================] - 0s 14us/sample - loss: 0.5221\n",
      "[CV]  learning_rate=0.0006153331256530192, n_hidden=3, n_neurons=42, total=   2.9s\n",
      "[CV] learning_rate=0.01619845322936229, n_hidden=3, n_neurons=44 .....\n",
      "Train on 7740 samples, validate on 3870 samples\n",
      "Epoch 1/10\n",
      "7740/7740 [==============================] - 1s 67us/sample - loss: 0.7754 - val_loss: 1.0463\n",
      "Epoch 2/10\n",
      "7740/7740 [==============================] - 0s 32us/sample - loss: 0.4175 - val_loss: 1.0905\n",
      "Epoch 3/10\n",
      "7740/7740 [==============================] - 0s 32us/sample - loss: 0.3947 - val_loss: 0.6927\n",
      "Epoch 4/10\n",
      "7740/7740 [==============================] - 0s 32us/sample - loss: 0.3697 - val_loss: 1.1092\n",
      "Epoch 5/10\n",
      "7740/7740 [==============================] - 0s 32us/sample - loss: 0.3755 - val_loss: 2.9157\n",
      "3870/3870 [==============================] - 0s 14us/sample - loss: 0.4256\n",
      "[CV]  learning_rate=0.01619845322936229, n_hidden=3, n_neurons=44, total=   1.7s\n",
      "[CV] learning_rate=0.01619845322936229, n_hidden=3, n_neurons=44 .....\n",
      "Train on 7740 samples, validate on 3870 samples\n",
      "Epoch 1/10\n",
      "7740/7740 [==============================] - 1s 68us/sample - loss: 0.6960 - val_loss: 0.5195\n",
      "Epoch 2/10\n",
      "7740/7740 [==============================] - 0s 31us/sample - loss: 0.4201 - val_loss: 0.5863\n",
      "Epoch 3/10\n",
      "7740/7740 [==============================] - 0s 30us/sample - loss: 0.3885 - val_loss: 1.1913\n",
      "3870/3870 [==============================] - 0s 13us/sample - loss: 0.3897\n",
      "[CV]  learning_rate=0.01619845322936229, n_hidden=3, n_neurons=44, total=   1.1s\n",
      "[CV] learning_rate=0.01619845322936229, n_hidden=3, n_neurons=44 .....\n",
      "Train on 7740 samples, validate on 3870 samples\n",
      "Epoch 1/10\n",
      "7740/7740 [==============================] - 1s 82us/sample - loss: 0.7387 - val_loss: 0.4486\n",
      "Epoch 2/10\n",
      "7740/7740 [==============================] - 0s 31us/sample - loss: 0.4429 - val_loss: 7.8167\n",
      "Epoch 3/10\n",
      "7740/7740 [==============================] - 0s 31us/sample - loss: 0.4805 - val_loss: 0.7418\n",
      "3870/3870 [==============================] - 0s 13us/sample - loss: 0.3763\n",
      "[CV]  learning_rate=0.01619845322936229, n_hidden=3, n_neurons=44, total=   1.3s\n",
      "[CV] learning_rate=0.026118062634914545, n_hidden=2, n_neurons=41 ....\n",
      "Train on 7740 samples, validate on 3870 samples\n",
      "Epoch 1/10\n",
      "7740/7740 [==============================] - 0s 62us/sample - loss: 0.6363 - val_loss: 1.4538\n",
      "Epoch 2/10\n",
      "7740/7740 [==============================] - 0s 31us/sample - loss: 0.8359 - val_loss: 4.5777\n",
      "Epoch 3/10\n",
      "7740/7740 [==============================] - 0s 31us/sample - loss: 0.4475 - val_loss: 0.7924\n",
      "Epoch 4/10\n",
      "7740/7740 [==============================] - 0s 29us/sample - loss: 0.3998 - val_loss: 1.4419\n",
      "Epoch 5/10\n",
      "7740/7740 [==============================] - 0s 30us/sample - loss: 0.3677 - val_loss: 0.4841\n",
      "Epoch 6/10\n",
      "7740/7740 [==============================] - 0s 29us/sample - loss: 0.3631 - val_loss: 0.3676\n",
      "Epoch 7/10\n",
      "7740/7740 [==============================] - 0s 30us/sample - loss: 0.3545 - val_loss: 3.8716\n",
      "Epoch 8/10\n",
      "7740/7740 [==============================] - 0s 30us/sample - loss: 0.4033 - val_loss: 9.6085\n",
      "3870/3870 [==============================] - 0s 14us/sample - loss: 0.4261\n",
      "[CV]  learning_rate=0.026118062634914545, n_hidden=2, n_neurons=41, total=   2.3s\n",
      "[CV] learning_rate=0.026118062634914545, n_hidden=2, n_neurons=41 ....\n",
      "Train on 7740 samples, validate on 3870 samples\n",
      "Epoch 1/10\n",
      "7740/7740 [==============================] - 0s 62us/sample - loss: 0.6375 - val_loss: 0.4220\n",
      "Epoch 2/10\n",
      "7740/7740 [==============================] - 0s 29us/sample - loss: 0.4071 - val_loss: 0.5814\n",
      "Epoch 3/10\n",
      "7740/7740 [==============================] - 0s 30us/sample - loss: 0.3854 - val_loss: 1.9441\n",
      "3870/3870 [==============================] - 0s 16us/sample - loss: 0.4004\n",
      "[CV]  learning_rate=0.026118062634914545, n_hidden=2, n_neurons=41, total=   1.1s\n",
      "[CV] learning_rate=0.026118062634914545, n_hidden=2, n_neurons=41 ....\n",
      "Train on 7740 samples, validate on 3870 samples\n",
      "Epoch 1/10\n",
      "7740/7740 [==============================] - 1s 67us/sample - loss: 0.6347 - val_loss: 0.8415\n",
      "Epoch 2/10\n",
      "7740/7740 [==============================] - 0s 31us/sample - loss: 0.5810 - val_loss: 0.4639\n",
      "Epoch 3/10\n",
      "7740/7740 [==============================] - 0s 31us/sample - loss: 0.3957 - val_loss: 1.9202\n",
      "Epoch 4/10\n",
      "7740/7740 [==============================] - 0s 31us/sample - loss: 0.4143 - val_loss: 4.2690\n",
      "3870/3870 [==============================] - 0s 13us/sample - loss: 0.3763\n",
      "[CV]  learning_rate=0.026118062634914545, n_hidden=2, n_neurons=41, total=   1.4s\n",
      "[CV] learning_rate=0.0006930605663535878, n_hidden=1, n_neurons=40 ...\n",
      "Train on 7740 samples, validate on 3870 samples\n",
      "Epoch 1/10\n",
      "7740/7740 [==============================] - 0s 60us/sample - loss: 3.2951 - val_loss: 5.5936\n",
      "Epoch 2/10\n",
      "7740/7740 [==============================] - 0s 28us/sample - loss: 1.2203 - val_loss: 1.0024\n",
      "Epoch 3/10\n",
      "7740/7740 [==============================] - 0s 27us/sample - loss: 0.7727 - val_loss: 0.6617\n",
      "Epoch 4/10\n",
      "7740/7740 [==============================] - 0s 28us/sample - loss: 0.6774 - val_loss: 0.6522\n",
      "Epoch 5/10\n",
      "7740/7740 [==============================] - 0s 29us/sample - loss: 0.6480 - val_loss: 0.6262\n",
      "Epoch 6/10\n",
      "7740/7740 [==============================] - 0s 28us/sample - loss: 0.6309 - val_loss: 0.6095\n",
      "Epoch 7/10\n",
      "7740/7740 [==============================] - 0s 29us/sample - loss: 0.6161 - val_loss: 0.6287\n",
      "Epoch 8/10\n",
      "7740/7740 [==============================] - 0s 27us/sample - loss: 0.6035 - val_loss: 0.5804\n",
      "Epoch 9/10\n",
      "7740/7740 [==============================] - 0s 28us/sample - loss: 0.5911 - val_loss: 0.5600\n",
      "Epoch 10/10\n",
      "7740/7740 [==============================] - 0s 28us/sample - loss: 0.5795 - val_loss: 0.5529\n",
      "3870/3870 [==============================] - 0s 12us/sample - loss: 0.5677\n",
      "[CV]  learning_rate=0.0006930605663535878, n_hidden=1, n_neurons=40, total=   2.6s\n",
      "[CV] learning_rate=0.0006930605663535878, n_hidden=1, n_neurons=40 ...\n",
      "Train on 7740 samples, validate on 3870 samples\n",
      "Epoch 1/10\n",
      "7740/7740 [==============================] - 1s 72us/sample - loss: 2.6783 - val_loss: 5.4003\n",
      "Epoch 2/10\n",
      "7740/7740 [==============================] - 0s 30us/sample - loss: 1.1358 - val_loss: 4.7910\n",
      "Epoch 3/10\n",
      "7740/7740 [==============================] - 0s 29us/sample - loss: 0.8682 - val_loss: 3.5680\n",
      "Epoch 4/10\n",
      "7740/7740 [==============================] - 0s 28us/sample - loss: 0.7766 - val_loss: 2.5782\n",
      "Epoch 5/10\n",
      "7740/7740 [==============================] - 0s 28us/sample - loss: 0.7296 - val_loss: 1.8813\n",
      "Epoch 6/10\n",
      "7740/7740 [==============================] - 0s 31us/sample - loss: 0.6978 - val_loss: 1.4152\n",
      "Epoch 7/10\n",
      "7740/7740 [==============================] - 0s 29us/sample - loss: 0.6724 - val_loss: 1.0786\n",
      "Epoch 8/10\n",
      "7740/7740 [==============================] - 0s 28us/sample - loss: 0.6507 - val_loss: 0.8704\n",
      "Epoch 9/10\n",
      "7740/7740 [==============================] - 0s 28us/sample - loss: 0.6309 - val_loss: 0.7139\n",
      "Epoch 10/10\n",
      "7740/7740 [==============================] - 0s 29us/sample - loss: 0.6130 - val_loss: 0.6268\n",
      "3870/3870 [==============================] - 0s 13us/sample - loss: 0.6017\n",
      "[CV]  learning_rate=0.0006930605663535878, n_hidden=1, n_neurons=40, total=   2.7s\n",
      "[CV] learning_rate=0.0006930605663535878, n_hidden=1, n_neurons=40 ...\n",
      "Train on 7740 samples, validate on 3870 samples\n",
      "Epoch 1/10\n",
      "7740/7740 [==============================] - 1s 68us/sample - loss: 3.6252 - val_loss: 5.1789\n",
      "Epoch 2/10\n",
      "7740/7740 [==============================] - 0s 35us/sample - loss: 1.4001 - val_loss: 0.9679\n",
      "Epoch 3/10\n"
     ]
    },
    {
     "name": "stdout",
     "output_type": "stream",
     "text": [
      "7740/7740 [==============================] - 0s 29us/sample - loss: 0.8471 - val_loss: 0.7278\n",
      "Epoch 4/10\n",
      "7740/7740 [==============================] - 0s 30us/sample - loss: 0.7128 - val_loss: 0.6497\n",
      "Epoch 5/10\n",
      "7740/7740 [==============================] - 0s 30us/sample - loss: 0.6644 - val_loss: 0.6537\n",
      "Epoch 6/10\n",
      "7740/7740 [==============================] - 0s 29us/sample - loss: 0.6384 - val_loss: 0.6023\n",
      "Epoch 7/10\n",
      "7740/7740 [==============================] - 0s 29us/sample - loss: 0.6171 - val_loss: 0.5971\n",
      "Epoch 8/10\n",
      "7740/7740 [==============================] - 0s 28us/sample - loss: 0.5997 - val_loss: 0.5932\n",
      "Epoch 9/10\n",
      "7740/7740 [==============================] - 0s 28us/sample - loss: 0.5844 - val_loss: 0.5976\n",
      "Epoch 10/10\n",
      "7740/7740 [==============================] - 0s 28us/sample - loss: 0.5713 - val_loss: 0.5632\n",
      "3870/3870 [==============================] - 0s 13us/sample - loss: 0.5649\n",
      "[CV]  learning_rate=0.0006930605663535878, n_hidden=1, n_neurons=40, total=   2.7s\n",
      "[CV] learning_rate=0.0012178834831452913, n_hidden=2, n_neurons=44 ...\n",
      "Train on 7740 samples, validate on 3870 samples\n",
      "Epoch 1/10\n",
      "7740/7740 [==============================] - 0s 63us/sample - loss: 2.3942 - val_loss: 3.0451\n",
      "Epoch 2/10\n",
      "7740/7740 [==============================] - 0s 29us/sample - loss: 0.8908 - val_loss: 0.8084\n",
      "Epoch 3/10\n",
      "7740/7740 [==============================] - 0s 30us/sample - loss: 0.7132 - val_loss: 0.6581\n",
      "Epoch 4/10\n",
      "7740/7740 [==============================] - 0s 30us/sample - loss: 0.6469 - val_loss: 0.6925\n",
      "Epoch 5/10\n",
      "7740/7740 [==============================] - 0s 30us/sample - loss: 0.6048 - val_loss: 0.5988\n",
      "Epoch 6/10\n",
      "7740/7740 [==============================] - 0s 30us/sample - loss: 0.5672 - val_loss: 0.5260\n",
      "Epoch 7/10\n",
      "7740/7740 [==============================] - 0s 31us/sample - loss: 0.5365 - val_loss: 0.5015\n",
      "Epoch 8/10\n",
      "7740/7740 [==============================] - 0s 30us/sample - loss: 0.5125 - val_loss: 0.4911\n",
      "Epoch 9/10\n",
      "7740/7740 [==============================] - 0s 30us/sample - loss: 0.4924 - val_loss: 0.4674\n",
      "Epoch 10/10\n",
      "7740/7740 [==============================] - 0s 31us/sample - loss: 0.4760 - val_loss: 0.4516\n",
      "3870/3870 [==============================] - 0s 13us/sample - loss: 0.4680\n",
      "[CV]  learning_rate=0.0012178834831452913, n_hidden=2, n_neurons=44, total=   2.7s\n",
      "[CV] learning_rate=0.0012178834831452913, n_hidden=2, n_neurons=44 ...\n",
      "Train on 7740 samples, validate on 3870 samples\n",
      "Epoch 1/10\n",
      "7740/7740 [==============================] - 0s 64us/sample - loss: 1.7368 - val_loss: 34.9343\n",
      "Epoch 2/10\n",
      "7740/7740 [==============================] - 0s 31us/sample - loss: 0.8133 - val_loss: 20.2288\n",
      "Epoch 3/10\n",
      "7740/7740 [==============================] - 0s 31us/sample - loss: 0.6958 - val_loss: 11.4504\n",
      "Epoch 4/10\n",
      "7740/7740 [==============================] - 0s 38us/sample - loss: 0.6226 - val_loss: 6.5196\n",
      "Epoch 5/10\n",
      "7740/7740 [==============================] - 0s 38us/sample - loss: 0.5668 - val_loss: 3.9276\n",
      "Epoch 6/10\n",
      "7740/7740 [==============================] - 0s 32us/sample - loss: 0.5242 - val_loss: 2.4873\n",
      "Epoch 7/10\n",
      "7740/7740 [==============================] - 0s 30us/sample - loss: 0.4924 - val_loss: 1.4629\n",
      "Epoch 8/10\n",
      "7740/7740 [==============================] - 0s 30us/sample - loss: 0.4694 - val_loss: 1.0379\n",
      "Epoch 9/10\n",
      "7740/7740 [==============================] - 0s 30us/sample - loss: 0.4524 - val_loss: 0.6989\n",
      "Epoch 10/10\n",
      "7740/7740 [==============================] - 0s 32us/sample - loss: 0.4401 - val_loss: 0.6369\n",
      "3870/3870 [==============================] - 0s 13us/sample - loss: 0.4513\n",
      "[CV]  learning_rate=0.0012178834831452913, n_hidden=2, n_neurons=44, total=   2.9s\n",
      "[CV] learning_rate=0.0012178834831452913, n_hidden=2, n_neurons=44 ...\n",
      "Train on 7740 samples, validate on 3870 samples\n",
      "Epoch 1/10\n",
      "7740/7740 [==============================] - 0s 64us/sample - loss: 1.8933 - val_loss: 1.0082\n",
      "Epoch 2/10\n",
      "7740/7740 [==============================] - 0s 30us/sample - loss: 0.7497 - val_loss: 0.6769\n",
      "Epoch 3/10\n",
      "7740/7740 [==============================] - 0s 31us/sample - loss: 0.6497 - val_loss: 0.6484\n",
      "Epoch 4/10\n",
      "7740/7740 [==============================] - 0s 31us/sample - loss: 0.6014 - val_loss: 0.6253\n",
      "Epoch 5/10\n",
      "7740/7740 [==============================] - 0s 30us/sample - loss: 0.5636 - val_loss: 0.5516\n",
      "Epoch 6/10\n",
      "7740/7740 [==============================] - 0s 30us/sample - loss: 0.5316 - val_loss: 0.5138\n",
      "Epoch 7/10\n",
      "7740/7740 [==============================] - 0s 30us/sample - loss: 0.5048 - val_loss: 0.5143\n",
      "Epoch 8/10\n",
      "7740/7740 [==============================] - 0s 30us/sample - loss: 0.4832 - val_loss: 0.4881\n",
      "Epoch 9/10\n",
      "7740/7740 [==============================] - 0s 32us/sample - loss: 0.4650 - val_loss: 0.4753\n",
      "Epoch 10/10\n",
      "7740/7740 [==============================] - 0s 32us/sample - loss: 0.4509 - val_loss: 0.4941\n",
      "3870/3870 [==============================] - 0s 13us/sample - loss: 0.4496\n",
      "[CV]  learning_rate=0.0012178834831452913, n_hidden=2, n_neurons=44, total=   2.8s\n",
      "[CV] learning_rate=0.0021928619507738728, n_hidden=1, n_neurons=42 ...\n",
      "Train on 7740 samples, validate on 3870 samples\n",
      "Epoch 1/10\n",
      "7740/7740 [==============================] - 1s 73us/sample - loss: 1.5672 - val_loss: 1.0493\n",
      "Epoch 2/10\n",
      "7740/7740 [==============================] - 0s 28us/sample - loss: 0.6687 - val_loss: 4.8510\n",
      "Epoch 3/10\n",
      "7740/7740 [==============================] - 0s 29us/sample - loss: 0.6104 - val_loss: 5.0075\n",
      "3870/3870 [==============================] - 0s 13us/sample - loss: 0.5615\n",
      "[CV]  learning_rate=0.0021928619507738728, n_hidden=1, n_neurons=42, total=   1.1s\n",
      "[CV] learning_rate=0.0021928619507738728, n_hidden=1, n_neurons=42 ...\n",
      "Train on 7740 samples, validate on 3870 samples\n",
      "Epoch 1/10\n",
      "7740/7740 [==============================] - 0s 59us/sample - loss: 1.5694 - val_loss: 26.7756\n",
      "Epoch 2/10\n",
      "7740/7740 [==============================] - 0s 28us/sample - loss: 0.8098 - val_loss: 10.3512\n",
      "Epoch 3/10\n",
      "7740/7740 [==============================] - 0s 29us/sample - loss: 0.7116 - val_loss: 3.2833\n",
      "Epoch 4/10\n",
      "7740/7740 [==============================] - 0s 29us/sample - loss: 0.6430 - val_loss: 1.0973\n",
      "Epoch 5/10\n",
      "7740/7740 [==============================] - 0s 28us/sample - loss: 0.5890 - val_loss: 0.5525\n",
      "Epoch 6/10\n",
      "7740/7740 [==============================] - 0s 29us/sample - loss: 0.5460 - val_loss: 0.7157\n",
      "Epoch 7/10\n",
      "7740/7740 [==============================] - 0s 28us/sample - loss: 0.5119 - val_loss: 1.0740\n",
      "3870/3870 [==============================] - 0s 14us/sample - loss: 0.5285\n",
      "[CV]  learning_rate=0.0021928619507738728, n_hidden=1, n_neurons=42, total=   1.9s\n",
      "[CV] learning_rate=0.0021928619507738728, n_hidden=1, n_neurons=42 ...\n",
      "Train on 7740 samples, validate on 3870 samples\n",
      "Epoch 1/10\n",
      "7740/7740 [==============================] - 0s 58us/sample - loss: 1.7237 - val_loss: 1.9464\n",
      "Epoch 2/10\n",
      "7740/7740 [==============================] - 0s 29us/sample - loss: 0.7065 - val_loss: 0.8517\n",
      "Epoch 3/10\n",
      "7740/7740 [==============================] - 0s 28us/sample - loss: 0.6191 - val_loss: 0.6551\n",
      "Epoch 4/10\n",
      "7740/7740 [==============================] - 0s 29us/sample - loss: 0.5747 - val_loss: 0.6592\n",
      "Epoch 5/10\n",
      "7740/7740 [==============================] - 0s 29us/sample - loss: 0.5347 - val_loss: 0.5295\n",
      "Epoch 6/10\n",
      "7740/7740 [==============================] - 0s 28us/sample - loss: 0.5073 - val_loss: 0.4674\n",
      "Epoch 7/10\n",
      "7740/7740 [==============================] - 0s 28us/sample - loss: 0.4833 - val_loss: 0.4493\n",
      "Epoch 8/10\n",
      "7740/7740 [==============================] - 0s 29us/sample - loss: 0.4661 - val_loss: 0.4299\n",
      "Epoch 9/10\n",
      "7740/7740 [==============================] - 0s 29us/sample - loss: 0.4525 - val_loss: 0.4188\n",
      "Epoch 10/10\n",
      "7740/7740 [==============================] - 0s 29us/sample - loss: 0.4419 - val_loss: 0.4252\n",
      "3870/3870 [==============================] - 0s 13us/sample - loss: 0.4411\n",
      "[CV]  learning_rate=0.0021928619507738728, n_hidden=1, n_neurons=42, total=   2.6s\n",
      "[CV] learning_rate=0.005021425736625637, n_hidden=2, n_neurons=43 ....\n",
      "Train on 7740 samples, validate on 3870 samples\n",
      "Epoch 1/10\n",
      "7740/7740 [==============================] - 0s 63us/sample - loss: 1.2215 - val_loss: 5.7518\n",
      "Epoch 2/10\n"
     ]
    },
    {
     "name": "stdout",
     "output_type": "stream",
     "text": [
      "7740/7740 [==============================] - 0s 30us/sample - loss: 0.6325 - val_loss: 7.9812\n",
      "Epoch 3/10\n",
      "7740/7740 [==============================] - 0s 30us/sample - loss: 0.5663 - val_loss: 1.0344\n",
      "Epoch 4/10\n",
      "7740/7740 [==============================] - 0s 30us/sample - loss: 0.4517 - val_loss: 0.5222\n",
      "Epoch 5/10\n",
      "7740/7740 [==============================] - 0s 30us/sample - loss: 0.4178 - val_loss: 0.4184\n",
      "Epoch 6/10\n",
      "7740/7740 [==============================] - 0s 31us/sample - loss: 0.4027 - val_loss: 0.3701\n",
      "Epoch 7/10\n",
      "7740/7740 [==============================] - 0s 31us/sample - loss: 0.3921 - val_loss: 0.3628\n",
      "Epoch 8/10\n",
      "7740/7740 [==============================] - 0s 30us/sample - loss: 0.3841 - val_loss: 0.3652\n",
      "Epoch 9/10\n",
      "7740/7740 [==============================] - 0s 30us/sample - loss: 0.3785 - val_loss: 0.3701\n",
      "3870/3870 [==============================] - 0s 14us/sample - loss: 0.3897\n",
      "[CV]  learning_rate=0.005021425736625637, n_hidden=2, n_neurons=43, total=   2.5s\n",
      "[CV] learning_rate=0.005021425736625637, n_hidden=2, n_neurons=43 ....\n",
      "Train on 7740 samples, validate on 3870 samples\n",
      "Epoch 1/10\n",
      "7740/7740 [==============================] - 0s 62us/sample - loss: 1.0215 - val_loss: 0.5624\n",
      "Epoch 2/10\n",
      "7740/7740 [==============================] - 0s 29us/sample - loss: 0.5337 - val_loss: 1.1116\n",
      "Epoch 3/10\n",
      "7740/7740 [==============================] - 0s 29us/sample - loss: 0.4681 - val_loss: 0.9482\n",
      "3870/3870 [==============================] - 0s 13us/sample - loss: 0.4621\n",
      "[CV]  learning_rate=0.005021425736625637, n_hidden=2, n_neurons=43, total=   1.1s\n",
      "[CV] learning_rate=0.005021425736625637, n_hidden=2, n_neurons=43 ....\n",
      "Train on 7740 samples, validate on 3870 samples\n",
      "Epoch 1/10\n",
      "7740/7740 [==============================] - 1s 65us/sample - loss: 1.2439 - val_loss: 9.8795\n",
      "Epoch 2/10\n",
      "7740/7740 [==============================] - 0s 31us/sample - loss: 0.5773 - val_loss: 13.8554\n",
      "Epoch 3/10\n",
      "7740/7740 [==============================] - 0s 31us/sample - loss: 0.6160 - val_loss: 1.5394\n",
      "Epoch 4/10\n",
      "7740/7740 [==============================] - 0s 30us/sample - loss: 0.4508 - val_loss: 0.3951\n",
      "Epoch 5/10\n",
      "7740/7740 [==============================] - 0s 29us/sample - loss: 0.4127 - val_loss: 0.3959\n",
      "Epoch 6/10\n",
      "7740/7740 [==============================] - 0s 31us/sample - loss: 0.3989 - val_loss: 0.4001\n",
      "3870/3870 [==============================] - 0s 14us/sample - loss: 0.3881\n",
      "[CV]  learning_rate=0.005021425736625637, n_hidden=2, n_neurons=43, total=   1.9s\n",
      "[CV] learning_rate=0.026584732357599207, n_hidden=3, n_neurons=42 ....\n",
      "Train on 7740 samples, validate on 3870 samples\n",
      "Epoch 1/10\n",
      "7740/7740 [==============================] - 1s 70us/sample - loss: 0.6220 - val_loss: 3.3897\n",
      "Epoch 2/10\n",
      "7740/7740 [==============================] - 0s 31us/sample - loss: 0.4327 - val_loss: 0.3746\n",
      "Epoch 3/10\n",
      "7740/7740 [==============================] - 0s 31us/sample - loss: 0.3757 - val_loss: 0.3994\n",
      "Epoch 4/10\n",
      "7740/7740 [==============================] - ETA: 0s - loss: 0.368 - 0s 31us/sample - loss: 0.3631 - val_loss: 0.4293\n",
      "3870/3870 [==============================] - 0s 15us/sample - loss: 0.3709\n",
      "[CV]  learning_rate=0.026584732357599207, n_hidden=3, n_neurons=42, total=   1.4s\n",
      "[CV] learning_rate=0.026584732357599207, n_hidden=3, n_neurons=42 ....\n",
      "Train on 7740 samples, validate on 3870 samples\n",
      "Epoch 1/10\n",
      "7740/7740 [==============================] - 1s 66us/sample - loss: 0.5907 - val_loss: 0.8975\n",
      "Epoch 2/10\n",
      "7740/7740 [==============================] - 0s 31us/sample - loss: 0.3927 - val_loss: 0.7809\n",
      "Epoch 3/10\n",
      "7740/7740 [==============================] - 0s 32us/sample - loss: 0.3728 - val_loss: 1.3439\n",
      "Epoch 4/10\n",
      "7740/7740 [==============================] - 0s 31us/sample - loss: 0.3577 - val_loss: 0.6684\n",
      "Epoch 5/10\n",
      "7740/7740 [==============================] - 0s 31us/sample - loss: 0.3424 - val_loss: 0.5710\n",
      "Epoch 6/10\n",
      "7740/7740 [==============================] - 0s 31us/sample - loss: 0.3388 - val_loss: 0.6521\n",
      "Epoch 7/10\n",
      "7740/7740 [==============================] - 0s 31us/sample - loss: 0.3305 - val_loss: 0.3372\n",
      "Epoch 8/10\n",
      "7740/7740 [==============================] - 0s 31us/sample - loss: 0.3281 - val_loss: 0.5321\n",
      "Epoch 9/10\n",
      "7740/7740 [==============================] - 0s 31us/sample - loss: 0.3213 - val_loss: 0.5024\n",
      "3870/3870 [==============================] - 0s 14us/sample - loss: 0.3691\n",
      "[CV]  learning_rate=0.026584732357599207, n_hidden=3, n_neurons=42, total=   2.6s\n",
      "[CV] learning_rate=0.026584732357599207, n_hidden=3, n_neurons=42 ....\n",
      "Train on 7740 samples, validate on 3870 samples\n",
      "Epoch 1/10\n",
      "7740/7740 [==============================] - 1s 70us/sample - loss: 0.6633 - val_loss: 0.3805\n",
      "Epoch 2/10\n",
      "7740/7740 [==============================] - 0s 32us/sample - loss: 0.4119 - val_loss: 2.3253\n",
      "Epoch 3/10\n",
      "7740/7740 [==============================] - 0s 32us/sample - loss: 0.4085 - val_loss: 1.8181\n",
      "3870/3870 [==============================] - 0s 13us/sample - loss: 0.3577\n",
      "[CV]  learning_rate=0.026584732357599207, n_hidden=3, n_neurons=42, total=   1.2s\n",
      "Train on 11610 samples, validate on 3870 samples\n",
      "Epoch 1/10\n"
     ]
    },
    {
     "name": "stderr",
     "output_type": "stream",
     "text": [
      "[Parallel(n_jobs=1)]: Done  30 out of  30 | elapsed:  1.0min finished\n"
     ]
    },
    {
     "name": "stdout",
     "output_type": "stream",
     "text": [
      "11610/11610 [==============================] - 1s 60us/sample - loss: 0.6185 - val_loss: 1.9088\n",
      "Epoch 2/10\n",
      "11610/11610 [==============================] - 0s 28us/sample - loss: 0.4102 - val_loss: 0.4612\n",
      "Epoch 3/10\n",
      "11610/11610 [==============================] - 0s 29us/sample - loss: 0.3702 - val_loss: 0.3281\n",
      "Epoch 4/10\n",
      "11610/11610 [==============================] - 0s 29us/sample - loss: 0.3536 - val_loss: 0.3676\n",
      "Epoch 5/10\n",
      "11610/11610 [==============================] - 0s 28us/sample - loss: 0.3467 - val_loss: 0.5500\n",
      "Wall time: 1min 4s\n"
     ]
    },
    {
     "data": {
      "text/plain": [
       "RandomizedSearchCV(cv=3, error_score='raise-deprecating',\n",
       "                   estimator=<tensorflow.python.keras.wrappers.scikit_learn.KerasRegressor object at 0x0000022953F74780>,\n",
       "                   iid='warn', n_iter=10, n_jobs=None,\n",
       "                   param_distributions={'learning_rate': <scipy.stats._distn_infrastructure.rv_frozen object at 0x0000022954009278>,\n",
       "                                        'n_hidden': [1, 2, 3],\n",
       "                                        'n_neurons': array([40, 41, 42, 43, 44])},\n",
       "                   pre_dispatch='2*n_jobs', random_state=None, refit=True,\n",
       "                   return_train_score=False, scoring=None, verbose=2)"
      ]
     },
     "execution_count": 24,
     "metadata": {},
     "output_type": "execute_result"
    }
   ],
   "source": [
    "%%time\n",
    "rnd_search_cv.fit(X_train, y_train, epochs=10, validation_data=(X_valid, y_valid),\n",
    "                 callbacks=[keras.callbacks.EarlyStopping(patience=2)])"
   ]
  },
  {
   "cell_type": "code",
   "execution_count": 25,
   "metadata": {},
   "outputs": [
    {
     "data": {
      "text/plain": [
       "<tensorflow.python.keras.wrappers.scikit_learn.KerasRegressor at 0x22955afa748>"
      ]
     },
     "execution_count": 25,
     "metadata": {},
     "output_type": "execute_result"
    }
   ],
   "source": [
    "rnd_search_cv.best_estimator_"
   ]
  },
  {
   "cell_type": "code",
   "execution_count": 26,
   "metadata": {},
   "outputs": [
    {
     "name": "stdout",
     "output_type": "stream",
     "text": [
      "5160/5160 [==============================] - 0s 16us/sample - loss: 0.3432\n"
     ]
    },
    {
     "data": {
      "text/plain": [
       "-0.34319735215615854"
      ]
     },
     "execution_count": 26,
     "metadata": {},
     "output_type": "execute_result"
    }
   ],
   "source": [
    "rnd_search_cv.score(X_test, y_test)"
   ]
  },
  {
   "cell_type": "code",
   "execution_count": 27,
   "metadata": {},
   "outputs": [],
   "source": [
    "model = rnd_search_cv.best_estimator_.model"
   ]
  },
  {
   "cell_type": "code",
   "execution_count": 28,
   "metadata": {},
   "outputs": [
    {
     "name": "stdout",
     "output_type": "stream",
     "text": [
      "5160/5160 [==============================] - 0s 13us/sample - loss: 0.3432\n"
     ]
    },
    {
     "data": {
      "text/plain": [
       "0.34319735215615854"
      ]
     },
     "execution_count": 28,
     "metadata": {},
     "output_type": "execute_result"
    }
   ],
   "source": [
    "model.evaluate(X_test, y_test)"
   ]
  },
  {
   "cell_type": "code",
   "execution_count": 29,
   "metadata": {},
   "outputs": [],
   "source": [
    "%matplotlib inline\n",
    "import matplotlib.pyplot as plt\n",
    "import seaborn as sns\n",
    "import numpy as np\n",
    "import pandas as pd"
   ]
  },
  {
   "cell_type": "code",
   "execution_count": 30,
   "metadata": {},
   "outputs": [],
   "source": [
    "import tensorflow as tf"
   ]
  },
  {
   "cell_type": "code",
   "execution_count": 31,
   "metadata": {},
   "outputs": [],
   "source": [
    "from tensorflow import keras"
   ]
  },
  {
   "cell_type": "code",
   "execution_count": 32,
   "metadata": {},
   "outputs": [],
   "source": [
    "keras.backend.clear_session()\n",
    "np.random.seed(42)\n",
    "tf.random.set_seed(42)"
   ]
  },
  {
   "cell_type": "code",
   "execution_count": 33,
   "metadata": {},
   "outputs": [],
   "source": [
    "# 초기화"
   ]
  },
  {
   "cell_type": "code",
   "execution_count": 34,
   "metadata": {},
   "outputs": [
    {
     "data": {
      "text/plain": [
       "['Constant',\n",
       " 'GlorotNormal',\n",
       " 'GlorotUniform',\n",
       " 'Identity',\n",
       " 'Initializer',\n",
       " 'Ones',\n",
       " 'Orthogonal',\n",
       " 'RandomNormal',\n",
       " 'RandomUniform',\n",
       " 'TruncatedNormal',\n",
       " 'VarianceScaling',\n",
       " 'Zeros',\n",
       " 'constant',\n",
       " 'deserialize',\n",
       " 'get',\n",
       " 'glorot_normal',\n",
       " 'glorot_uniform',\n",
       " 'he_normal',\n",
       " 'he_uniform',\n",
       " 'identity',\n",
       " 'lecun_normal',\n",
       " 'lecun_uniform',\n",
       " 'ones',\n",
       " 'orthogonal',\n",
       " 'serialize',\n",
       " 'zeros']"
      ]
     },
     "execution_count": 34,
     "metadata": {},
     "output_type": "execute_result"
    }
   ],
   "source": [
    "[ name for name in dir(keras.initializers) if not name.startswith(\"_\") ]"
   ]
  },
  {
   "cell_type": "code",
   "execution_count": 35,
   "metadata": {},
   "outputs": [
    {
     "data": {
      "text/plain": [
       "<tensorflow.python.keras.layers.core.Dense at 0x22957817908>"
      ]
     },
     "execution_count": 35,
     "metadata": {},
     "output_type": "execute_result"
    }
   ],
   "source": [
    "keras.layers.Dense(10, activation='relu', kernel_initializer='he_normal')"
   ]
  },
  {
   "cell_type": "code",
   "execution_count": 36,
   "metadata": {},
   "outputs": [
    {
     "data": {
      "text/plain": [
       "['deserialize',\n",
       " 'elu',\n",
       " 'exponential',\n",
       " 'get',\n",
       " 'hard_sigmoid',\n",
       " 'linear',\n",
       " 'relu',\n",
       " 'selu',\n",
       " 'serialize',\n",
       " 'sigmoid',\n",
       " 'softmax',\n",
       " 'softplus',\n",
       " 'softsign',\n",
       " 'tanh']"
      ]
     },
     "execution_count": 36,
     "metadata": {},
     "output_type": "execute_result"
    }
   ],
   "source": [
    "[ m for m in dir(keras.activations) if not m.startswith(\"_\")]"
   ]
  },
  {
   "cell_type": "code",
   "execution_count": 37,
   "metadata": {},
   "outputs": [],
   "source": [
    "(X_train_full, y_train_full), (X_test, y_test) = keras.datasets.fashion_mnist.load_data()"
   ]
  },
  {
   "cell_type": "code",
   "execution_count": 38,
   "metadata": {},
   "outputs": [],
   "source": [
    "X_train_full = X_train_full / 255.0"
   ]
  },
  {
   "cell_type": "code",
   "execution_count": 39,
   "metadata": {},
   "outputs": [],
   "source": [
    "X_test = X_test / 255.0"
   ]
  },
  {
   "cell_type": "code",
   "execution_count": 40,
   "metadata": {},
   "outputs": [],
   "source": [
    "X_valid, X_train = X_train_full[:5000], X_train_full[5000:]"
   ]
  },
  {
   "cell_type": "code",
   "execution_count": 41,
   "metadata": {},
   "outputs": [],
   "source": [
    "y_valid, y_train = y_train_full[:5000], y_train_full[5000:]"
   ]
  },
  {
   "cell_type": "code",
   "execution_count": 42,
   "metadata": {},
   "outputs": [],
   "source": [
    "model = keras.models.Sequential([\n",
    "    keras.layers.Flatten(input_shape=[28, 28]),\n",
    "    keras.layers.Dense(300, kernel_initializer=\"he_normal\"),\n",
    "    keras.layers.LeakyReLU(),\n",
    "    keras.layers.Dense(100, kernel_initializer=\"he_normal\"),\n",
    "    keras.layers.LeakyReLU(),\n",
    "    keras.layers.Dense(10, activation='softmax')\n",
    "])"
   ]
  },
  {
   "cell_type": "code",
   "execution_count": 43,
   "metadata": {},
   "outputs": [],
   "source": [
    "model.compile(loss='sparse_categorical_crossentropy',\n",
    "             optimizer=keras.optimizers.SGD(lr=1e-3),\n",
    "             metrics=['accuracy'])"
   ]
  },
  {
   "cell_type": "code",
   "execution_count": 44,
   "metadata": {
    "scrolled": true
   },
   "outputs": [
    {
     "name": "stdout",
     "output_type": "stream",
     "text": [
      "Train on 55000 samples, validate on 5000 samples\n",
      "Epoch 1/30\n",
      "55000/55000 [==============================] - 3s 53us/sample - loss: 1.2810 - accuracy: 0.6205 - val_loss: 0.8869 - val_accuracy: 0.7160\n",
      "Epoch 2/30\n",
      "55000/55000 [==============================] - 3s 47us/sample - loss: 0.7952 - accuracy: 0.7369 - val_loss: 0.7132 - val_accuracy: 0.7626\n",
      "Epoch 3/30\n",
      "55000/55000 [==============================] - 3s 47us/sample - loss: 0.6817 - accuracy: 0.7725 - val_loss: 0.6385 - val_accuracy: 0.7896\n",
      "Epoch 4/30\n",
      "55000/55000 [==============================] - 3s 46us/sample - loss: 0.6219 - accuracy: 0.7941 - val_loss: 0.5931 - val_accuracy: 0.8016\n",
      "Epoch 5/30\n",
      "55000/55000 [==============================] - 2s 45us/sample - loss: 0.5830 - accuracy: 0.8073 - val_loss: 0.5607 - val_accuracy: 0.8170\n",
      "Epoch 6/30\n",
      "55000/55000 [==============================] - 2s 45us/sample - loss: 0.5552 - accuracy: 0.8173 - val_loss: 0.5355 - val_accuracy: 0.8238\n",
      "Epoch 7/30\n",
      "55000/55000 [==============================] - 2s 45us/sample - loss: 0.5339 - accuracy: 0.8225 - val_loss: 0.5166 - val_accuracy: 0.8298\n",
      "Epoch 8/30\n",
      "55000/55000 [==============================] - 3s 45us/sample - loss: 0.5173 - accuracy: 0.8261 - val_loss: 0.5043 - val_accuracy: 0.8356\n",
      "Epoch 9/30\n",
      "55000/55000 [==============================] - 3s 46us/sample - loss: 0.5039 - accuracy: 0.8306 - val_loss: 0.4890 - val_accuracy: 0.8384\n",
      "Epoch 10/30\n",
      "55000/55000 [==============================] - 2s 45us/sample - loss: 0.4923 - accuracy: 0.8333 - val_loss: 0.4816 - val_accuracy: 0.8398\n",
      "Epoch 11/30\n",
      "55000/55000 [==============================] - 2s 45us/sample - loss: 0.4826 - accuracy: 0.8357 - val_loss: 0.4707 - val_accuracy: 0.8450\n",
      "Epoch 12/30\n",
      "55000/55000 [==============================] - 3s 45us/sample - loss: 0.4744 - accuracy: 0.8382 - val_loss: 0.4642 - val_accuracy: 0.8466\n",
      "Epoch 13/30\n",
      "55000/55000 [==============================] - 3s 46us/sample - loss: 0.4668 - accuracy: 0.8395 - val_loss: 0.4571 - val_accuracy: 0.8470\n",
      "Epoch 14/30\n",
      "55000/55000 [==============================] - 3s 47us/sample - loss: 0.4603 - accuracy: 0.8419 - val_loss: 0.4533 - val_accuracy: 0.8498\n",
      "Epoch 15/30\n",
      "55000/55000 [==============================] - 3s 46us/sample - loss: 0.4548 - accuracy: 0.8437 - val_loss: 0.4455 - val_accuracy: 0.8526\n",
      "Epoch 16/30\n",
      "55000/55000 [==============================] - 3s 46us/sample - loss: 0.4496 - accuracy: 0.8452 - val_loss: 0.4426 - val_accuracy: 0.8508\n",
      "Epoch 17/30\n",
      "55000/55000 [==============================] - 3s 46us/sample - loss: 0.4447 - accuracy: 0.8463 - val_loss: 0.4393 - val_accuracy: 0.8536\n",
      "Epoch 18/30\n",
      "55000/55000 [==============================] - 3s 46us/sample - loss: 0.4402 - accuracy: 0.8469 - val_loss: 0.4337 - val_accuracy: 0.8548\n",
      "Epoch 19/30\n",
      "55000/55000 [==============================] - 3s 46us/sample - loss: 0.4361 - accuracy: 0.8487 - val_loss: 0.4329 - val_accuracy: 0.8530\n",
      "Epoch 20/30\n",
      "55000/55000 [==============================] - 3s 46us/sample - loss: 0.4323 - accuracy: 0.8504 - val_loss: 0.4283 - val_accuracy: 0.8560\n",
      "Epoch 21/30\n",
      "55000/55000 [==============================] - 3s 47us/sample - loss: 0.4290 - accuracy: 0.8507 - val_loss: 0.4265 - val_accuracy: 0.8558\n",
      "Epoch 22/30\n",
      "55000/55000 [==============================] - 3s 46us/sample - loss: 0.4252 - accuracy: 0.8522 - val_loss: 0.4260 - val_accuracy: 0.8578\n",
      "Epoch 23/30\n",
      "55000/55000 [==============================] - 3s 46us/sample - loss: 0.4222 - accuracy: 0.8520 - val_loss: 0.4196 - val_accuracy: 0.8578\n",
      "Epoch 24/30\n",
      "55000/55000 [==============================] - 3s 46us/sample - loss: 0.4194 - accuracy: 0.8546 - val_loss: 0.4163 - val_accuracy: 0.8576\n",
      "Epoch 25/30\n",
      "55000/55000 [==============================] - 3s 48us/sample - loss: 0.4166 - accuracy: 0.8559 - val_loss: 0.4158 - val_accuracy: 0.8566\n",
      "Epoch 26/30\n",
      "55000/55000 [==============================] - 3s 47us/sample - loss: 0.4139 - accuracy: 0.8559 - val_loss: 0.4153 - val_accuracy: 0.8614\n",
      "Epoch 27/30\n",
      "55000/55000 [==============================] - 3s 50us/sample - loss: 0.4109 - accuracy: 0.8566 - val_loss: 0.4107 - val_accuracy: 0.8606\n",
      "Epoch 28/30\n",
      "55000/55000 [==============================] - 2s 45us/sample - loss: 0.4087 - accuracy: 0.8582 - val_loss: 0.4097 - val_accuracy: 0.8636\n",
      "Epoch 29/30\n",
      "55000/55000 [==============================] - 3s 46us/sample - loss: 0.4064 - accuracy: 0.8588 - val_loss: 0.4072 - val_accuracy: 0.8628\n",
      "Epoch 30/30\n",
      "55000/55000 [==============================] - 3s 46us/sample - loss: 0.4041 - accuracy: 0.8596 - val_loss: 0.4066 - val_accuracy: 0.8598\n"
     ]
    }
   ],
   "source": [
    "hist = model.fit(X_train, y_train, epochs=30, validation_data=(X_valid, y_valid))"
   ]
  },
  {
   "cell_type": "code",
   "execution_count": 45,
   "metadata": {},
   "outputs": [],
   "source": [
    "np.random.seed(42)\n",
    "tf.random.set_seed(42)\n",
    "\n",
    "model = keras.models.Sequential([\n",
    "    keras.layers.Flatten(input_shape=[28, 28]),\n",
    "    keras.layers.Dense(300, kernel_initializer=\"he_normal\"),\n",
    "    keras.layers.PReLU(),\n",
    "    keras.layers.Dense(100, kernel_initializer=\"he_normal\"),\n",
    "    keras.layers.PReLU(),\n",
    "    keras.layers.Dense(10, activation='softmax')\n",
    "])"
   ]
  },
  {
   "cell_type": "code",
   "execution_count": 46,
   "metadata": {},
   "outputs": [],
   "source": [
    "model.compile(loss='sparse_categorical_crossentropy',\n",
    "             optimizer=keras.optimizers.SGD(lr=1e-2),\n",
    "             metrics=['accuracy'])"
   ]
  },
  {
   "cell_type": "code",
   "execution_count": 47,
   "metadata": {
    "scrolled": true
   },
   "outputs": [
    {
     "name": "stdout",
     "output_type": "stream",
     "text": [
      "Train on 55000 samples, validate on 5000 samples\n",
      "Epoch 1/100\n",
      "55000/55000 [==============================] - 4s 65us/sample - loss: 0.6982 - accuracy: 0.7684 - val_loss: 0.5053 - val_accuracy: 0.8306\n",
      "Epoch 2/100\n",
      "55000/55000 [==============================] - 3s 55us/sample - loss: 0.4836 - accuracy: 0.8319 - val_loss: 0.4640 - val_accuracy: 0.8408\n",
      "Epoch 3/100\n",
      "55000/55000 [==============================] - 3s 55us/sample - loss: 0.4410 - accuracy: 0.8453 - val_loss: 0.4434 - val_accuracy: 0.8514\n",
      "Epoch 4/100\n",
      "55000/55000 [==============================] - 3s 55us/sample - loss: 0.4126 - accuracy: 0.8551 - val_loss: 0.4152 - val_accuracy: 0.8578\n",
      "Epoch 5/100\n",
      "55000/55000 [==============================] - 3s 55us/sample - loss: 0.3931 - accuracy: 0.8618 - val_loss: 0.3821 - val_accuracy: 0.8672\n",
      "Epoch 6/100\n",
      "55000/55000 [==============================] - 3s 58us/sample - loss: 0.3782 - accuracy: 0.8665 - val_loss: 0.3781 - val_accuracy: 0.8704\n",
      "Epoch 7/100\n",
      "55000/55000 [==============================] - 3s 58us/sample - loss: 0.3634 - accuracy: 0.8725 - val_loss: 0.3805 - val_accuracy: 0.8694\n",
      "Epoch 8/100\n",
      "55000/55000 [==============================] - 3s 57us/sample - loss: 0.3524 - accuracy: 0.8758 - val_loss: 0.3677 - val_accuracy: 0.8694\n",
      "Epoch 9/100\n",
      "55000/55000 [==============================] - 3s 59us/sample - loss: 0.3424 - accuracy: 0.8770 - val_loss: 0.3437 - val_accuracy: 0.8786\n",
      "Epoch 10/100\n",
      "55000/55000 [==============================] - 3s 60us/sample - loss: 0.3328 - accuracy: 0.8815 - val_loss: 0.3500 - val_accuracy: 0.8758\n",
      "Epoch 11/100\n",
      "55000/55000 [==============================] - 3s 55us/sample - loss: 0.3240 - accuracy: 0.8847 - val_loss: 0.3312 - val_accuracy: 0.8826\n",
      "Epoch 12/100\n",
      "55000/55000 [==============================] - 3s 56us/sample - loss: 0.3148 - accuracy: 0.8877 - val_loss: 0.3341 - val_accuracy: 0.8812\n",
      "Epoch 13/100\n",
      "55000/55000 [==============================] - 3s 57us/sample - loss: 0.3061 - accuracy: 0.8906 - val_loss: 0.3283 - val_accuracy: 0.8814\n",
      "Epoch 14/100\n",
      "55000/55000 [==============================] - 3s 58us/sample - loss: 0.3002 - accuracy: 0.8920 - val_loss: 0.3196 - val_accuracy: 0.8886\n",
      "Epoch 15/100\n",
      "55000/55000 [==============================] - 3s 56us/sample - loss: 0.2935 - accuracy: 0.8944 - val_loss: 0.3145 - val_accuracy: 0.8872\n",
      "Epoch 16/100\n",
      "55000/55000 [==============================] - 3s 56us/sample - loss: 0.2871 - accuracy: 0.8975 - val_loss: 0.3300 - val_accuracy: 0.8830\n",
      "Epoch 17/100\n",
      "55000/55000 [==============================] - 3s 55us/sample - loss: 0.2808 - accuracy: 0.8983 - val_loss: 0.3165 - val_accuracy: 0.8872\n",
      "Epoch 18/100\n",
      "55000/55000 [==============================] - 3s 57us/sample - loss: 0.2752 - accuracy: 0.9007 - val_loss: 0.3054 - val_accuracy: 0.8912\n",
      "Epoch 19/100\n",
      "55000/55000 [==============================] - 3s 56us/sample - loss: 0.2695 - accuracy: 0.9023 - val_loss: 0.3210 - val_accuracy: 0.8868\n",
      "Epoch 20/100\n",
      "55000/55000 [==============================] - 3s 56us/sample - loss: 0.2640 - accuracy: 0.9057 - val_loss: 0.3152 - val_accuracy: 0.8870\n",
      "Epoch 21/100\n",
      "55000/55000 [==============================] - 3s 55us/sample - loss: 0.2591 - accuracy: 0.9069 - val_loss: 0.2947 - val_accuracy: 0.8942\n",
      "Epoch 22/100\n",
      "55000/55000 [==============================] - 3s 56us/sample - loss: 0.2528 - accuracy: 0.9090 - val_loss: 0.3084 - val_accuracy: 0.8894\n",
      "Epoch 23/100\n",
      "55000/55000 [==============================] - 3s 55us/sample - loss: 0.2488 - accuracy: 0.9099 - val_loss: 0.3004 - val_accuracy: 0.8928\n",
      "Epoch 24/100\n",
      "55000/55000 [==============================] - 3s 55us/sample - loss: 0.2442 - accuracy: 0.9120 - val_loss: 0.3030 - val_accuracy: 0.8908\n",
      "Epoch 25/100\n",
      "55000/55000 [==============================] - 3s 55us/sample - loss: 0.2399 - accuracy: 0.9133 - val_loss: 0.3045 - val_accuracy: 0.8900\n",
      "Epoch 26/100\n",
      "55000/55000 [==============================] - 3s 55us/sample - loss: 0.2354 - accuracy: 0.9151 - val_loss: 0.3279 - val_accuracy: 0.8852\n",
      "Epoch 27/100\n",
      "55000/55000 [==============================] - 3s 55us/sample - loss: 0.2306 - accuracy: 0.9166 - val_loss: 0.3136 - val_accuracy: 0.8878\n",
      "Epoch 28/100\n",
      "55000/55000 [==============================] - 3s 55us/sample - loss: 0.2259 - accuracy: 0.9196 - val_loss: 0.2934 - val_accuracy: 0.8914\n",
      "Epoch 29/100\n",
      "55000/55000 [==============================] - 3s 55us/sample - loss: 0.2225 - accuracy: 0.9203 - val_loss: 0.2981 - val_accuracy: 0.8916\n",
      "Epoch 30/100\n",
      "55000/55000 [==============================] - 3s 57us/sample - loss: 0.2189 - accuracy: 0.9212 - val_loss: 0.3016 - val_accuracy: 0.8874\n",
      "Epoch 31/100\n",
      "55000/55000 [==============================] - 3s 58us/sample - loss: 0.2144 - accuracy: 0.9236 - val_loss: 0.2951 - val_accuracy: 0.8914\n",
      "Epoch 32/100\n",
      "55000/55000 [==============================] - 3s 56us/sample - loss: 0.2119 - accuracy: 0.9235 - val_loss: 0.2970 - val_accuracy: 0.8954\n",
      "Epoch 33/100\n",
      "55000/55000 [==============================] - 3s 58us/sample - loss: 0.2070 - accuracy: 0.9250 - val_loss: 0.2894 - val_accuracy: 0.8952\n",
      "Epoch 34/100\n",
      "55000/55000 [==============================] - 3s 56us/sample - loss: 0.2034 - accuracy: 0.9273 - val_loss: 0.2878 - val_accuracy: 0.8970\n",
      "Epoch 35/100\n",
      "55000/55000 [==============================] - 3s 57us/sample - loss: 0.2000 - accuracy: 0.9283 - val_loss: 0.2912 - val_accuracy: 0.8952\n",
      "Epoch 36/100\n",
      "55000/55000 [==============================] - 3s 56us/sample - loss: 0.1963 - accuracy: 0.9299 - val_loss: 0.3051 - val_accuracy: 0.8912\n",
      "Epoch 37/100\n",
      "55000/55000 [==============================] - 3s 57us/sample - loss: 0.1922 - accuracy: 0.9313 - val_loss: 0.3046 - val_accuracy: 0.8960\n",
      "Epoch 38/100\n",
      "55000/55000 [==============================] - 3s 57us/sample - loss: 0.1904 - accuracy: 0.9319 - val_loss: 0.2915 - val_accuracy: 0.8942\n",
      "Epoch 39/100\n",
      "55000/55000 [==============================] - 3s 56us/sample - loss: 0.1851 - accuracy: 0.9337 - val_loss: 0.3261 - val_accuracy: 0.8784\n",
      "Epoch 40/100\n",
      "55000/55000 [==============================] - 3s 56us/sample - loss: 0.1837 - accuracy: 0.9348 - val_loss: 0.2988 - val_accuracy: 0.8962\n",
      "Epoch 41/100\n",
      "55000/55000 [==============================] - 3s 55us/sample - loss: 0.1797 - accuracy: 0.9358 - val_loss: 0.3019 - val_accuracy: 0.8976\n",
      "Epoch 42/100\n",
      "55000/55000 [==============================] - 3s 56us/sample - loss: 0.1759 - accuracy: 0.9383 - val_loss: 0.2996 - val_accuracy: 0.8928\n",
      "Epoch 43/100\n",
      "55000/55000 [==============================] - 3s 56us/sample - loss: 0.1740 - accuracy: 0.9381 - val_loss: 0.3004 - val_accuracy: 0.8972\n",
      "Epoch 44/100\n",
      "55000/55000 [==============================] - 3s 56us/sample - loss: 0.1700 - accuracy: 0.9394 - val_loss: 0.2984 - val_accuracy: 0.8974\n",
      "Epoch 45/100\n",
      "55000/55000 [==============================] - 3s 56us/sample - loss: 0.1662 - accuracy: 0.9409 - val_loss: 0.3014 - val_accuracy: 0.8892\n",
      "Epoch 46/100\n",
      "55000/55000 [==============================] - 3s 59us/sample - loss: 0.1642 - accuracy: 0.9413 - val_loss: 0.2966 - val_accuracy: 0.8948\n",
      "Epoch 47/100\n",
      "55000/55000 [==============================] - 3s 56us/sample - loss: 0.1609 - accuracy: 0.9433 - val_loss: 0.3167 - val_accuracy: 0.8892\n",
      "Epoch 48/100\n",
      "55000/55000 [==============================] - 4s 68us/sample - loss: 0.1581 - accuracy: 0.9437 - val_loss: 0.2885 - val_accuracy: 0.8994\n",
      "Epoch 49/100\n",
      "55000/55000 [==============================] - 3s 56us/sample - loss: 0.1556 - accuracy: 0.9454 - val_loss: 0.3049 - val_accuracy: 0.8962\n",
      "Epoch 50/100\n",
      "55000/55000 [==============================] - 3s 57us/sample - loss: 0.1523 - accuracy: 0.9462 - val_loss: 0.3010 - val_accuracy: 0.8968\n",
      "Epoch 51/100\n",
      "55000/55000 [==============================] - 3s 61us/sample - loss: 0.1483 - accuracy: 0.9472 - val_loss: 0.3039 - val_accuracy: 0.8962\n",
      "Epoch 52/100\n",
      "55000/55000 [==============================] - 3s 58us/sample - loss: 0.1470 - accuracy: 0.9490 - val_loss: 0.3125 - val_accuracy: 0.8944\n",
      "Epoch 53/100\n",
      "55000/55000 [==============================] - 4s 71us/sample - loss: 0.1437 - accuracy: 0.9497 - val_loss: 0.3025 - val_accuracy: 0.8986\n",
      "Epoch 54/100\n",
      "55000/55000 [==============================] - 4s 79us/sample - loss: 0.1406 - accuracy: 0.9507 - val_loss: 0.3146 - val_accuracy: 0.9004\n"
     ]
    },
    {
     "name": "stdout",
     "output_type": "stream",
     "text": [
      "Epoch 55/100\n",
      "55000/55000 [==============================] - 9s 156us/sample - loss: 0.1388 - accuracy: 0.9514 - val_loss: 0.3231 - val_accuracy: 0.8948\n",
      "Epoch 56/100\n",
      "55000/55000 [==============================] - 6s 103us/sample - loss: 0.1368 - accuracy: 0.9518 - val_loss: 0.3010 - val_accuracy: 0.8988\n",
      "Epoch 57/100\n",
      "55000/55000 [==============================] - 4s 73us/sample - loss: 0.1334 - accuracy: 0.9531 - val_loss: 0.3009 - val_accuracy: 0.9002\n",
      "Epoch 58/100\n",
      "55000/55000 [==============================] - 3s 60us/sample - loss: 0.1297 - accuracy: 0.9546 - val_loss: 0.3020 - val_accuracy: 0.9018\n",
      "Epoch 59/100\n",
      "55000/55000 [==============================] - 3s 59us/sample - loss: 0.1282 - accuracy: 0.9551 - val_loss: 0.3132 - val_accuracy: 0.8996\n",
      "Epoch 60/100\n",
      "55000/55000 [==============================] - 4s 73us/sample - loss: 0.1253 - accuracy: 0.9568 - val_loss: 0.3146 - val_accuracy: 0.8960\n",
      "Epoch 61/100\n",
      "55000/55000 [==============================] - 5s 85us/sample - loss: 0.1239 - accuracy: 0.9567 - val_loss: 0.3283 - val_accuracy: 0.8970\n",
      "Epoch 62/100\n",
      "55000/55000 [==============================] - 5s 83us/sample - loss: 0.1214 - accuracy: 0.9570 - val_loss: 0.3114 - val_accuracy: 0.9002\n",
      "Epoch 63/100\n",
      "55000/55000 [==============================] - 4s 79us/sample - loss: 0.1179 - accuracy: 0.9593 - val_loss: 0.3159 - val_accuracy: 0.8962\n",
      "Epoch 64/100\n",
      "55000/55000 [==============================] - 4s 75us/sample - loss: 0.1167 - accuracy: 0.9599 - val_loss: 0.3382 - val_accuracy: 0.8908\n",
      "Epoch 65/100\n",
      "55000/55000 [==============================] - 4s 79us/sample - loss: 0.1136 - accuracy: 0.9609 - val_loss: 0.3185 - val_accuracy: 0.8976\n",
      "Epoch 66/100\n",
      "55000/55000 [==============================] - 4s 79us/sample - loss: 0.1133 - accuracy: 0.9611 - val_loss: 0.3365 - val_accuracy: 0.8922\n",
      "Epoch 67/100\n",
      "55000/55000 [==============================] - 3s 63us/sample - loss: 0.1095 - accuracy: 0.9621 - val_loss: 0.3215 - val_accuracy: 0.8982\n",
      "Epoch 68/100\n",
      "55000/55000 [==============================] - 3s 59us/sample - loss: 0.1055 - accuracy: 0.9647 - val_loss: 0.3460 - val_accuracy: 0.8920\n",
      "Epoch 69/100\n",
      "55000/55000 [==============================] - 3s 59us/sample - loss: 0.1057 - accuracy: 0.9636 - val_loss: 0.3174 - val_accuracy: 0.8998\n",
      "Epoch 70/100\n",
      "55000/55000 [==============================] - 4s 80us/sample - loss: 0.1029 - accuracy: 0.9646 - val_loss: 0.3230 - val_accuracy: 0.8986\n",
      "Epoch 71/100\n",
      "55000/55000 [==============================] - 4s 73us/sample - loss: 0.1010 - accuracy: 0.9654 - val_loss: 0.3343 - val_accuracy: 0.8958\n",
      "Epoch 72/100\n",
      "55000/55000 [==============================] - 4s 76us/sample - loss: 0.1003 - accuracy: 0.9659 - val_loss: 0.3577 - val_accuracy: 0.8836\n",
      "Epoch 73/100\n",
      "55000/55000 [==============================] - 5s 84us/sample - loss: 0.0976 - accuracy: 0.9671 - val_loss: 0.3322 - val_accuracy: 0.8976\n",
      "Epoch 74/100\n",
      "55000/55000 [==============================] - 4s 66us/sample - loss: 0.0953 - accuracy: 0.9674 - val_loss: 0.3417 - val_accuracy: 0.8966\n",
      "Epoch 75/100\n",
      "55000/55000 [==============================] - 4s 72us/sample - loss: 0.0949 - accuracy: 0.9676 - val_loss: 0.3526 - val_accuracy: 0.8904\n",
      "Epoch 76/100\n",
      "55000/55000 [==============================] - 4s 69us/sample - loss: 0.0923 - accuracy: 0.9687 - val_loss: 0.3558 - val_accuracy: 0.8896\n",
      "Epoch 77/100\n",
      "55000/55000 [==============================] - 4s 69us/sample - loss: 0.0897 - accuracy: 0.9693 - val_loss: 0.3437 - val_accuracy: 0.8946\n",
      "Epoch 78/100\n",
      "55000/55000 [==============================] - 3s 60us/sample - loss: 0.0870 - accuracy: 0.9709 - val_loss: 0.3383 - val_accuracy: 0.8986\n",
      "Epoch 79/100\n",
      "55000/55000 [==============================] - 3s 60us/sample - loss: 0.0856 - accuracy: 0.9709 - val_loss: 0.3541 - val_accuracy: 0.8966\n",
      "Epoch 80/100\n",
      "55000/55000 [==============================] - 4s 70us/sample - loss: 0.0850 - accuracy: 0.9708 - val_loss: 0.3376 - val_accuracy: 0.8958\n",
      "Epoch 81/100\n",
      "55000/55000 [==============================] - 3s 63us/sample - loss: 0.0832 - accuracy: 0.9721 - val_loss: 0.3499 - val_accuracy: 0.8982\n",
      "Epoch 82/100\n",
      "55000/55000 [==============================] - 3s 58us/sample - loss: 0.0810 - accuracy: 0.9732 - val_loss: 0.3546 - val_accuracy: 0.8950\n",
      "Epoch 83/100\n",
      "55000/55000 [==============================] - 3s 57us/sample - loss: 0.0800 - accuracy: 0.9732 - val_loss: 0.3745 - val_accuracy: 0.8880\n",
      "Epoch 84/100\n",
      "55000/55000 [==============================] - 3s 60us/sample - loss: 0.0767 - accuracy: 0.9745 - val_loss: 0.3583 - val_accuracy: 0.8904\n",
      "Epoch 85/100\n",
      "55000/55000 [==============================] - 3s 59us/sample - loss: 0.0773 - accuracy: 0.9745 - val_loss: 0.3646 - val_accuracy: 0.8974\n",
      "Epoch 86/100\n",
      "55000/55000 [==============================] - 3s 55us/sample - loss: 0.0769 - accuracy: 0.9744 - val_loss: 0.3666 - val_accuracy: 0.8978\n",
      "Epoch 87/100\n",
      "55000/55000 [==============================] - 3s 57us/sample - loss: 0.0746 - accuracy: 0.9747 - val_loss: 0.3617 - val_accuracy: 0.8988\n",
      "Epoch 88/100\n",
      "55000/55000 [==============================] - 3s 55us/sample - loss: 0.0706 - accuracy: 0.9769 - val_loss: 0.3574 - val_accuracy: 0.8984\n",
      "Epoch 89/100\n",
      "55000/55000 [==============================] - 3s 55us/sample - loss: 0.0690 - accuracy: 0.9774 - val_loss: 0.3878 - val_accuracy: 0.8976\n",
      "Epoch 90/100\n",
      "55000/55000 [==============================] - 3s 55us/sample - loss: 0.0673 - accuracy: 0.9781 - val_loss: 0.3557 - val_accuracy: 0.8996\n",
      "Epoch 91/100\n",
      "55000/55000 [==============================] - 3s 55us/sample - loss: 0.0674 - accuracy: 0.9771 - val_loss: 0.4098 - val_accuracy: 0.8936\n",
      "Epoch 92/100\n",
      "55000/55000 [==============================] - 3s 56us/sample - loss: 0.0653 - accuracy: 0.9781 - val_loss: 0.3991 - val_accuracy: 0.8898\n",
      "Epoch 93/100\n",
      "55000/55000 [==============================] - 3s 55us/sample - loss: 0.0640 - accuracy: 0.9789 - val_loss: 0.3779 - val_accuracy: 0.9020\n",
      "Epoch 94/100\n",
      "55000/55000 [==============================] - 3s 55us/sample - loss: 0.0633 - accuracy: 0.9787 - val_loss: 0.3900 - val_accuracy: 0.8930\n",
      "Epoch 95/100\n",
      "55000/55000 [==============================] - 3s 58us/sample - loss: 0.0620 - accuracy: 0.9797 - val_loss: 0.3787 - val_accuracy: 0.8992\n",
      "Epoch 96/100\n",
      "55000/55000 [==============================] - 4s 64us/sample - loss: 0.0584 - accuracy: 0.9814 - val_loss: 0.3995 - val_accuracy: 0.8922\n",
      "Epoch 97/100\n",
      "55000/55000 [==============================] - 3s 55us/sample - loss: 0.0595 - accuracy: 0.9800 - val_loss: 0.3839 - val_accuracy: 0.8984\n",
      "Epoch 98/100\n",
      "55000/55000 [==============================] - 3s 57us/sample - loss: 0.0572 - accuracy: 0.9814 - val_loss: 0.3956 - val_accuracy: 0.8896\n",
      "Epoch 99/100\n",
      "55000/55000 [==============================] - 3s 56us/sample - loss: 0.0556 - accuracy: 0.9816 - val_loss: 0.4015 - val_accuracy: 0.8980\n",
      "Epoch 100/100\n",
      "55000/55000 [==============================] - 3s 56us/sample - loss: 0.0546 - accuracy: 0.9822 - val_loss: 0.3933 - val_accuracy: 0.8956\n"
     ]
    }
   ],
   "source": [
    "hist = model.fit(X_train, y_train, epochs=30, validation_data=(X_valid, y_valid))"
   ]
  },
  {
   "cell_type": "code",
   "execution_count": 48,
   "metadata": {},
   "outputs": [],
   "source": [
    "model = keras.models.Sequential()\n",
    "model.add(keras.layers.Flatten(input_shape=[28, 28]))\n",
    "model.add(keras.layers.Dense(300, activation='selu', kernel_initializer=\"lecun_normal\"))\n",
    "for layer in range(99):\n",
    "    model.add(keras.layers.Dense(100, activation='selu',\n",
    "                                 kernel_initializer='lecun_normal'))\n",
    "model.add(keras.layers.Dense(10, activation='softmax'))"
   ]
  },
  {
   "cell_type": "code",
   "execution_count": 49,
   "metadata": {},
   "outputs": [
    {
     "data": {
      "text/plain": [
       "['AbstractRNNCell',\n",
       " 'Activation',\n",
       " 'ActivityRegularization',\n",
       " 'Add',\n",
       " 'AdditiveAttention',\n",
       " 'AlphaDropout',\n",
       " 'Attention',\n",
       " 'Average',\n",
       " 'AveragePooling1D',\n",
       " 'AveragePooling2D',\n",
       " 'AveragePooling3D',\n",
       " 'AvgPool1D',\n",
       " 'AvgPool2D',\n",
       " 'AvgPool3D',\n",
       " 'BatchNormalization',\n",
       " 'Bidirectional',\n",
       " 'Concatenate',\n",
       " 'Conv1D',\n",
       " 'Conv2D',\n",
       " 'Conv2DTranspose',\n",
       " 'Conv3D',\n",
       " 'Conv3DTranspose',\n",
       " 'ConvLSTM2D',\n",
       " 'Convolution1D',\n",
       " 'Convolution2D',\n",
       " 'Convolution2DTranspose',\n",
       " 'Convolution3D',\n",
       " 'Convolution3DTranspose',\n",
       " 'Cropping1D',\n",
       " 'Cropping2D',\n",
       " 'Cropping3D',\n",
       " 'Dense',\n",
       " 'DenseFeatures',\n",
       " 'DepthwiseConv2D',\n",
       " 'Dot',\n",
       " 'Dropout',\n",
       " 'ELU',\n",
       " 'Embedding',\n",
       " 'Flatten',\n",
       " 'GRU',\n",
       " 'GRUCell',\n",
       " 'GaussianDropout',\n",
       " 'GaussianNoise',\n",
       " 'GlobalAveragePooling1D',\n",
       " 'GlobalAveragePooling2D',\n",
       " 'GlobalAveragePooling3D',\n",
       " 'GlobalAvgPool1D',\n",
       " 'GlobalAvgPool2D',\n",
       " 'GlobalAvgPool3D',\n",
       " 'GlobalMaxPool1D',\n",
       " 'GlobalMaxPool2D',\n",
       " 'GlobalMaxPool3D',\n",
       " 'GlobalMaxPooling1D',\n",
       " 'GlobalMaxPooling2D',\n",
       " 'GlobalMaxPooling3D',\n",
       " 'Input',\n",
       " 'InputLayer',\n",
       " 'InputSpec',\n",
       " 'LSTM',\n",
       " 'LSTMCell',\n",
       " 'Lambda',\n",
       " 'Layer',\n",
       " 'LayerNormalization',\n",
       " 'LeakyReLU',\n",
       " 'LocallyConnected1D',\n",
       " 'LocallyConnected2D',\n",
       " 'Masking',\n",
       " 'MaxPool1D',\n",
       " 'MaxPool2D',\n",
       " 'MaxPool3D',\n",
       " 'MaxPooling1D',\n",
       " 'MaxPooling2D',\n",
       " 'MaxPooling3D',\n",
       " 'Maximum',\n",
       " 'Minimum',\n",
       " 'Multiply',\n",
       " 'PReLU',\n",
       " 'Permute',\n",
       " 'RNN',\n",
       " 'ReLU',\n",
       " 'RepeatVector',\n",
       " 'Reshape',\n",
       " 'SeparableConv1D',\n",
       " 'SeparableConv2D',\n",
       " 'SeparableConvolution1D',\n",
       " 'SeparableConvolution2D',\n",
       " 'SimpleRNN',\n",
       " 'SimpleRNNCell',\n",
       " 'Softmax',\n",
       " 'SpatialDropout1D',\n",
       " 'SpatialDropout2D',\n",
       " 'SpatialDropout3D',\n",
       " 'StackedRNNCells',\n",
       " 'Subtract',\n",
       " 'ThresholdedReLU',\n",
       " 'TimeDistributed',\n",
       " 'UpSampling1D',\n",
       " 'UpSampling2D',\n",
       " 'UpSampling3D',\n",
       " 'Wrapper',\n",
       " 'ZeroPadding1D',\n",
       " 'ZeroPadding2D',\n",
       " 'ZeroPadding3D',\n",
       " 'add',\n",
       " 'average',\n",
       " 'concatenate',\n",
       " 'deserialize',\n",
       " 'dot',\n",
       " 'experimental',\n",
       " 'maximum',\n",
       " 'minimum',\n",
       " 'multiply',\n",
       " 'serialize',\n",
       " 'subtract']"
      ]
     },
     "execution_count": 49,
     "metadata": {},
     "output_type": "execute_result"
    }
   ],
   "source": [
    "[ name for name in dir(keras.layers) if not name.startswith(\"_\")]"
   ]
  },
  {
   "cell_type": "code",
   "execution_count": 50,
   "metadata": {},
   "outputs": [],
   "source": [
    "model.compile(loss='sparse_categorical_crossentropy',\n",
    "              optimizer=keras.optimizers.SGD(lr=1e-3),\n",
    "              metrics=['accuracy'])"
   ]
  },
  {
   "cell_type": "code",
   "execution_count": 51,
   "metadata": {},
   "outputs": [],
   "source": [
    "pixel_means = X_train.mean(axis=0, keepdims=True)\n",
    "pixel_stds = X_train.std(axis=0, keepdims=True)\n",
    "\n",
    "X_train_scaled = (X_train - pixel_means) / pixel_stds\n",
    "X_valid_scaled = (X_valid - pixel_means) / pixel_stds\n",
    "X_test_scaled = (X_test - pixel_means) / pixel_stds"
   ]
  },
  {
   "cell_type": "code",
   "execution_count": 53,
   "metadata": {
    "scrolled": true
   },
   "outputs": [
    {
     "name": "stdout",
     "output_type": "stream",
     "text": [
      "Train on 55000 samples, validate on 5000 samples\n",
      "Epoch 1/5\n",
      "55000/55000 [==============================] - 24s 443us/sample - loss: 1.3436 - accuracy: 0.4844 - val_loss: 0.8793 - val_accuracy: 0.6660\n",
      "Epoch 2/5\n",
      "55000/55000 [==============================] - 21s 384us/sample - loss: 0.9516 - accuracy: 0.6285 - val_loss: 0.7473 - val_accuracy: 0.7112\n",
      "Epoch 3/5\n",
      "55000/55000 [==============================] - 21s 383us/sample - loss: 0.7206 - accuracy: 0.7265 - val_loss: 0.8219 - val_accuracy: 0.6916\n",
      "Epoch 4/5\n",
      "55000/55000 [==============================] - 21s 385us/sample - loss: 0.6319 - accuracy: 0.7713 - val_loss: 0.6082 - val_accuracy: 0.7890\n",
      "Epoch 5/5\n",
      "55000/55000 [==============================] - 22s 393us/sample - loss: 0.6742 - accuracy: 0.7607 - val_loss: 0.6845 - val_accuracy: 0.7598\n"
     ]
    }
   ],
   "source": [
    "hist = model.fit(X_train_scaled, y_train, epochs=5, validation_data=(X_valid_scaled, y_valid))"
   ]
  },
  {
   "cell_type": "code",
   "execution_count": 54,
   "metadata": {},
   "outputs": [],
   "source": [
    "model = keras.models.Sequential()\n",
    "model.add(keras.layers.Flatten(input_shape=[28, 28]))\n",
    "model.add(keras.layers.Dense(300, activation='relu', kernel_initializer=\"lecun_normal\"))\n",
    "for layer in range(99):\n",
    "    model.add(keras.layers.Dense(100, activation='relu',\n",
    "                                 kernel_initializer='lecun_normal'))\n",
    "model.add(keras.layers.Dense(10, activation='softmax'))"
   ]
  },
  {
   "cell_type": "code",
   "execution_count": 55,
   "metadata": {},
   "outputs": [],
   "source": [
    "model.compile(loss='sparse_categorical_crossentropy',\n",
    "              optimizer=keras.optimizers.SGD(lr=1e-3),\n",
    "              metrics=['accuracy'])"
   ]
  },
  {
   "cell_type": "code",
   "execution_count": 56,
   "metadata": {
    "scrolled": true
   },
   "outputs": [
    {
     "name": "stdout",
     "output_type": "stream",
     "text": [
      "Train on 55000 samples, validate on 5000 samples\n",
      "Epoch 1/5\n",
      "55000/55000 [==============================] - 23s 419us/sample - loss: 2.3026 - accuracy: 0.0991 - val_loss: 2.3026 - val_accuracy: 0.0914\n",
      "Epoch 2/5\n",
      "55000/55000 [==============================] - 20s 367us/sample - loss: 2.3026 - accuracy: 0.0989 - val_loss: 2.3026 - val_accuracy: 0.0914\n",
      "Epoch 3/5\n",
      "55000/55000 [==============================] - 20s 363us/sample - loss: 2.3026 - accuracy: 0.1000 - val_loss: 2.3027 - val_accuracy: 0.0914\n",
      "Epoch 4/5\n",
      "55000/55000 [==============================] - 20s 364us/sample - loss: 2.3026 - accuracy: 0.1008 - val_loss: 2.3027 - val_accuracy: 0.0914\n",
      "Epoch 5/5\n",
      "55000/55000 [==============================] - 20s 364us/sample - loss: 2.3026 - accuracy: 0.1008 - val_loss: 2.3027 - val_accuracy: 0.0914\n"
     ]
    }
   ],
   "source": [
    "hist = model.fit(X_train_scaled, y_train, epochs=5, validation_data=(X_valid_scaled, y_valid))"
   ]
  },
  {
   "cell_type": "code",
   "execution_count": null,
   "metadata": {},
   "outputs": [],
   "source": []
  },
  {
   "cell_type": "code",
   "execution_count": null,
   "metadata": {},
   "outputs": [],
   "source": []
  },
  {
   "cell_type": "code",
   "execution_count": null,
   "metadata": {},
   "outputs": [],
   "source": []
  },
  {
   "cell_type": "code",
   "execution_count": null,
   "metadata": {},
   "outputs": [],
   "source": []
  },
  {
   "cell_type": "code",
   "execution_count": null,
   "metadata": {},
   "outputs": [],
   "source": []
  },
  {
   "cell_type": "code",
   "execution_count": null,
   "metadata": {},
   "outputs": [],
   "source": []
  },
  {
   "cell_type": "code",
   "execution_count": null,
   "metadata": {},
   "outputs": [],
   "source": []
  }
 ],
 "metadata": {
  "kernelspec": {
   "display_name": "Python 3",
   "language": "python",
   "name": "python3"
  },
  "language_info": {
   "codemirror_mode": {
    "name": "ipython",
    "version": 3
   },
   "file_extension": ".py",
   "mimetype": "text/x-python",
   "name": "python",
   "nbconvert_exporter": "python",
   "pygments_lexer": "ipython3",
   "version": "3.7.0"
  }
 },
 "nbformat": 4,
 "nbformat_minor": 2
}
